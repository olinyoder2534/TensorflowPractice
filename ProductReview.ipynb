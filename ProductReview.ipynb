{
  "nbformat": 4,
  "nbformat_minor": 0,
  "metadata": {
    "colab": {
      "provenance": [],
      "authorship_tag": "ABX9TyPQyYuRyBlW+8UAyCa7O4Wx",
      "include_colab_link": true
    },
    "kernelspec": {
      "name": "python3",
      "display_name": "Python 3"
    },
    "language_info": {
      "name": "python"
    }
  },
  "cells": [
    {
      "cell_type": "markdown",
      "metadata": {
        "id": "view-in-github",
        "colab_type": "text"
      },
      "source": [
        "<a href=\"https://colab.research.google.com/github/olinyoder2534/TensorflowPractice/blob/main/ProductReview.ipynb\" target=\"_parent\"><img src=\"https://colab.research.google.com/assets/colab-badge.svg\" alt=\"Open In Colab\"/></a>"
      ]
    },
    {
      "cell_type": "code",
      "execution_count": 1,
      "metadata": {
        "id": "cKp_TeQ5EcPe"
      },
      "outputs": [],
      "source": [
        "import gensim\n",
        "import pandas as pd"
      ]
    },
    {
      "cell_type": "code",
      "source": [
        "import matplotlib.pyplot as plt"
      ],
      "metadata": {
        "id": "YBKDmfeyIVI7"
      },
      "execution_count": 2,
      "outputs": []
    },
    {
      "cell_type": "code",
      "source": [
        "pip install python-Levenshtein"
      ],
      "metadata": {
        "colab": {
          "base_uri": "https://localhost:8080/"
        },
        "id": "2mE0uV0jEj4e",
        "outputId": "5c17a478-9c18-4ec1-bf80-b3bcb441e5ce"
      },
      "execution_count": 3,
      "outputs": [
        {
          "output_type": "stream",
          "name": "stdout",
          "text": [
            "Requirement already satisfied: python-Levenshtein in /usr/local/lib/python3.10/dist-packages (0.25.0)\n",
            "Requirement already satisfied: Levenshtein==0.25.0 in /usr/local/lib/python3.10/dist-packages (from python-Levenshtein) (0.25.0)\n",
            "Requirement already satisfied: rapidfuzz<4.0.0,>=3.1.0 in /usr/local/lib/python3.10/dist-packages (from Levenshtein==0.25.0->python-Levenshtein) (3.7.0)\n"
          ]
        }
      ]
    },
    {
      "cell_type": "markdown",
      "source": [
        "Exploration"
      ],
      "metadata": {
        "id": "f-C_Xws8HXi_"
      }
    },
    {
      "cell_type": "code",
      "source": [
        "df = pd.read_json(\"/content/reviews_Cell_Phones_and_Accessories_5.json.gz\", lines=True)\n",
        "#df"
      ],
      "metadata": {
        "id": "ZtadpwuiFcCp"
      },
      "execution_count": 4,
      "outputs": []
    },
    {
      "cell_type": "code",
      "source": [
        "df.head(4)"
      ],
      "metadata": {
        "colab": {
          "base_uri": "https://localhost:8080/",
          "height": 175
        },
        "id": "AEv6U2v5HH4O",
        "outputId": "bafa18ff-e628-4de8-acbc-c443a5a9e19d"
      },
      "execution_count": 5,
      "outputs": [
        {
          "output_type": "execute_result",
          "data": {
            "text/plain": [
              "       reviewerID        asin reviewerName helpful  \\\n",
              "0  A30TL5EWN6DFXT  120401325X    christina  [0, 0]   \n",
              "1   ASY55RVNIL0UD  120401325X     emily l.  [0, 0]   \n",
              "2  A2TMXE2AFO7ONB  120401325X        Erica  [0, 0]   \n",
              "3   AWJ0WZQYMYFQ4  120401325X           JM  [4, 4]   \n",
              "\n",
              "                                          reviewText  overall  \\\n",
              "0  They look good and stick good! I just don't li...        4   \n",
              "1  These stickers work like the review says they ...        5   \n",
              "2  These are awesome and make my phone look so st...        5   \n",
              "3  Item arrived in great time and was in perfect ...        4   \n",
              "\n",
              "                 summary  unixReviewTime   reviewTime  \n",
              "0             Looks Good      1400630400  05 21, 2014  \n",
              "1  Really great product.      1389657600  01 14, 2014  \n",
              "2         LOVE LOVE LOVE      1403740800  06 26, 2014  \n",
              "3                  Cute!      1382313600  10 21, 2013  "
            ],
            "text/html": [
              "\n",
              "  <div id=\"df-ca6fb202-d61f-45e7-81e3-f46f4ee7d66a\" class=\"colab-df-container\">\n",
              "    <div>\n",
              "<style scoped>\n",
              "    .dataframe tbody tr th:only-of-type {\n",
              "        vertical-align: middle;\n",
              "    }\n",
              "\n",
              "    .dataframe tbody tr th {\n",
              "        vertical-align: top;\n",
              "    }\n",
              "\n",
              "    .dataframe thead th {\n",
              "        text-align: right;\n",
              "    }\n",
              "</style>\n",
              "<table border=\"1\" class=\"dataframe\">\n",
              "  <thead>\n",
              "    <tr style=\"text-align: right;\">\n",
              "      <th></th>\n",
              "      <th>reviewerID</th>\n",
              "      <th>asin</th>\n",
              "      <th>reviewerName</th>\n",
              "      <th>helpful</th>\n",
              "      <th>reviewText</th>\n",
              "      <th>overall</th>\n",
              "      <th>summary</th>\n",
              "      <th>unixReviewTime</th>\n",
              "      <th>reviewTime</th>\n",
              "    </tr>\n",
              "  </thead>\n",
              "  <tbody>\n",
              "    <tr>\n",
              "      <th>0</th>\n",
              "      <td>A30TL5EWN6DFXT</td>\n",
              "      <td>120401325X</td>\n",
              "      <td>christina</td>\n",
              "      <td>[0, 0]</td>\n",
              "      <td>They look good and stick good! I just don't li...</td>\n",
              "      <td>4</td>\n",
              "      <td>Looks Good</td>\n",
              "      <td>1400630400</td>\n",
              "      <td>05 21, 2014</td>\n",
              "    </tr>\n",
              "    <tr>\n",
              "      <th>1</th>\n",
              "      <td>ASY55RVNIL0UD</td>\n",
              "      <td>120401325X</td>\n",
              "      <td>emily l.</td>\n",
              "      <td>[0, 0]</td>\n",
              "      <td>These stickers work like the review says they ...</td>\n",
              "      <td>5</td>\n",
              "      <td>Really great product.</td>\n",
              "      <td>1389657600</td>\n",
              "      <td>01 14, 2014</td>\n",
              "    </tr>\n",
              "    <tr>\n",
              "      <th>2</th>\n",
              "      <td>A2TMXE2AFO7ONB</td>\n",
              "      <td>120401325X</td>\n",
              "      <td>Erica</td>\n",
              "      <td>[0, 0]</td>\n",
              "      <td>These are awesome and make my phone look so st...</td>\n",
              "      <td>5</td>\n",
              "      <td>LOVE LOVE LOVE</td>\n",
              "      <td>1403740800</td>\n",
              "      <td>06 26, 2014</td>\n",
              "    </tr>\n",
              "    <tr>\n",
              "      <th>3</th>\n",
              "      <td>AWJ0WZQYMYFQ4</td>\n",
              "      <td>120401325X</td>\n",
              "      <td>JM</td>\n",
              "      <td>[4, 4]</td>\n",
              "      <td>Item arrived in great time and was in perfect ...</td>\n",
              "      <td>4</td>\n",
              "      <td>Cute!</td>\n",
              "      <td>1382313600</td>\n",
              "      <td>10 21, 2013</td>\n",
              "    </tr>\n",
              "  </tbody>\n",
              "</table>\n",
              "</div>\n",
              "    <div class=\"colab-df-buttons\">\n",
              "\n",
              "  <div class=\"colab-df-container\">\n",
              "    <button class=\"colab-df-convert\" onclick=\"convertToInteractive('df-ca6fb202-d61f-45e7-81e3-f46f4ee7d66a')\"\n",
              "            title=\"Convert this dataframe to an interactive table.\"\n",
              "            style=\"display:none;\">\n",
              "\n",
              "  <svg xmlns=\"http://www.w3.org/2000/svg\" height=\"24px\" viewBox=\"0 -960 960 960\">\n",
              "    <path d=\"M120-120v-720h720v720H120Zm60-500h600v-160H180v160Zm220 220h160v-160H400v160Zm0 220h160v-160H400v160ZM180-400h160v-160H180v160Zm440 0h160v-160H620v160ZM180-180h160v-160H180v160Zm440 0h160v-160H620v160Z\"/>\n",
              "  </svg>\n",
              "    </button>\n",
              "\n",
              "  <style>\n",
              "    .colab-df-container {\n",
              "      display:flex;\n",
              "      gap: 12px;\n",
              "    }\n",
              "\n",
              "    .colab-df-convert {\n",
              "      background-color: #E8F0FE;\n",
              "      border: none;\n",
              "      border-radius: 50%;\n",
              "      cursor: pointer;\n",
              "      display: none;\n",
              "      fill: #1967D2;\n",
              "      height: 32px;\n",
              "      padding: 0 0 0 0;\n",
              "      width: 32px;\n",
              "    }\n",
              "\n",
              "    .colab-df-convert:hover {\n",
              "      background-color: #E2EBFA;\n",
              "      box-shadow: 0px 1px 2px rgba(60, 64, 67, 0.3), 0px 1px 3px 1px rgba(60, 64, 67, 0.15);\n",
              "      fill: #174EA6;\n",
              "    }\n",
              "\n",
              "    .colab-df-buttons div {\n",
              "      margin-bottom: 4px;\n",
              "    }\n",
              "\n",
              "    [theme=dark] .colab-df-convert {\n",
              "      background-color: #3B4455;\n",
              "      fill: #D2E3FC;\n",
              "    }\n",
              "\n",
              "    [theme=dark] .colab-df-convert:hover {\n",
              "      background-color: #434B5C;\n",
              "      box-shadow: 0px 1px 3px 1px rgba(0, 0, 0, 0.15);\n",
              "      filter: drop-shadow(0px 1px 2px rgba(0, 0, 0, 0.3));\n",
              "      fill: #FFFFFF;\n",
              "    }\n",
              "  </style>\n",
              "\n",
              "    <script>\n",
              "      const buttonEl =\n",
              "        document.querySelector('#df-ca6fb202-d61f-45e7-81e3-f46f4ee7d66a button.colab-df-convert');\n",
              "      buttonEl.style.display =\n",
              "        google.colab.kernel.accessAllowed ? 'block' : 'none';\n",
              "\n",
              "      async function convertToInteractive(key) {\n",
              "        const element = document.querySelector('#df-ca6fb202-d61f-45e7-81e3-f46f4ee7d66a');\n",
              "        const dataTable =\n",
              "          await google.colab.kernel.invokeFunction('convertToInteractive',\n",
              "                                                    [key], {});\n",
              "        if (!dataTable) return;\n",
              "\n",
              "        const docLinkHtml = 'Like what you see? Visit the ' +\n",
              "          '<a target=\"_blank\" href=https://colab.research.google.com/notebooks/data_table.ipynb>data table notebook</a>'\n",
              "          + ' to learn more about interactive tables.';\n",
              "        element.innerHTML = '';\n",
              "        dataTable['output_type'] = 'display_data';\n",
              "        await google.colab.output.renderOutput(dataTable, element);\n",
              "        const docLink = document.createElement('div');\n",
              "        docLink.innerHTML = docLinkHtml;\n",
              "        element.appendChild(docLink);\n",
              "      }\n",
              "    </script>\n",
              "  </div>\n",
              "\n",
              "\n",
              "<div id=\"df-3148a566-5412-449c-9db0-422f0157a3a1\">\n",
              "  <button class=\"colab-df-quickchart\" onclick=\"quickchart('df-3148a566-5412-449c-9db0-422f0157a3a1')\"\n",
              "            title=\"Suggest charts\"\n",
              "            style=\"display:none;\">\n",
              "\n",
              "<svg xmlns=\"http://www.w3.org/2000/svg\" height=\"24px\"viewBox=\"0 0 24 24\"\n",
              "     width=\"24px\">\n",
              "    <g>\n",
              "        <path d=\"M19 3H5c-1.1 0-2 .9-2 2v14c0 1.1.9 2 2 2h14c1.1 0 2-.9 2-2V5c0-1.1-.9-2-2-2zM9 17H7v-7h2v7zm4 0h-2V7h2v10zm4 0h-2v-4h2v4z\"/>\n",
              "    </g>\n",
              "</svg>\n",
              "  </button>\n",
              "\n",
              "<style>\n",
              "  .colab-df-quickchart {\n",
              "      --bg-color: #E8F0FE;\n",
              "      --fill-color: #1967D2;\n",
              "      --hover-bg-color: #E2EBFA;\n",
              "      --hover-fill-color: #174EA6;\n",
              "      --disabled-fill-color: #AAA;\n",
              "      --disabled-bg-color: #DDD;\n",
              "  }\n",
              "\n",
              "  [theme=dark] .colab-df-quickchart {\n",
              "      --bg-color: #3B4455;\n",
              "      --fill-color: #D2E3FC;\n",
              "      --hover-bg-color: #434B5C;\n",
              "      --hover-fill-color: #FFFFFF;\n",
              "      --disabled-bg-color: #3B4455;\n",
              "      --disabled-fill-color: #666;\n",
              "  }\n",
              "\n",
              "  .colab-df-quickchart {\n",
              "    background-color: var(--bg-color);\n",
              "    border: none;\n",
              "    border-radius: 50%;\n",
              "    cursor: pointer;\n",
              "    display: none;\n",
              "    fill: var(--fill-color);\n",
              "    height: 32px;\n",
              "    padding: 0;\n",
              "    width: 32px;\n",
              "  }\n",
              "\n",
              "  .colab-df-quickchart:hover {\n",
              "    background-color: var(--hover-bg-color);\n",
              "    box-shadow: 0 1px 2px rgba(60, 64, 67, 0.3), 0 1px 3px 1px rgba(60, 64, 67, 0.15);\n",
              "    fill: var(--button-hover-fill-color);\n",
              "  }\n",
              "\n",
              "  .colab-df-quickchart-complete:disabled,\n",
              "  .colab-df-quickchart-complete:disabled:hover {\n",
              "    background-color: var(--disabled-bg-color);\n",
              "    fill: var(--disabled-fill-color);\n",
              "    box-shadow: none;\n",
              "  }\n",
              "\n",
              "  .colab-df-spinner {\n",
              "    border: 2px solid var(--fill-color);\n",
              "    border-color: transparent;\n",
              "    border-bottom-color: var(--fill-color);\n",
              "    animation:\n",
              "      spin 1s steps(1) infinite;\n",
              "  }\n",
              "\n",
              "  @keyframes spin {\n",
              "    0% {\n",
              "      border-color: transparent;\n",
              "      border-bottom-color: var(--fill-color);\n",
              "      border-left-color: var(--fill-color);\n",
              "    }\n",
              "    20% {\n",
              "      border-color: transparent;\n",
              "      border-left-color: var(--fill-color);\n",
              "      border-top-color: var(--fill-color);\n",
              "    }\n",
              "    30% {\n",
              "      border-color: transparent;\n",
              "      border-left-color: var(--fill-color);\n",
              "      border-top-color: var(--fill-color);\n",
              "      border-right-color: var(--fill-color);\n",
              "    }\n",
              "    40% {\n",
              "      border-color: transparent;\n",
              "      border-right-color: var(--fill-color);\n",
              "      border-top-color: var(--fill-color);\n",
              "    }\n",
              "    60% {\n",
              "      border-color: transparent;\n",
              "      border-right-color: var(--fill-color);\n",
              "    }\n",
              "    80% {\n",
              "      border-color: transparent;\n",
              "      border-right-color: var(--fill-color);\n",
              "      border-bottom-color: var(--fill-color);\n",
              "    }\n",
              "    90% {\n",
              "      border-color: transparent;\n",
              "      border-bottom-color: var(--fill-color);\n",
              "    }\n",
              "  }\n",
              "</style>\n",
              "\n",
              "  <script>\n",
              "    async function quickchart(key) {\n",
              "      const quickchartButtonEl =\n",
              "        document.querySelector('#' + key + ' button');\n",
              "      quickchartButtonEl.disabled = true;  // To prevent multiple clicks.\n",
              "      quickchartButtonEl.classList.add('colab-df-spinner');\n",
              "      try {\n",
              "        const charts = await google.colab.kernel.invokeFunction(\n",
              "            'suggestCharts', [key], {});\n",
              "      } catch (error) {\n",
              "        console.error('Error during call to suggestCharts:', error);\n",
              "      }\n",
              "      quickchartButtonEl.classList.remove('colab-df-spinner');\n",
              "      quickchartButtonEl.classList.add('colab-df-quickchart-complete');\n",
              "    }\n",
              "    (() => {\n",
              "      let quickchartButtonEl =\n",
              "        document.querySelector('#df-3148a566-5412-449c-9db0-422f0157a3a1 button');\n",
              "      quickchartButtonEl.style.display =\n",
              "        google.colab.kernel.accessAllowed ? 'block' : 'none';\n",
              "    })();\n",
              "  </script>\n",
              "</div>\n",
              "    </div>\n",
              "  </div>\n"
            ],
            "application/vnd.google.colaboratory.intrinsic+json": {
              "type": "dataframe",
              "variable_name": "df"
            }
          },
          "metadata": {},
          "execution_count": 5
        }
      ]
    },
    {
      "cell_type": "code",
      "source": [
        "print(\"Max: {}\".format(df['reviewText'].str.len().max()))\n",
        "print(\"Mean: {}\".format(round(df['reviewText'].str.len().mean(),3)))\n",
        "print(\"Median: {}\".format(df['reviewText'].str.len().median()))"
      ],
      "metadata": {
        "colab": {
          "base_uri": "https://localhost:8080/"
        },
        "id": "4_Lxi0-uMEHS",
        "outputId": "28827127-b093-4df0-d465-e775157b0e56"
      },
      "execution_count": 6,
      "outputs": [
        {
          "output_type": "stream",
          "name": "stdout",
          "text": [
            "Max: 32110\n",
            "Mean: 491.84\n",
            "Median: 248.0\n"
          ]
        }
      ]
    },
    {
      "cell_type": "code",
      "source": [
        "df['overall'].value_counts()\n",
        "#mostly positive reviews"
      ],
      "metadata": {
        "colab": {
          "base_uri": "https://localhost:8080/"
        },
        "id": "cBW9H2yPIYN6",
        "outputId": "dc3ec446-1865-49b9-db77-186ed354925c"
      },
      "execution_count": 7,
      "outputs": [
        {
          "output_type": "execute_result",
          "data": {
            "text/plain": [
              "overall\n",
              "5    108664\n",
              "4     39993\n",
              "3     21439\n",
              "1     13279\n",
              "2     11064\n",
              "Name: count, dtype: int64"
            ]
          },
          "metadata": {},
          "execution_count": 7
        }
      ]
    },
    {
      "cell_type": "code",
      "source": [
        "print(\"Mean: {}\".format(round(df['overall'].mean(),3)))\n",
        "print(\"Median: {}\".format(df['overall'].median()))"
      ],
      "metadata": {
        "colab": {
          "base_uri": "https://localhost:8080/"
        },
        "id": "aiOFLOy3JSPX",
        "outputId": "e5d32340-d9c1-4b21-e808-b4892d0f3298"
      },
      "execution_count": 8,
      "outputs": [
        {
          "output_type": "stream",
          "name": "stdout",
          "text": [
            "Mean: 4.13\n",
            "Median: 5.0\n"
          ]
        }
      ]
    },
    {
      "cell_type": "code",
      "source": [
        "df.shape"
      ],
      "metadata": {
        "colab": {
          "base_uri": "https://localhost:8080/"
        },
        "id": "ZqrAhyorFtGZ",
        "outputId": "b2109e3a-59fc-40dc-8be7-cfc70c885dd6"
      },
      "execution_count": 9,
      "outputs": [
        {
          "output_type": "execute_result",
          "data": {
            "text/plain": [
              "(194439, 9)"
            ]
          },
          "metadata": {},
          "execution_count": 9
        }
      ]
    },
    {
      "cell_type": "code",
      "source": [
        "print(df.dtypes)"
      ],
      "metadata": {
        "colab": {
          "base_uri": "https://localhost:8080/"
        },
        "id": "IyxLsPteFtI-",
        "outputId": "1d176835-b3de-4b22-d444-c39573ea4137"
      },
      "execution_count": 10,
      "outputs": [
        {
          "output_type": "stream",
          "name": "stdout",
          "text": [
            "reviewerID        object\n",
            "asin              object\n",
            "reviewerName      object\n",
            "helpful           object\n",
            "reviewText        object\n",
            "overall            int64\n",
            "summary           object\n",
            "unixReviewTime     int64\n",
            "reviewTime        object\n",
            "dtype: object\n"
          ]
        }
      ]
    },
    {
      "cell_type": "code",
      "source": [
        "df.isna().sum()\n",
        "#not going to need reviewName so fine to leave NAs in"
      ],
      "metadata": {
        "colab": {
          "base_uri": "https://localhost:8080/"
        },
        "id": "BmLKPtpoFtLt",
        "outputId": "e2f56761-e730-41b1-acfe-6846bcee4976"
      },
      "execution_count": 11,
      "outputs": [
        {
          "output_type": "execute_result",
          "data": {
            "text/plain": [
              "reviewerID           0\n",
              "asin                 0\n",
              "reviewerName      3519\n",
              "helpful              0\n",
              "reviewText           0\n",
              "overall              0\n",
              "summary              0\n",
              "unixReviewTime       0\n",
              "reviewTime           0\n",
              "dtype: int64"
            ]
          },
          "metadata": {},
          "execution_count": 11
        }
      ]
    },
    {
      "cell_type": "markdown",
      "source": [
        "Preprocessing"
      ],
      "metadata": {
        "id": "A_ztovoxHsxR"
      }
    },
    {
      "cell_type": "code",
      "source": [
        "#I don't have enough RAM to run models using the entire dataset, so I'm taking a random subset of 10,000 records\n",
        "\n",
        "subset_df = df.sample(n=10000, random_state=42)"
      ],
      "metadata": {
        "id": "oSL7Jze1RTN7"
      },
      "execution_count": 12,
      "outputs": []
    },
    {
      "cell_type": "code",
      "source": [
        "subset_df.shape"
      ],
      "metadata": {
        "colab": {
          "base_uri": "https://localhost:8080/"
        },
        "id": "pnYOx4t5Tk7R",
        "outputId": "736286bc-880e-4b07-f0a3-7aed513ce8ff"
      },
      "execution_count": 13,
      "outputs": [
        {
          "output_type": "execute_result",
          "data": {
            "text/plain": [
              "(10000, 9)"
            ]
          },
          "metadata": {},
          "execution_count": 13
        }
      ]
    },
    {
      "cell_type": "code",
      "source": [
        "subset_df.head(4)"
      ],
      "metadata": {
        "colab": {
          "base_uri": "https://localhost:8080/",
          "height": 175
        },
        "id": "_-PHAByrWSX-",
        "outputId": "13338ade-dfc5-4182-a4f7-fd65beac9ed6"
      },
      "execution_count": 14,
      "outputs": [
        {
          "output_type": "execute_result",
          "data": {
            "text/plain": [
              "            reviewerID        asin       reviewerName helpful  \\\n",
              "156187  A1P3ACSVXZ1JUM  B00C0ZKI9Q              LO127  [0, 0]   \n",
              "102252  A2Z3IZDQUIDRR9  B008FQVO5G            yogitim  [8, 8]   \n",
              "23146   A3EOVXI1VZIHUQ  B003Y74AZ2  Z. Freeman \"Zach\"  [1, 2]   \n",
              "86461    AWU526GBZ64MH  B007ZL0TJ4               Bree  [0, 0]   \n",
              "\n",
              "                                               reviewText  overall  \\\n",
              "156187  iBOLT xProDock Active Car Dock/Holder/Mount fo...        5   \n",
              "102252  This pouch is everything that I was looking fo...        5   \n",
              "23146   First of all - the case I had on my iPhone 4 p...        3   \n",
              "86461   I ordered this case because I had the same cas...        5   \n",
              "\n",
              "                                       summary  unixReviewTime   reviewTime  \n",
              "156187                          Fits perfectly      1372032000  06 24, 2013  \n",
              "102252                            Great Pouch!      1361577600  02 23, 2013  \n",
              "23146   An average iPhone case - nothing fancy      1296604800   02 2, 2011  \n",
              "86461                               Great Case      1379635200  09 20, 2013  "
            ],
            "text/html": [
              "\n",
              "  <div id=\"df-64077d3b-5512-47b5-a396-7028e74886ee\" class=\"colab-df-container\">\n",
              "    <div>\n",
              "<style scoped>\n",
              "    .dataframe tbody tr th:only-of-type {\n",
              "        vertical-align: middle;\n",
              "    }\n",
              "\n",
              "    .dataframe tbody tr th {\n",
              "        vertical-align: top;\n",
              "    }\n",
              "\n",
              "    .dataframe thead th {\n",
              "        text-align: right;\n",
              "    }\n",
              "</style>\n",
              "<table border=\"1\" class=\"dataframe\">\n",
              "  <thead>\n",
              "    <tr style=\"text-align: right;\">\n",
              "      <th></th>\n",
              "      <th>reviewerID</th>\n",
              "      <th>asin</th>\n",
              "      <th>reviewerName</th>\n",
              "      <th>helpful</th>\n",
              "      <th>reviewText</th>\n",
              "      <th>overall</th>\n",
              "      <th>summary</th>\n",
              "      <th>unixReviewTime</th>\n",
              "      <th>reviewTime</th>\n",
              "    </tr>\n",
              "  </thead>\n",
              "  <tbody>\n",
              "    <tr>\n",
              "      <th>156187</th>\n",
              "      <td>A1P3ACSVXZ1JUM</td>\n",
              "      <td>B00C0ZKI9Q</td>\n",
              "      <td>LO127</td>\n",
              "      <td>[0, 0]</td>\n",
              "      <td>iBOLT xProDock Active Car Dock/Holder/Mount fo...</td>\n",
              "      <td>5</td>\n",
              "      <td>Fits perfectly</td>\n",
              "      <td>1372032000</td>\n",
              "      <td>06 24, 2013</td>\n",
              "    </tr>\n",
              "    <tr>\n",
              "      <th>102252</th>\n",
              "      <td>A2Z3IZDQUIDRR9</td>\n",
              "      <td>B008FQVO5G</td>\n",
              "      <td>yogitim</td>\n",
              "      <td>[8, 8]</td>\n",
              "      <td>This pouch is everything that I was looking fo...</td>\n",
              "      <td>5</td>\n",
              "      <td>Great Pouch!</td>\n",
              "      <td>1361577600</td>\n",
              "      <td>02 23, 2013</td>\n",
              "    </tr>\n",
              "    <tr>\n",
              "      <th>23146</th>\n",
              "      <td>A3EOVXI1VZIHUQ</td>\n",
              "      <td>B003Y74AZ2</td>\n",
              "      <td>Z. Freeman \"Zach\"</td>\n",
              "      <td>[1, 2]</td>\n",
              "      <td>First of all - the case I had on my iPhone 4 p...</td>\n",
              "      <td>3</td>\n",
              "      <td>An average iPhone case - nothing fancy</td>\n",
              "      <td>1296604800</td>\n",
              "      <td>02 2, 2011</td>\n",
              "    </tr>\n",
              "    <tr>\n",
              "      <th>86461</th>\n",
              "      <td>AWU526GBZ64MH</td>\n",
              "      <td>B007ZL0TJ4</td>\n",
              "      <td>Bree</td>\n",
              "      <td>[0, 0]</td>\n",
              "      <td>I ordered this case because I had the same cas...</td>\n",
              "      <td>5</td>\n",
              "      <td>Great Case</td>\n",
              "      <td>1379635200</td>\n",
              "      <td>09 20, 2013</td>\n",
              "    </tr>\n",
              "  </tbody>\n",
              "</table>\n",
              "</div>\n",
              "    <div class=\"colab-df-buttons\">\n",
              "\n",
              "  <div class=\"colab-df-container\">\n",
              "    <button class=\"colab-df-convert\" onclick=\"convertToInteractive('df-64077d3b-5512-47b5-a396-7028e74886ee')\"\n",
              "            title=\"Convert this dataframe to an interactive table.\"\n",
              "            style=\"display:none;\">\n",
              "\n",
              "  <svg xmlns=\"http://www.w3.org/2000/svg\" height=\"24px\" viewBox=\"0 -960 960 960\">\n",
              "    <path d=\"M120-120v-720h720v720H120Zm60-500h600v-160H180v160Zm220 220h160v-160H400v160Zm0 220h160v-160H400v160ZM180-400h160v-160H180v160Zm440 0h160v-160H620v160ZM180-180h160v-160H180v160Zm440 0h160v-160H620v160Z\"/>\n",
              "  </svg>\n",
              "    </button>\n",
              "\n",
              "  <style>\n",
              "    .colab-df-container {\n",
              "      display:flex;\n",
              "      gap: 12px;\n",
              "    }\n",
              "\n",
              "    .colab-df-convert {\n",
              "      background-color: #E8F0FE;\n",
              "      border: none;\n",
              "      border-radius: 50%;\n",
              "      cursor: pointer;\n",
              "      display: none;\n",
              "      fill: #1967D2;\n",
              "      height: 32px;\n",
              "      padding: 0 0 0 0;\n",
              "      width: 32px;\n",
              "    }\n",
              "\n",
              "    .colab-df-convert:hover {\n",
              "      background-color: #E2EBFA;\n",
              "      box-shadow: 0px 1px 2px rgba(60, 64, 67, 0.3), 0px 1px 3px 1px rgba(60, 64, 67, 0.15);\n",
              "      fill: #174EA6;\n",
              "    }\n",
              "\n",
              "    .colab-df-buttons div {\n",
              "      margin-bottom: 4px;\n",
              "    }\n",
              "\n",
              "    [theme=dark] .colab-df-convert {\n",
              "      background-color: #3B4455;\n",
              "      fill: #D2E3FC;\n",
              "    }\n",
              "\n",
              "    [theme=dark] .colab-df-convert:hover {\n",
              "      background-color: #434B5C;\n",
              "      box-shadow: 0px 1px 3px 1px rgba(0, 0, 0, 0.15);\n",
              "      filter: drop-shadow(0px 1px 2px rgba(0, 0, 0, 0.3));\n",
              "      fill: #FFFFFF;\n",
              "    }\n",
              "  </style>\n",
              "\n",
              "    <script>\n",
              "      const buttonEl =\n",
              "        document.querySelector('#df-64077d3b-5512-47b5-a396-7028e74886ee button.colab-df-convert');\n",
              "      buttonEl.style.display =\n",
              "        google.colab.kernel.accessAllowed ? 'block' : 'none';\n",
              "\n",
              "      async function convertToInteractive(key) {\n",
              "        const element = document.querySelector('#df-64077d3b-5512-47b5-a396-7028e74886ee');\n",
              "        const dataTable =\n",
              "          await google.colab.kernel.invokeFunction('convertToInteractive',\n",
              "                                                    [key], {});\n",
              "        if (!dataTable) return;\n",
              "\n",
              "        const docLinkHtml = 'Like what you see? Visit the ' +\n",
              "          '<a target=\"_blank\" href=https://colab.research.google.com/notebooks/data_table.ipynb>data table notebook</a>'\n",
              "          + ' to learn more about interactive tables.';\n",
              "        element.innerHTML = '';\n",
              "        dataTable['output_type'] = 'display_data';\n",
              "        await google.colab.output.renderOutput(dataTable, element);\n",
              "        const docLink = document.createElement('div');\n",
              "        docLink.innerHTML = docLinkHtml;\n",
              "        element.appendChild(docLink);\n",
              "      }\n",
              "    </script>\n",
              "  </div>\n",
              "\n",
              "\n",
              "<div id=\"df-903ae97a-877e-4d8e-ae0c-f1422349a496\">\n",
              "  <button class=\"colab-df-quickchart\" onclick=\"quickchart('df-903ae97a-877e-4d8e-ae0c-f1422349a496')\"\n",
              "            title=\"Suggest charts\"\n",
              "            style=\"display:none;\">\n",
              "\n",
              "<svg xmlns=\"http://www.w3.org/2000/svg\" height=\"24px\"viewBox=\"0 0 24 24\"\n",
              "     width=\"24px\">\n",
              "    <g>\n",
              "        <path d=\"M19 3H5c-1.1 0-2 .9-2 2v14c0 1.1.9 2 2 2h14c1.1 0 2-.9 2-2V5c0-1.1-.9-2-2-2zM9 17H7v-7h2v7zm4 0h-2V7h2v10zm4 0h-2v-4h2v4z\"/>\n",
              "    </g>\n",
              "</svg>\n",
              "  </button>\n",
              "\n",
              "<style>\n",
              "  .colab-df-quickchart {\n",
              "      --bg-color: #E8F0FE;\n",
              "      --fill-color: #1967D2;\n",
              "      --hover-bg-color: #E2EBFA;\n",
              "      --hover-fill-color: #174EA6;\n",
              "      --disabled-fill-color: #AAA;\n",
              "      --disabled-bg-color: #DDD;\n",
              "  }\n",
              "\n",
              "  [theme=dark] .colab-df-quickchart {\n",
              "      --bg-color: #3B4455;\n",
              "      --fill-color: #D2E3FC;\n",
              "      --hover-bg-color: #434B5C;\n",
              "      --hover-fill-color: #FFFFFF;\n",
              "      --disabled-bg-color: #3B4455;\n",
              "      --disabled-fill-color: #666;\n",
              "  }\n",
              "\n",
              "  .colab-df-quickchart {\n",
              "    background-color: var(--bg-color);\n",
              "    border: none;\n",
              "    border-radius: 50%;\n",
              "    cursor: pointer;\n",
              "    display: none;\n",
              "    fill: var(--fill-color);\n",
              "    height: 32px;\n",
              "    padding: 0;\n",
              "    width: 32px;\n",
              "  }\n",
              "\n",
              "  .colab-df-quickchart:hover {\n",
              "    background-color: var(--hover-bg-color);\n",
              "    box-shadow: 0 1px 2px rgba(60, 64, 67, 0.3), 0 1px 3px 1px rgba(60, 64, 67, 0.15);\n",
              "    fill: var(--button-hover-fill-color);\n",
              "  }\n",
              "\n",
              "  .colab-df-quickchart-complete:disabled,\n",
              "  .colab-df-quickchart-complete:disabled:hover {\n",
              "    background-color: var(--disabled-bg-color);\n",
              "    fill: var(--disabled-fill-color);\n",
              "    box-shadow: none;\n",
              "  }\n",
              "\n",
              "  .colab-df-spinner {\n",
              "    border: 2px solid var(--fill-color);\n",
              "    border-color: transparent;\n",
              "    border-bottom-color: var(--fill-color);\n",
              "    animation:\n",
              "      spin 1s steps(1) infinite;\n",
              "  }\n",
              "\n",
              "  @keyframes spin {\n",
              "    0% {\n",
              "      border-color: transparent;\n",
              "      border-bottom-color: var(--fill-color);\n",
              "      border-left-color: var(--fill-color);\n",
              "    }\n",
              "    20% {\n",
              "      border-color: transparent;\n",
              "      border-left-color: var(--fill-color);\n",
              "      border-top-color: var(--fill-color);\n",
              "    }\n",
              "    30% {\n",
              "      border-color: transparent;\n",
              "      border-left-color: var(--fill-color);\n",
              "      border-top-color: var(--fill-color);\n",
              "      border-right-color: var(--fill-color);\n",
              "    }\n",
              "    40% {\n",
              "      border-color: transparent;\n",
              "      border-right-color: var(--fill-color);\n",
              "      border-top-color: var(--fill-color);\n",
              "    }\n",
              "    60% {\n",
              "      border-color: transparent;\n",
              "      border-right-color: var(--fill-color);\n",
              "    }\n",
              "    80% {\n",
              "      border-color: transparent;\n",
              "      border-right-color: var(--fill-color);\n",
              "      border-bottom-color: var(--fill-color);\n",
              "    }\n",
              "    90% {\n",
              "      border-color: transparent;\n",
              "      border-bottom-color: var(--fill-color);\n",
              "    }\n",
              "  }\n",
              "</style>\n",
              "\n",
              "  <script>\n",
              "    async function quickchart(key) {\n",
              "      const quickchartButtonEl =\n",
              "        document.querySelector('#' + key + ' button');\n",
              "      quickchartButtonEl.disabled = true;  // To prevent multiple clicks.\n",
              "      quickchartButtonEl.classList.add('colab-df-spinner');\n",
              "      try {\n",
              "        const charts = await google.colab.kernel.invokeFunction(\n",
              "            'suggestCharts', [key], {});\n",
              "      } catch (error) {\n",
              "        console.error('Error during call to suggestCharts:', error);\n",
              "      }\n",
              "      quickchartButtonEl.classList.remove('colab-df-spinner');\n",
              "      quickchartButtonEl.classList.add('colab-df-quickchart-complete');\n",
              "    }\n",
              "    (() => {\n",
              "      let quickchartButtonEl =\n",
              "        document.querySelector('#df-903ae97a-877e-4d8e-ae0c-f1422349a496 button');\n",
              "      quickchartButtonEl.style.display =\n",
              "        google.colab.kernel.accessAllowed ? 'block' : 'none';\n",
              "    })();\n",
              "  </script>\n",
              "</div>\n",
              "    </div>\n",
              "  </div>\n"
            ],
            "application/vnd.google.colaboratory.intrinsic+json": {
              "type": "dataframe",
              "variable_name": "subset_df",
              "repr_error": "0"
            }
          },
          "metadata": {},
          "execution_count": 14
        }
      ]
    },
    {
      "cell_type": "code",
      "source": [
        "review_text = subset_df.reviewText.apply(gensim.utils.simple_preprocess)\n",
        "review_text"
      ],
      "metadata": {
        "colab": {
          "base_uri": "https://localhost:8080/"
        },
        "id": "xYwic-jaFtN-",
        "outputId": "5cac73fb-a3b8-4446-c508-bb18bde67db2"
      },
      "execution_count": 15,
      "outputs": [
        {
          "output_type": "execute_result",
          "data": {
            "text/plain": [
              "156187    [ibolt, xprodock, active, car, dock, holder, m...\n",
              "102252    [this, pouch, is, everything, that, was, looki...\n",
              "23146     [first, of, all, the, case, had, on, my, iphon...\n",
              "86461     [ordered, this, case, because, had, the, same,...\n",
              "62407     [bought, few, of, these, as, gifts, they, were...\n",
              "                                ...                        \n",
              "121486    [bought, this, specific, adapter, because, the...\n",
              "307       [ve, been, buying, these, headsets, for, sever...\n",
              "80726     [the, tylt, powerplant, is, essentially, recha...\n",
              "40551     [paid, less, than, for, this, product, for, my...\n",
              "66990     [was, hesitant, buying, this, as, have, never,...\n",
              "Name: reviewText, Length: 10000, dtype: object"
            ]
          },
          "metadata": {},
          "execution_count": 15
        }
      ]
    },
    {
      "cell_type": "code",
      "source": [
        "review_text.reset_index(drop=True, inplace=True)\n",
        "review_text.loc[0]"
      ],
      "metadata": {
        "colab": {
          "base_uri": "https://localhost:8080/"
        },
        "id": "rh3XNpyiWcef",
        "outputId": "d386ad45-e376-417a-e609-d53d992d6f16"
      },
      "execution_count": 16,
      "outputs": [
        {
          "output_type": "execute_result",
          "data": {
            "text/plain": [
              "['ibolt',\n",
              " 'xprodock',\n",
              " 'active',\n",
              " 'car',\n",
              " 'dock',\n",
              " 'holder',\n",
              " 'mount',\n",
              " 'for',\n",
              " 'samsung',\n",
              " 'galaxy',\n",
              " 'note',\n",
              " 'fits',\n",
              " 'my',\n",
              " 'galaxy',\n",
              " 'perfectly',\n",
              " 'had',\n",
              " 'to',\n",
              " 'reverse',\n",
              " 'where',\n",
              " 'the',\n",
              " 'charging',\n",
              " 'cable',\n",
              " 'went',\n",
              " 'so',\n",
              " 'that',\n",
              " 'was',\n",
              " 'not',\n",
              " 'hiding',\n",
              " 'the',\n",
              " 'volume',\n",
              " 'button',\n",
              " 'but',\n",
              " 'other',\n",
              " 'then',\n",
              " 'that',\n",
              " 'it',\n",
              " 'was',\n",
              " 'good',\n",
              " 'it',\n",
              " 'is',\n",
              " 'very',\n",
              " 'sturdy',\n",
              " 'and',\n",
              " 'works',\n",
              " 'as',\n",
              " 'good',\n",
              " 'as',\n",
              " 'the',\n",
              " 'motorola',\n",
              " 'nav',\n",
              " 'dock',\n",
              " 'had',\n",
              " 'for',\n",
              " 'my',\n",
              " 'droid',\n",
              " 'razr',\n",
              " 'the',\n",
              " 'view',\n",
              " 'from',\n",
              " 'the',\n",
              " 'camera',\n",
              " 'is',\n",
              " 'unobstructed',\n",
              " 'the',\n",
              " 'software',\n",
              " 'that',\n",
              " 'you',\n",
              " 'down',\n",
              " 'load',\n",
              " 'works',\n",
              " 'ok',\n",
              " 'was',\n",
              " 'used',\n",
              " 'to',\n",
              " 'motorola',\n",
              " 'drive',\n",
              " 'app',\n",
              " 'but',\n",
              " 'this',\n",
              " 'has',\n",
              " 'just',\n",
              " 'as',\n",
              " 'much',\n",
              " 'functionality',\n",
              " 'you',\n",
              " 'can',\n",
              " 'program',\n",
              " 'it',\n",
              " 'to',\n",
              " 'toggle',\n",
              " 'bluetooth',\n",
              " 'and',\n",
              " 'all',\n",
              " 'that']"
            ]
          },
          "metadata": {},
          "execution_count": 16
        }
      ]
    },
    {
      "cell_type": "code",
      "source": [
        "review_text"
      ],
      "metadata": {
        "colab": {
          "base_uri": "https://localhost:8080/"
        },
        "id": "TaV-lrtFSCTO",
        "outputId": "6970787a-e473-4fa5-8431-75759a3f26e3"
      },
      "execution_count": 17,
      "outputs": [
        {
          "output_type": "execute_result",
          "data": {
            "text/plain": [
              "0       [ibolt, xprodock, active, car, dock, holder, m...\n",
              "1       [this, pouch, is, everything, that, was, looki...\n",
              "2       [first, of, all, the, case, had, on, my, iphon...\n",
              "3       [ordered, this, case, because, had, the, same,...\n",
              "4       [bought, few, of, these, as, gifts, they, were...\n",
              "                              ...                        \n",
              "9995    [bought, this, specific, adapter, because, the...\n",
              "9996    [ve, been, buying, these, headsets, for, sever...\n",
              "9997    [the, tylt, powerplant, is, essentially, recha...\n",
              "9998    [paid, less, than, for, this, product, for, my...\n",
              "9999    [was, hesitant, buying, this, as, have, never,...\n",
              "Name: reviewText, Length: 10000, dtype: object"
            ]
          },
          "metadata": {},
          "execution_count": 17
        }
      ]
    },
    {
      "cell_type": "markdown",
      "source": [
        "Word2Vec"
      ],
      "metadata": {
        "id": "Op0FIpcdJ34E"
      }
    },
    {
      "cell_type": "code",
      "source": [
        "model = gensim.models.Word2Vec(\n",
        "    window=10,\n",
        "    min_count=2,\n",
        "    workers=4,\n",
        ")"
      ],
      "metadata": {
        "id": "10v3f1y8J7iS"
      },
      "execution_count": 18,
      "outputs": []
    },
    {
      "cell_type": "code",
      "source": [
        "model.build_vocab(review_text, progress_per=1000)"
      ],
      "metadata": {
        "id": "1P9NImYAJ_zC"
      },
      "execution_count": 19,
      "outputs": []
    },
    {
      "cell_type": "code",
      "source": [
        "model.train(review_text, total_examples=model.corpus_count, epochs=model.epochs)"
      ],
      "metadata": {
        "colab": {
          "base_uri": "https://localhost:8080/"
        },
        "id": "yFtt8q-pJ_1b",
        "outputId": "88df0d5f-0585-4095-cf79-8b1c5006a5c6"
      },
      "execution_count": 20,
      "outputs": [
        {
          "output_type": "execute_result",
          "data": {
            "text/plain": [
              "(3195561, 4400430)"
            ]
          },
          "metadata": {},
          "execution_count": 20
        }
      ]
    },
    {
      "cell_type": "code",
      "source": [
        "model.wv.most_similar(\"good\")"
      ],
      "metadata": {
        "colab": {
          "base_uri": "https://localhost:8080/"
        },
        "id": "LGCwJDO_J_4C",
        "outputId": "14fb665e-80da-4e88-c23b-2b9c674fafef"
      },
      "execution_count": 21,
      "outputs": [
        {
          "output_type": "execute_result",
          "data": {
            "text/plain": [
              "[('decent', 0.7649791836738586),\n",
              " ('great', 0.7439041137695312),\n",
              " ('reasonable', 0.6714552640914917),\n",
              " ('fantastic', 0.662946879863739),\n",
              " ('excellent', 0.6343739032745361),\n",
              " ('ok', 0.6304651498794556),\n",
              " ('bad', 0.621843159198761),\n",
              " ('awesome', 0.6161472797393799),\n",
              " ('cool', 0.5961876511573792),\n",
              " ('amazing', 0.5957547426223755)]"
            ]
          },
          "metadata": {},
          "execution_count": 21
        }
      ]
    },
    {
      "cell_type": "code",
      "source": [
        "model.wv.most_similar(\"bad\")"
      ],
      "metadata": {
        "colab": {
          "base_uri": "https://localhost:8080/"
        },
        "id": "uLchuW32J_6q",
        "outputId": "78ca617b-02dc-42df-a497-dc620ad8c845"
      },
      "execution_count": 22,
      "outputs": [
        {
          "output_type": "execute_result",
          "data": {
            "text/plain": [
              "[('guess', 0.7623775601387024),\n",
              " ('okay', 0.7366308569908142),\n",
              " ('disliked', 0.7272040247917175),\n",
              " ('ok', 0.7118890881538391),\n",
              " ('expecting', 0.699754536151886),\n",
              " ('pricy', 0.6766854524612427),\n",
              " ('why', 0.670758068561554),\n",
              " ('fault', 0.6451716423034668),\n",
              " ('upset', 0.6432319283485413),\n",
              " ('complain', 0.6417825222015381)]"
            ]
          },
          "metadata": {},
          "execution_count": 22
        }
      ]
    },
    {
      "cell_type": "code",
      "source": [
        "model.wv.most_similar(\"okay\")"
      ],
      "metadata": {
        "colab": {
          "base_uri": "https://localhost:8080/"
        },
        "id": "7jI5mwKWJ_9F",
        "outputId": "7f79875f-8c8c-478b-a424-7f2bcc581bf6"
      },
      "execution_count": 23,
      "outputs": [
        {
          "output_type": "execute_result",
          "data": {
            "text/plain": [
              "[('ok', 0.8932695388793945),\n",
              " ('alright', 0.8065126538276672),\n",
              " ('upset', 0.7964968085289001),\n",
              " ('pricy', 0.7736581563949585),\n",
              " ('hoped', 0.7511815428733826),\n",
              " ('real', 0.7458240389823914),\n",
              " ('intended', 0.7452399730682373),\n",
              " ('cheapy', 0.7410740256309509),\n",
              " ('expecting', 0.7405257821083069),\n",
              " ('homework', 0.7400607466697693)]"
            ]
          },
          "metadata": {},
          "execution_count": 23
        }
      ]
    },
    {
      "cell_type": "markdown",
      "source": [
        "Modeling"
      ],
      "metadata": {
        "id": "aMvPmxIYL9uB"
      }
    },
    {
      "cell_type": "code",
      "source": [
        "import numpy as np\n",
        "from sklearn.model_selection import train_test_split\n",
        "from keras.preprocessing.sequence import pad_sequences\n",
        "from keras.models import Sequential\n",
        "from keras.layers import Embedding, LSTM, Dense"
      ],
      "metadata": {
        "id": "fXyH8iN6J__h"
      },
      "execution_count": 24,
      "outputs": []
    },
    {
      "cell_type": "code",
      "source": [
        "#convert text to vector\n",
        "def text_to_vector(text):\n",
        "    words = text.split()\n",
        "    vector = np.zeros((model.vector_size,))\n",
        "    for word in words:\n",
        "        if word in model.wv:\n",
        "            vector += model.wv[word]\n",
        "    return vector"
      ],
      "metadata": {
        "id": "zAt7fH7JbKkf"
      },
      "execution_count": 25,
      "outputs": []
    },
    {
      "cell_type": "code",
      "source": [
        "X = np.array([text_to_vector(text) for text in subset_df['reviewText']])\n",
        "y = subset_df['overall']"
      ],
      "metadata": {
        "id": "04JbX9uhbSp_"
      },
      "execution_count": 26,
      "outputs": []
    },
    {
      "cell_type": "code",
      "source": [
        "X[0]"
      ],
      "metadata": {
        "colab": {
          "base_uri": "https://localhost:8080/"
        },
        "id": "3cm67qMYbU63",
        "outputId": "f2a9c396-a00b-4afa-cf85-f0ccf203ddcc"
      },
      "execution_count": 27,
      "outputs": [
        {
          "output_type": "execute_result",
          "data": {
            "text/plain": [
              "array([ 1.69542501e+01,  1.72129146e+01, -8.84188773e+00,  2.50549284e+01,\n",
              "        8.72753264e+00, -4.86853474e+01,  6.87111678e+00,  3.88049957e+01,\n",
              "       -5.95299792e+00, -2.02343764e+01, -1.64939084e+01, -2.47049149e+01,\n",
              "       -1.79247442e+01,  6.42539256e+00,  3.27612496e+01,  1.89625833e+00,\n",
              "        1.72448559e+01, -2.33217003e+01, -1.92665178e+01, -3.04472172e+01,\n",
              "        7.74862673e+00,  1.80987855e+01,  2.95924227e+01, -1.29239928e+01,\n",
              "        2.26584717e+00,  9.69479487e+00, -5.78356049e+00,  1.94496837e+01,\n",
              "       -8.02382985e+00, -1.55546422e+01, -1.96226064e+00, -7.43367564e+00,\n",
              "        1.70010579e+01,  5.49655086e+00, -1.21462963e+00,  2.97091623e+01,\n",
              "        6.24061703e+00,  1.57108159e+00, -4.59563819e+00, -2.96457462e+01,\n",
              "       -2.15846863e+01,  2.30942282e+01, -6.21434179e-01,  4.41355254e-01,\n",
              "        1.57474433e+01,  5.58337320e+00, -1.68281689e+01,  2.42149426e+01,\n",
              "        2.75606412e+01,  1.56186079e+01,  9.22261646e+00, -2.78707423e+01,\n",
              "       -4.18012352e+00, -1.12812262e+01,  1.14033570e+01,  1.28939148e+01,\n",
              "        7.86753765e+00, -5.59277778e+00, -3.20930380e+01, -6.20822077e+00,\n",
              "       -5.79344423e+00, -8.79535916e+00,  1.56791512e+01, -7.37029017e+00,\n",
              "        8.60653449e+00,  5.27557088e+01, -1.09947496e+01,  2.75011119e+01,\n",
              "       -2.57189583e+00,  1.30451318e+01, -3.32653277e+00, -6.24547453e+00,\n",
              "       -3.46914403e+00, -1.73445385e+00,  1.58159756e+01, -4.03372217e+00,\n",
              "        1.34688474e+01,  1.22914446e+01, -2.54752930e+00, -9.22034191e+00,\n",
              "       -4.18552759e+01,  2.67152802e+01, -2.68047943e+01,  1.05730105e+01,\n",
              "       -1.11825731e+01,  5.39566324e+00,  2.85611504e+01,  6.48122840e-03,\n",
              "       -1.18138676e+00,  3.24149626e+01,  3.88285061e+01, -5.33400051e+00,\n",
              "        1.17180488e+01,  1.37809527e+01,  3.51138582e+01,  1.04103875e+01,\n",
              "       -6.38109166e+00,  1.39657438e+00, -4.21190372e+01,  5.95960423e+00])"
            ]
          },
          "metadata": {},
          "execution_count": 27
        }
      ]
    },
    {
      "cell_type": "code",
      "source": [
        "y"
      ],
      "metadata": {
        "colab": {
          "base_uri": "https://localhost:8080/"
        },
        "id": "dIos0ob3bdAC",
        "outputId": "e4a19e04-9ba4-4174-9005-e0c6a487ab69"
      },
      "execution_count": 28,
      "outputs": [
        {
          "output_type": "execute_result",
          "data": {
            "text/plain": [
              "156187    5\n",
              "102252    5\n",
              "23146     3\n",
              "86461     5\n",
              "62407     5\n",
              "         ..\n",
              "121486    5\n",
              "307       5\n",
              "80726     4\n",
              "40551     5\n",
              "66990     5\n",
              "Name: overall, Length: 10000, dtype: int64"
            ]
          },
          "metadata": {},
          "execution_count": 28
        }
      ]
    },
    {
      "cell_type": "code",
      "source": [
        "y.reset_index(drop=True, inplace=True)"
      ],
      "metadata": {
        "id": "sN1GfeHNrrcX"
      },
      "execution_count": 40,
      "outputs": []
    },
    {
      "cell_type": "code",
      "source": [
        "X_train, X_test, y_train, y_test = train_test_split(X, y, test_size=0.3, random_state=42)"
      ],
      "metadata": {
        "id": "acmjGU9zMBrU"
      },
      "execution_count": 41,
      "outputs": []
    },
    {
      "cell_type": "markdown",
      "source": [
        "Naive Bayes"
      ],
      "metadata": {
        "id": "1in_hCnTa7PW"
      }
    },
    {
      "cell_type": "code",
      "source": [
        "from sklearn.model_selection import train_test_split\n",
        "from sklearn.naive_bayes import MultinomialNB\n",
        "from sklearn.metrics import accuracy_score"
      ],
      "metadata": {
        "id": "x6rwaCzSbndP"
      },
      "execution_count": 42,
      "outputs": []
    },
    {
      "cell_type": "code",
      "source": [
        "#make vectors only contain values that are non-negative\n",
        "def preprocess_embeddings(embeddings):\n",
        "    min_embedding = np.min(embeddings)\n",
        "    if min_embedding < 0:\n",
        "        embeddings -= min_embedding\n",
        "    return embeddings"
      ],
      "metadata": {
        "id": "fwQV974wmTIH"
      },
      "execution_count": 43,
      "outputs": []
    },
    {
      "cell_type": "code",
      "source": [
        "X_train_preprocessed = preprocess_embeddings(X_train)\n",
        "X_test_preprocessed = preprocess_embeddings(X_test)"
      ],
      "metadata": {
        "id": "dbZuIBwCmwaE"
      },
      "execution_count": 44,
      "outputs": []
    },
    {
      "cell_type": "code",
      "source": [
        "naive_bayes = MultinomialNB()\n",
        "naive_bayes.fit(X_train_preprocessed, y_train)"
      ],
      "metadata": {
        "colab": {
          "base_uri": "https://localhost:8080/",
          "height": 75
        },
        "id": "5g4DuoHfmzoO",
        "outputId": "49842416-10f5-48c5-8a50-4c1b17e70245"
      },
      "execution_count": 45,
      "outputs": [
        {
          "output_type": "execute_result",
          "data": {
            "text/plain": [
              "MultinomialNB()"
            ],
            "text/html": [
              "<style>#sk-container-id-2 {color: black;background-color: white;}#sk-container-id-2 pre{padding: 0;}#sk-container-id-2 div.sk-toggleable {background-color: white;}#sk-container-id-2 label.sk-toggleable__label {cursor: pointer;display: block;width: 100%;margin-bottom: 0;padding: 0.3em;box-sizing: border-box;text-align: center;}#sk-container-id-2 label.sk-toggleable__label-arrow:before {content: \"▸\";float: left;margin-right: 0.25em;color: #696969;}#sk-container-id-2 label.sk-toggleable__label-arrow:hover:before {color: black;}#sk-container-id-2 div.sk-estimator:hover label.sk-toggleable__label-arrow:before {color: black;}#sk-container-id-2 div.sk-toggleable__content {max-height: 0;max-width: 0;overflow: hidden;text-align: left;background-color: #f0f8ff;}#sk-container-id-2 div.sk-toggleable__content pre {margin: 0.2em;color: black;border-radius: 0.25em;background-color: #f0f8ff;}#sk-container-id-2 input.sk-toggleable__control:checked~div.sk-toggleable__content {max-height: 200px;max-width: 100%;overflow: auto;}#sk-container-id-2 input.sk-toggleable__control:checked~label.sk-toggleable__label-arrow:before {content: \"▾\";}#sk-container-id-2 div.sk-estimator input.sk-toggleable__control:checked~label.sk-toggleable__label {background-color: #d4ebff;}#sk-container-id-2 div.sk-label input.sk-toggleable__control:checked~label.sk-toggleable__label {background-color: #d4ebff;}#sk-container-id-2 input.sk-hidden--visually {border: 0;clip: rect(1px 1px 1px 1px);clip: rect(1px, 1px, 1px, 1px);height: 1px;margin: -1px;overflow: hidden;padding: 0;position: absolute;width: 1px;}#sk-container-id-2 div.sk-estimator {font-family: monospace;background-color: #f0f8ff;border: 1px dotted black;border-radius: 0.25em;box-sizing: border-box;margin-bottom: 0.5em;}#sk-container-id-2 div.sk-estimator:hover {background-color: #d4ebff;}#sk-container-id-2 div.sk-parallel-item::after {content: \"\";width: 100%;border-bottom: 1px solid gray;flex-grow: 1;}#sk-container-id-2 div.sk-label:hover label.sk-toggleable__label {background-color: #d4ebff;}#sk-container-id-2 div.sk-serial::before {content: \"\";position: absolute;border-left: 1px solid gray;box-sizing: border-box;top: 0;bottom: 0;left: 50%;z-index: 0;}#sk-container-id-2 div.sk-serial {display: flex;flex-direction: column;align-items: center;background-color: white;padding-right: 0.2em;padding-left: 0.2em;position: relative;}#sk-container-id-2 div.sk-item {position: relative;z-index: 1;}#sk-container-id-2 div.sk-parallel {display: flex;align-items: stretch;justify-content: center;background-color: white;position: relative;}#sk-container-id-2 div.sk-item::before, #sk-container-id-2 div.sk-parallel-item::before {content: \"\";position: absolute;border-left: 1px solid gray;box-sizing: border-box;top: 0;bottom: 0;left: 50%;z-index: -1;}#sk-container-id-2 div.sk-parallel-item {display: flex;flex-direction: column;z-index: 1;position: relative;background-color: white;}#sk-container-id-2 div.sk-parallel-item:first-child::after {align-self: flex-end;width: 50%;}#sk-container-id-2 div.sk-parallel-item:last-child::after {align-self: flex-start;width: 50%;}#sk-container-id-2 div.sk-parallel-item:only-child::after {width: 0;}#sk-container-id-2 div.sk-dashed-wrapped {border: 1px dashed gray;margin: 0 0.4em 0.5em 0.4em;box-sizing: border-box;padding-bottom: 0.4em;background-color: white;}#sk-container-id-2 div.sk-label label {font-family: monospace;font-weight: bold;display: inline-block;line-height: 1.2em;}#sk-container-id-2 div.sk-label-container {text-align: center;}#sk-container-id-2 div.sk-container {/* jupyter's `normalize.less` sets `[hidden] { display: none; }` but bootstrap.min.css set `[hidden] { display: none !important; }` so we also need the `!important` here to be able to override the default hidden behavior on the sphinx rendered scikit-learn.org. See: https://github.com/scikit-learn/scikit-learn/issues/21755 */display: inline-block !important;position: relative;}#sk-container-id-2 div.sk-text-repr-fallback {display: none;}</style><div id=\"sk-container-id-2\" class=\"sk-top-container\"><div class=\"sk-text-repr-fallback\"><pre>MultinomialNB()</pre><b>In a Jupyter environment, please rerun this cell to show the HTML representation or trust the notebook. <br />On GitHub, the HTML representation is unable to render, please try loading this page with nbviewer.org.</b></div><div class=\"sk-container\" hidden><div class=\"sk-item\"><div class=\"sk-estimator sk-toggleable\"><input class=\"sk-toggleable__control sk-hidden--visually\" id=\"sk-estimator-id-2\" type=\"checkbox\" checked><label for=\"sk-estimator-id-2\" class=\"sk-toggleable__label sk-toggleable__label-arrow\">MultinomialNB</label><div class=\"sk-toggleable__content\"><pre>MultinomialNB()</pre></div></div></div></div></div>"
            ]
          },
          "metadata": {},
          "execution_count": 45
        }
      ]
    },
    {
      "cell_type": "code",
      "source": [
        "y_predNB = naive_bayes.predict(X_test_preprocessed)\n",
        "\n",
        "accuracyNB = accuracy_score(y_test, y_predNB)\n",
        "accuracyNB"
      ],
      "metadata": {
        "colab": {
          "base_uri": "https://localhost:8080/"
        },
        "id": "UkZl66Gta5_t",
        "outputId": "22b7f3e5-c220-4ff7-e5bc-94bfcef2b305"
      },
      "execution_count": 46,
      "outputs": [
        {
          "output_type": "execute_result",
          "data": {
            "text/plain": [
              "0.519"
            ]
          },
          "metadata": {},
          "execution_count": 46
        }
      ]
    },
    {
      "cell_type": "code",
      "source": [
        "y_predNB[:10]"
      ],
      "metadata": {
        "colab": {
          "base_uri": "https://localhost:8080/"
        },
        "id": "vmhTlxZJrdUA",
        "outputId": "db6f9c6b-bdfe-4cf9-a934-91bd730a0472"
      },
      "execution_count": 54,
      "outputs": [
        {
          "output_type": "execute_result",
          "data": {
            "text/plain": [
              "array([5, 5, 5, 4, 5, 5, 5, 5, 4, 5])"
            ]
          },
          "metadata": {},
          "execution_count": 54
        }
      ]
    },
    {
      "cell_type": "code",
      "source": [
        "y_test[:10]"
      ],
      "metadata": {
        "colab": {
          "base_uri": "https://localhost:8080/"
        },
        "id": "XDTFxXFKrfw3",
        "outputId": "3aed0405-86ef-4250-b3bd-ac02407acb37"
      },
      "execution_count": 53,
      "outputs": [
        {
          "output_type": "execute_result",
          "data": {
            "text/plain": [
              "6252    5\n",
              "4684    5\n",
              "1731    3\n",
              "4742    5\n",
              "4521    5\n",
              "6340    5\n",
              "576     4\n",
              "5202    3\n",
              "6363    1\n",
              "439     5\n",
              "Name: overall, dtype: int64"
            ]
          },
          "metadata": {},
          "execution_count": 53
        }
      ]
    },
    {
      "cell_type": "code",
      "source": [
        "#tolerance of 1 (e.g. a prediction of 4 when the real value was 5 will be marked correct)\n",
        "correct_predictions = 0\n",
        "\n",
        "for pred, true in zip(y_predNB, y_test):\n",
        "    if abs(pred - true) <= 1:\n",
        "        correct_predictions += 1\n",
        "\n",
        "accuracyNB2 = correct_predictions / len(y_test)\n",
        "accuracyNB2"
      ],
      "metadata": {
        "colab": {
          "base_uri": "https://localhost:8080/"
        },
        "id": "LtlHripztTY-",
        "outputId": "c5d3773a-f886-4e38-cf64-3d959b76b76d"
      },
      "execution_count": 55,
      "outputs": [
        {
          "output_type": "execute_result",
          "data": {
            "text/plain": [
              "0.8003333333333333"
            ]
          },
          "metadata": {},
          "execution_count": 55
        }
      ]
    },
    {
      "cell_type": "markdown",
      "source": [
        "RNN using LSTM"
      ],
      "metadata": {
        "id": "1yCKQDj4m8iH"
      }
    },
    {
      "cell_type": "code",
      "source": [
        "max_length = subset_df['reviewText'].str.len().max()\n",
        "X_train = pad_sequences(X_train, maxlen=max_length)\n",
        "X_test = pad_sequences(X_test, maxlen=max_length)"
      ],
      "metadata": {
        "id": "tYOXzjVQY8DT"
      },
      "execution_count": 56,
      "outputs": []
    },
    {
      "cell_type": "code",
      "source": [
        "X_train.dtype"
      ],
      "metadata": {
        "colab": {
          "base_uri": "https://localhost:8080/"
        },
        "id": "SWv_pCD7UUI8",
        "outputId": "b5e5c824-c7d0-4c2b-ae02-e609deaa7921"
      },
      "execution_count": 57,
      "outputs": [
        {
          "output_type": "execute_result",
          "data": {
            "text/plain": [
              "dtype('int32')"
            ]
          },
          "metadata": {},
          "execution_count": 57
        }
      ]
    },
    {
      "cell_type": "code",
      "source": [
        "subset_df['reviewText'].dtypes"
      ],
      "metadata": {
        "colab": {
          "base_uri": "https://localhost:8080/"
        },
        "id": "2izPuMJBUULV",
        "outputId": "3a230bd0-b38e-4835-ff29-e7ec65107af0"
      },
      "execution_count": 58,
      "outputs": [
        {
          "output_type": "execute_result",
          "data": {
            "text/plain": [
              "dtype('O')"
            ]
          },
          "metadata": {},
          "execution_count": 58
        }
      ]
    },
    {
      "cell_type": "code",
      "source": [
        "vocab_size = len(model.wv.index_to_key)\n",
        "embedding_dim = model.vector_size\n",
        "num_classes = len(subset_df['overall'].unique())"
      ],
      "metadata": {
        "id": "dneAo5AmnZSS"
      },
      "execution_count": 59,
      "outputs": []
    },
    {
      "cell_type": "code",
      "source": [
        "modelLSTM = Sequential()\n",
        "modelLSTM.add(Embedding(input_dim=vocab_size, output_dim=embedding_dim, input_length=max_length))\n",
        "modelLSTM.add(LSTM(units=100))\n",
        "modelLSTM.add(Dense(units=num_classes, activation='softmax'))"
      ],
      "metadata": {
        "id": "MvcSaersNDw7"
      },
      "execution_count": 60,
      "outputs": []
    },
    {
      "cell_type": "code",
      "source": [
        "y_train_adjusted = y_train - 1\n",
        "y_test_adjusted = y_test - 1"
      ],
      "metadata": {
        "id": "tBjZVgJsou3U"
      },
      "execution_count": 61,
      "outputs": []
    },
    {
      "cell_type": "code",
      "source": [
        "modelLSTM.compile(optimizer='adam', loss='sparse_categorical_crossentropy', metrics=['accuracy'])\n",
        "modelLSTM.fit(X_train, y_train_adjusted, epochs=5, batch_size=32, validation_data=(X_test, y_test_adjusted))"
      ],
      "metadata": {
        "colab": {
          "base_uri": "https://localhost:8080/"
        },
        "id": "xBWgG4XXnuhX",
        "outputId": "0665363c-65ad-45cc-f7c4-1acb03ccf9f0"
      },
      "execution_count": null,
      "outputs": [
        {
          "output_type": "stream",
          "name": "stdout",
          "text": [
            "Epoch 1/5\n",
            " 11/219 [>.............................] - ETA: 7:37:04 - loss: 1.5533 - accuracy: 0.5114"
          ]
        }
      ]
    },
    {
      "cell_type": "code",
      "source": [
        "modelLSTM.evaluate(X_test,y_test)"
      ],
      "metadata": {
        "id": "jgjH9i-gn9N1"
      },
      "execution_count": null,
      "outputs": []
    },
    {
      "cell_type": "code",
      "source": [
        "predictionsLSTM = modelLSTM.predict(X_test) + 1\n",
        "np.argmax(predictionsLSTM[1])"
      ],
      "metadata": {
        "id": "JV9XziNEoE4O"
      },
      "execution_count": null,
      "outputs": []
    },
    {
      "cell_type": "code",
      "source": [
        "y_test[1]"
      ],
      "metadata": {
        "id": "0D8XFXqzoKvl"
      },
      "execution_count": null,
      "outputs": []
    }
  ]
}