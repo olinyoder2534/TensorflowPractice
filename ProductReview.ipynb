{
  "nbformat": 4,
  "nbformat_minor": 0,
  "metadata": {
    "colab": {
      "provenance": [],
      "authorship_tag": "ABX9TyMCrTiWc0KR3Gc1NKUm1dqb",
      "include_colab_link": true
    },
    "kernelspec": {
      "name": "python3",
      "display_name": "Python 3"
    },
    "language_info": {
      "name": "python"
    }
  },
  "cells": [
    {
      "cell_type": "markdown",
      "metadata": {
        "id": "view-in-github",
        "colab_type": "text"
      },
      "source": [
        "<a href=\"https://colab.research.google.com/github/olinyoder2534/TensorflowPractice/blob/main/ProductReview.ipynb\" target=\"_parent\"><img src=\"https://colab.research.google.com/assets/colab-badge.svg\" alt=\"Open In Colab\"/></a>"
      ]
    },
    {
      "cell_type": "code",
      "execution_count": 1,
      "metadata": {
        "id": "cKp_TeQ5EcPe"
      },
      "outputs": [],
      "source": [
        "import gensim\n",
        "import pandas as pd"
      ]
    },
    {
      "cell_type": "code",
      "source": [
        "import matplotlib.pyplot as plt"
      ],
      "metadata": {
        "id": "YBKDmfeyIVI7"
      },
      "execution_count": 2,
      "outputs": []
    },
    {
      "cell_type": "code",
      "source": [
        "pip install python-Levenshtein"
      ],
      "metadata": {
        "colab": {
          "base_uri": "https://localhost:8080/"
        },
        "id": "2mE0uV0jEj4e",
        "outputId": "a1a94abb-faae-49ef-9e84-55d3bf010244"
      },
      "execution_count": 3,
      "outputs": [
        {
          "output_type": "stream",
          "name": "stdout",
          "text": [
            "Collecting python-Levenshtein\n",
            "  Downloading python_Levenshtein-0.25.0-py3-none-any.whl (9.4 kB)\n",
            "Collecting Levenshtein==0.25.0 (from python-Levenshtein)\n",
            "  Downloading Levenshtein-0.25.0-cp310-cp310-manylinux_2_17_x86_64.manylinux2014_x86_64.whl (177 kB)\n",
            "\u001b[2K     \u001b[90m━━━━━━━━━━━━━━━━━━━━━━━━━━━━━━━━━━━━━━━━\u001b[0m \u001b[32m177.4/177.4 kB\u001b[0m \u001b[31m3.4 MB/s\u001b[0m eta \u001b[36m0:00:00\u001b[0m\n",
            "\u001b[?25hCollecting rapidfuzz<4.0.0,>=3.1.0 (from Levenshtein==0.25.0->python-Levenshtein)\n",
            "  Downloading rapidfuzz-3.7.0-cp310-cp310-manylinux_2_17_x86_64.manylinux2014_x86_64.whl (3.4 MB)\n",
            "\u001b[2K     \u001b[90m━━━━━━━━━━━━━━━━━━━━━━━━━━━━━━━━━━━━━━━━\u001b[0m \u001b[32m3.4/3.4 MB\u001b[0m \u001b[31m9.3 MB/s\u001b[0m eta \u001b[36m0:00:00\u001b[0m\n",
            "\u001b[?25hInstalling collected packages: rapidfuzz, Levenshtein, python-Levenshtein\n",
            "Successfully installed Levenshtein-0.25.0 python-Levenshtein-0.25.0 rapidfuzz-3.7.0\n"
          ]
        }
      ]
    },
    {
      "cell_type": "markdown",
      "source": [
        "# Exploration"
      ],
      "metadata": {
        "id": "f-C_Xws8HXi_"
      }
    },
    {
      "cell_type": "code",
      "source": [
        "#dataset contains reviews of phone accessories\n",
        "df = pd.read_json(\"/content/reviews_Cell_Phones_and_Accessories_5.json.gz\", lines=True)\n",
        "#df"
      ],
      "metadata": {
        "id": "ZtadpwuiFcCp"
      },
      "execution_count": 4,
      "outputs": []
    },
    {
      "cell_type": "code",
      "source": [
        "df.head(4)"
      ],
      "metadata": {
        "colab": {
          "base_uri": "https://localhost:8080/",
          "height": 175
        },
        "id": "AEv6U2v5HH4O",
        "outputId": "f1ca95e2-dc8d-4973-bee3-b3aa9a69b07f"
      },
      "execution_count": 5,
      "outputs": [
        {
          "output_type": "execute_result",
          "data": {
            "text/plain": [
              "       reviewerID        asin reviewerName helpful  \\\n",
              "0  A30TL5EWN6DFXT  120401325X    christina  [0, 0]   \n",
              "1   ASY55RVNIL0UD  120401325X     emily l.  [0, 0]   \n",
              "2  A2TMXE2AFO7ONB  120401325X        Erica  [0, 0]   \n",
              "3   AWJ0WZQYMYFQ4  120401325X           JM  [4, 4]   \n",
              "\n",
              "                                          reviewText  overall  \\\n",
              "0  They look good and stick good! I just don't li...        4   \n",
              "1  These stickers work like the review says they ...        5   \n",
              "2  These are awesome and make my phone look so st...        5   \n",
              "3  Item arrived in great time and was in perfect ...        4   \n",
              "\n",
              "                 summary  unixReviewTime   reviewTime  \n",
              "0             Looks Good      1400630400  05 21, 2014  \n",
              "1  Really great product.      1389657600  01 14, 2014  \n",
              "2         LOVE LOVE LOVE      1403740800  06 26, 2014  \n",
              "3                  Cute!      1382313600  10 21, 2013  "
            ],
            "text/html": [
              "\n",
              "  <div id=\"df-1c0b4c5e-a158-4246-bc41-2bdf33e4f943\" class=\"colab-df-container\">\n",
              "    <div>\n",
              "<style scoped>\n",
              "    .dataframe tbody tr th:only-of-type {\n",
              "        vertical-align: middle;\n",
              "    }\n",
              "\n",
              "    .dataframe tbody tr th {\n",
              "        vertical-align: top;\n",
              "    }\n",
              "\n",
              "    .dataframe thead th {\n",
              "        text-align: right;\n",
              "    }\n",
              "</style>\n",
              "<table border=\"1\" class=\"dataframe\">\n",
              "  <thead>\n",
              "    <tr style=\"text-align: right;\">\n",
              "      <th></th>\n",
              "      <th>reviewerID</th>\n",
              "      <th>asin</th>\n",
              "      <th>reviewerName</th>\n",
              "      <th>helpful</th>\n",
              "      <th>reviewText</th>\n",
              "      <th>overall</th>\n",
              "      <th>summary</th>\n",
              "      <th>unixReviewTime</th>\n",
              "      <th>reviewTime</th>\n",
              "    </tr>\n",
              "  </thead>\n",
              "  <tbody>\n",
              "    <tr>\n",
              "      <th>0</th>\n",
              "      <td>A30TL5EWN6DFXT</td>\n",
              "      <td>120401325X</td>\n",
              "      <td>christina</td>\n",
              "      <td>[0, 0]</td>\n",
              "      <td>They look good and stick good! I just don't li...</td>\n",
              "      <td>4</td>\n",
              "      <td>Looks Good</td>\n",
              "      <td>1400630400</td>\n",
              "      <td>05 21, 2014</td>\n",
              "    </tr>\n",
              "    <tr>\n",
              "      <th>1</th>\n",
              "      <td>ASY55RVNIL0UD</td>\n",
              "      <td>120401325X</td>\n",
              "      <td>emily l.</td>\n",
              "      <td>[0, 0]</td>\n",
              "      <td>These stickers work like the review says they ...</td>\n",
              "      <td>5</td>\n",
              "      <td>Really great product.</td>\n",
              "      <td>1389657600</td>\n",
              "      <td>01 14, 2014</td>\n",
              "    </tr>\n",
              "    <tr>\n",
              "      <th>2</th>\n",
              "      <td>A2TMXE2AFO7ONB</td>\n",
              "      <td>120401325X</td>\n",
              "      <td>Erica</td>\n",
              "      <td>[0, 0]</td>\n",
              "      <td>These are awesome and make my phone look so st...</td>\n",
              "      <td>5</td>\n",
              "      <td>LOVE LOVE LOVE</td>\n",
              "      <td>1403740800</td>\n",
              "      <td>06 26, 2014</td>\n",
              "    </tr>\n",
              "    <tr>\n",
              "      <th>3</th>\n",
              "      <td>AWJ0WZQYMYFQ4</td>\n",
              "      <td>120401325X</td>\n",
              "      <td>JM</td>\n",
              "      <td>[4, 4]</td>\n",
              "      <td>Item arrived in great time and was in perfect ...</td>\n",
              "      <td>4</td>\n",
              "      <td>Cute!</td>\n",
              "      <td>1382313600</td>\n",
              "      <td>10 21, 2013</td>\n",
              "    </tr>\n",
              "  </tbody>\n",
              "</table>\n",
              "</div>\n",
              "    <div class=\"colab-df-buttons\">\n",
              "\n",
              "  <div class=\"colab-df-container\">\n",
              "    <button class=\"colab-df-convert\" onclick=\"convertToInteractive('df-1c0b4c5e-a158-4246-bc41-2bdf33e4f943')\"\n",
              "            title=\"Convert this dataframe to an interactive table.\"\n",
              "            style=\"display:none;\">\n",
              "\n",
              "  <svg xmlns=\"http://www.w3.org/2000/svg\" height=\"24px\" viewBox=\"0 -960 960 960\">\n",
              "    <path d=\"M120-120v-720h720v720H120Zm60-500h600v-160H180v160Zm220 220h160v-160H400v160Zm0 220h160v-160H400v160ZM180-400h160v-160H180v160Zm440 0h160v-160H620v160ZM180-180h160v-160H180v160Zm440 0h160v-160H620v160Z\"/>\n",
              "  </svg>\n",
              "    </button>\n",
              "\n",
              "  <style>\n",
              "    .colab-df-container {\n",
              "      display:flex;\n",
              "      gap: 12px;\n",
              "    }\n",
              "\n",
              "    .colab-df-convert {\n",
              "      background-color: #E8F0FE;\n",
              "      border: none;\n",
              "      border-radius: 50%;\n",
              "      cursor: pointer;\n",
              "      display: none;\n",
              "      fill: #1967D2;\n",
              "      height: 32px;\n",
              "      padding: 0 0 0 0;\n",
              "      width: 32px;\n",
              "    }\n",
              "\n",
              "    .colab-df-convert:hover {\n",
              "      background-color: #E2EBFA;\n",
              "      box-shadow: 0px 1px 2px rgba(60, 64, 67, 0.3), 0px 1px 3px 1px rgba(60, 64, 67, 0.15);\n",
              "      fill: #174EA6;\n",
              "    }\n",
              "\n",
              "    .colab-df-buttons div {\n",
              "      margin-bottom: 4px;\n",
              "    }\n",
              "\n",
              "    [theme=dark] .colab-df-convert {\n",
              "      background-color: #3B4455;\n",
              "      fill: #D2E3FC;\n",
              "    }\n",
              "\n",
              "    [theme=dark] .colab-df-convert:hover {\n",
              "      background-color: #434B5C;\n",
              "      box-shadow: 0px 1px 3px 1px rgba(0, 0, 0, 0.15);\n",
              "      filter: drop-shadow(0px 1px 2px rgba(0, 0, 0, 0.3));\n",
              "      fill: #FFFFFF;\n",
              "    }\n",
              "  </style>\n",
              "\n",
              "    <script>\n",
              "      const buttonEl =\n",
              "        document.querySelector('#df-1c0b4c5e-a158-4246-bc41-2bdf33e4f943 button.colab-df-convert');\n",
              "      buttonEl.style.display =\n",
              "        google.colab.kernel.accessAllowed ? 'block' : 'none';\n",
              "\n",
              "      async function convertToInteractive(key) {\n",
              "        const element = document.querySelector('#df-1c0b4c5e-a158-4246-bc41-2bdf33e4f943');\n",
              "        const dataTable =\n",
              "          await google.colab.kernel.invokeFunction('convertToInteractive',\n",
              "                                                    [key], {});\n",
              "        if (!dataTable) return;\n",
              "\n",
              "        const docLinkHtml = 'Like what you see? Visit the ' +\n",
              "          '<a target=\"_blank\" href=https://colab.research.google.com/notebooks/data_table.ipynb>data table notebook</a>'\n",
              "          + ' to learn more about interactive tables.';\n",
              "        element.innerHTML = '';\n",
              "        dataTable['output_type'] = 'display_data';\n",
              "        await google.colab.output.renderOutput(dataTable, element);\n",
              "        const docLink = document.createElement('div');\n",
              "        docLink.innerHTML = docLinkHtml;\n",
              "        element.appendChild(docLink);\n",
              "      }\n",
              "    </script>\n",
              "  </div>\n",
              "\n",
              "\n",
              "<div id=\"df-743c5479-7db2-426c-9d59-b29903807cf0\">\n",
              "  <button class=\"colab-df-quickchart\" onclick=\"quickchart('df-743c5479-7db2-426c-9d59-b29903807cf0')\"\n",
              "            title=\"Suggest charts\"\n",
              "            style=\"display:none;\">\n",
              "\n",
              "<svg xmlns=\"http://www.w3.org/2000/svg\" height=\"24px\"viewBox=\"0 0 24 24\"\n",
              "     width=\"24px\">\n",
              "    <g>\n",
              "        <path d=\"M19 3H5c-1.1 0-2 .9-2 2v14c0 1.1.9 2 2 2h14c1.1 0 2-.9 2-2V5c0-1.1-.9-2-2-2zM9 17H7v-7h2v7zm4 0h-2V7h2v10zm4 0h-2v-4h2v4z\"/>\n",
              "    </g>\n",
              "</svg>\n",
              "  </button>\n",
              "\n",
              "<style>\n",
              "  .colab-df-quickchart {\n",
              "      --bg-color: #E8F0FE;\n",
              "      --fill-color: #1967D2;\n",
              "      --hover-bg-color: #E2EBFA;\n",
              "      --hover-fill-color: #174EA6;\n",
              "      --disabled-fill-color: #AAA;\n",
              "      --disabled-bg-color: #DDD;\n",
              "  }\n",
              "\n",
              "  [theme=dark] .colab-df-quickchart {\n",
              "      --bg-color: #3B4455;\n",
              "      --fill-color: #D2E3FC;\n",
              "      --hover-bg-color: #434B5C;\n",
              "      --hover-fill-color: #FFFFFF;\n",
              "      --disabled-bg-color: #3B4455;\n",
              "      --disabled-fill-color: #666;\n",
              "  }\n",
              "\n",
              "  .colab-df-quickchart {\n",
              "    background-color: var(--bg-color);\n",
              "    border: none;\n",
              "    border-radius: 50%;\n",
              "    cursor: pointer;\n",
              "    display: none;\n",
              "    fill: var(--fill-color);\n",
              "    height: 32px;\n",
              "    padding: 0;\n",
              "    width: 32px;\n",
              "  }\n",
              "\n",
              "  .colab-df-quickchart:hover {\n",
              "    background-color: var(--hover-bg-color);\n",
              "    box-shadow: 0 1px 2px rgba(60, 64, 67, 0.3), 0 1px 3px 1px rgba(60, 64, 67, 0.15);\n",
              "    fill: var(--button-hover-fill-color);\n",
              "  }\n",
              "\n",
              "  .colab-df-quickchart-complete:disabled,\n",
              "  .colab-df-quickchart-complete:disabled:hover {\n",
              "    background-color: var(--disabled-bg-color);\n",
              "    fill: var(--disabled-fill-color);\n",
              "    box-shadow: none;\n",
              "  }\n",
              "\n",
              "  .colab-df-spinner {\n",
              "    border: 2px solid var(--fill-color);\n",
              "    border-color: transparent;\n",
              "    border-bottom-color: var(--fill-color);\n",
              "    animation:\n",
              "      spin 1s steps(1) infinite;\n",
              "  }\n",
              "\n",
              "  @keyframes spin {\n",
              "    0% {\n",
              "      border-color: transparent;\n",
              "      border-bottom-color: var(--fill-color);\n",
              "      border-left-color: var(--fill-color);\n",
              "    }\n",
              "    20% {\n",
              "      border-color: transparent;\n",
              "      border-left-color: var(--fill-color);\n",
              "      border-top-color: var(--fill-color);\n",
              "    }\n",
              "    30% {\n",
              "      border-color: transparent;\n",
              "      border-left-color: var(--fill-color);\n",
              "      border-top-color: var(--fill-color);\n",
              "      border-right-color: var(--fill-color);\n",
              "    }\n",
              "    40% {\n",
              "      border-color: transparent;\n",
              "      border-right-color: var(--fill-color);\n",
              "      border-top-color: var(--fill-color);\n",
              "    }\n",
              "    60% {\n",
              "      border-color: transparent;\n",
              "      border-right-color: var(--fill-color);\n",
              "    }\n",
              "    80% {\n",
              "      border-color: transparent;\n",
              "      border-right-color: var(--fill-color);\n",
              "      border-bottom-color: var(--fill-color);\n",
              "    }\n",
              "    90% {\n",
              "      border-color: transparent;\n",
              "      border-bottom-color: var(--fill-color);\n",
              "    }\n",
              "  }\n",
              "</style>\n",
              "\n",
              "  <script>\n",
              "    async function quickchart(key) {\n",
              "      const quickchartButtonEl =\n",
              "        document.querySelector('#' + key + ' button');\n",
              "      quickchartButtonEl.disabled = true;  // To prevent multiple clicks.\n",
              "      quickchartButtonEl.classList.add('colab-df-spinner');\n",
              "      try {\n",
              "        const charts = await google.colab.kernel.invokeFunction(\n",
              "            'suggestCharts', [key], {});\n",
              "      } catch (error) {\n",
              "        console.error('Error during call to suggestCharts:', error);\n",
              "      }\n",
              "      quickchartButtonEl.classList.remove('colab-df-spinner');\n",
              "      quickchartButtonEl.classList.add('colab-df-quickchart-complete');\n",
              "    }\n",
              "    (() => {\n",
              "      let quickchartButtonEl =\n",
              "        document.querySelector('#df-743c5479-7db2-426c-9d59-b29903807cf0 button');\n",
              "      quickchartButtonEl.style.display =\n",
              "        google.colab.kernel.accessAllowed ? 'block' : 'none';\n",
              "    })();\n",
              "  </script>\n",
              "</div>\n",
              "    </div>\n",
              "  </div>\n"
            ],
            "application/vnd.google.colaboratory.intrinsic+json": {
              "type": "dataframe",
              "variable_name": "df"
            }
          },
          "metadata": {},
          "execution_count": 5
        }
      ]
    },
    {
      "cell_type": "code",
      "source": [
        "print(\"Max: {}\".format(df['reviewText'].str.len().max()))\n",
        "print(\"Mean: {}\".format(round(df['reviewText'].str.len().mean(),3)))\n",
        "print(\"Median: {}\".format(df['reviewText'].str.len().median()))"
      ],
      "metadata": {
        "colab": {
          "base_uri": "https://localhost:8080/"
        },
        "id": "4_Lxi0-uMEHS",
        "outputId": "fca8feb1-7b0d-48ff-dcb2-17e009fc9f49"
      },
      "execution_count": 6,
      "outputs": [
        {
          "output_type": "stream",
          "name": "stdout",
          "text": [
            "Max: 32110\n",
            "Mean: 491.84\n",
            "Median: 248.0\n"
          ]
        }
      ]
    },
    {
      "cell_type": "code",
      "source": [
        "df['overall'].value_counts()\n",
        "#mostly positive reviews"
      ],
      "metadata": {
        "colab": {
          "base_uri": "https://localhost:8080/"
        },
        "id": "cBW9H2yPIYN6",
        "outputId": "c02ed9c9-92e1-48a0-c29b-d1ad9c7a73a7"
      },
      "execution_count": 7,
      "outputs": [
        {
          "output_type": "execute_result",
          "data": {
            "text/plain": [
              "overall\n",
              "5    108664\n",
              "4     39993\n",
              "3     21439\n",
              "1     13279\n",
              "2     11064\n",
              "Name: count, dtype: int64"
            ]
          },
          "metadata": {},
          "execution_count": 7
        }
      ]
    },
    {
      "cell_type": "code",
      "source": [
        "print(\"Mean: {}\".format(round(df['overall'].mean(),3)))\n",
        "print(\"Median: {}\".format(df['overall'].median()))"
      ],
      "metadata": {
        "colab": {
          "base_uri": "https://localhost:8080/"
        },
        "id": "aiOFLOy3JSPX",
        "outputId": "f349f125-a98d-4b30-fe6a-aa5e06855bc2"
      },
      "execution_count": 8,
      "outputs": [
        {
          "output_type": "stream",
          "name": "stdout",
          "text": [
            "Mean: 4.13\n",
            "Median: 5.0\n"
          ]
        }
      ]
    },
    {
      "cell_type": "code",
      "source": [
        "df.shape"
      ],
      "metadata": {
        "colab": {
          "base_uri": "https://localhost:8080/"
        },
        "id": "ZqrAhyorFtGZ",
        "outputId": "581ad3cb-3cfb-474d-badb-35b698583811"
      },
      "execution_count": 9,
      "outputs": [
        {
          "output_type": "execute_result",
          "data": {
            "text/plain": [
              "(194439, 9)"
            ]
          },
          "metadata": {},
          "execution_count": 9
        }
      ]
    },
    {
      "cell_type": "code",
      "source": [
        "print(df.dtypes)"
      ],
      "metadata": {
        "colab": {
          "base_uri": "https://localhost:8080/"
        },
        "id": "IyxLsPteFtI-",
        "outputId": "a9b73621-f96a-4dac-f6ab-8008160289c5"
      },
      "execution_count": 10,
      "outputs": [
        {
          "output_type": "stream",
          "name": "stdout",
          "text": [
            "reviewerID        object\n",
            "asin              object\n",
            "reviewerName      object\n",
            "helpful           object\n",
            "reviewText        object\n",
            "overall            int64\n",
            "summary           object\n",
            "unixReviewTime     int64\n",
            "reviewTime        object\n",
            "dtype: object\n"
          ]
        }
      ]
    },
    {
      "cell_type": "code",
      "source": [
        "df.isna().sum()\n",
        "#not going to need reviewName so fine to leave NAs in"
      ],
      "metadata": {
        "colab": {
          "base_uri": "https://localhost:8080/"
        },
        "id": "BmLKPtpoFtLt",
        "outputId": "7723e0bf-bccb-40eb-98a1-8e893515526a"
      },
      "execution_count": 11,
      "outputs": [
        {
          "output_type": "execute_result",
          "data": {
            "text/plain": [
              "reviewerID           0\n",
              "asin                 0\n",
              "reviewerName      3519\n",
              "helpful              0\n",
              "reviewText           0\n",
              "overall              0\n",
              "summary              0\n",
              "unixReviewTime       0\n",
              "reviewTime           0\n",
              "dtype: int64"
            ]
          },
          "metadata": {},
          "execution_count": 11
        }
      ]
    },
    {
      "cell_type": "markdown",
      "source": [
        "# Preprocessing"
      ],
      "metadata": {
        "id": "A_ztovoxHsxR"
      }
    },
    {
      "cell_type": "code",
      "source": [
        "#I don't have enough RAM to run models using the entire dataset, so I'm taking a random subset of 10,000 records\n",
        "\n",
        "subset_df = df.sample(n=10000, random_state=42)"
      ],
      "metadata": {
        "id": "oSL7Jze1RTN7"
      },
      "execution_count": 12,
      "outputs": []
    },
    {
      "cell_type": "code",
      "source": [
        "subset_df.shape"
      ],
      "metadata": {
        "colab": {
          "base_uri": "https://localhost:8080/"
        },
        "id": "pnYOx4t5Tk7R",
        "outputId": "3d460f53-858c-4099-b3d4-da66a6b3859b"
      },
      "execution_count": 13,
      "outputs": [
        {
          "output_type": "execute_result",
          "data": {
            "text/plain": [
              "(10000, 9)"
            ]
          },
          "metadata": {},
          "execution_count": 13
        }
      ]
    },
    {
      "cell_type": "code",
      "source": [
        "subset_df.head(4)"
      ],
      "metadata": {
        "colab": {
          "base_uri": "https://localhost:8080/",
          "height": 175
        },
        "id": "_-PHAByrWSX-",
        "outputId": "8dbd735b-1989-4897-baf5-958a3aa4f8a7"
      },
      "execution_count": 14,
      "outputs": [
        {
          "output_type": "execute_result",
          "data": {
            "text/plain": [
              "            reviewerID        asin       reviewerName helpful  \\\n",
              "156187  A1P3ACSVXZ1JUM  B00C0ZKI9Q              LO127  [0, 0]   \n",
              "102252  A2Z3IZDQUIDRR9  B008FQVO5G            yogitim  [8, 8]   \n",
              "23146   A3EOVXI1VZIHUQ  B003Y74AZ2  Z. Freeman \"Zach\"  [1, 2]   \n",
              "86461    AWU526GBZ64MH  B007ZL0TJ4               Bree  [0, 0]   \n",
              "\n",
              "                                               reviewText  overall  \\\n",
              "156187  iBOLT xProDock Active Car Dock/Holder/Mount fo...        5   \n",
              "102252  This pouch is everything that I was looking fo...        5   \n",
              "23146   First of all - the case I had on my iPhone 4 p...        3   \n",
              "86461   I ordered this case because I had the same cas...        5   \n",
              "\n",
              "                                       summary  unixReviewTime   reviewTime  \n",
              "156187                          Fits perfectly      1372032000  06 24, 2013  \n",
              "102252                            Great Pouch!      1361577600  02 23, 2013  \n",
              "23146   An average iPhone case - nothing fancy      1296604800   02 2, 2011  \n",
              "86461                               Great Case      1379635200  09 20, 2013  "
            ],
            "text/html": [
              "\n",
              "  <div id=\"df-af25d0ab-c82a-4ac9-afe1-08f87ea6a753\" class=\"colab-df-container\">\n",
              "    <div>\n",
              "<style scoped>\n",
              "    .dataframe tbody tr th:only-of-type {\n",
              "        vertical-align: middle;\n",
              "    }\n",
              "\n",
              "    .dataframe tbody tr th {\n",
              "        vertical-align: top;\n",
              "    }\n",
              "\n",
              "    .dataframe thead th {\n",
              "        text-align: right;\n",
              "    }\n",
              "</style>\n",
              "<table border=\"1\" class=\"dataframe\">\n",
              "  <thead>\n",
              "    <tr style=\"text-align: right;\">\n",
              "      <th></th>\n",
              "      <th>reviewerID</th>\n",
              "      <th>asin</th>\n",
              "      <th>reviewerName</th>\n",
              "      <th>helpful</th>\n",
              "      <th>reviewText</th>\n",
              "      <th>overall</th>\n",
              "      <th>summary</th>\n",
              "      <th>unixReviewTime</th>\n",
              "      <th>reviewTime</th>\n",
              "    </tr>\n",
              "  </thead>\n",
              "  <tbody>\n",
              "    <tr>\n",
              "      <th>156187</th>\n",
              "      <td>A1P3ACSVXZ1JUM</td>\n",
              "      <td>B00C0ZKI9Q</td>\n",
              "      <td>LO127</td>\n",
              "      <td>[0, 0]</td>\n",
              "      <td>iBOLT xProDock Active Car Dock/Holder/Mount fo...</td>\n",
              "      <td>5</td>\n",
              "      <td>Fits perfectly</td>\n",
              "      <td>1372032000</td>\n",
              "      <td>06 24, 2013</td>\n",
              "    </tr>\n",
              "    <tr>\n",
              "      <th>102252</th>\n",
              "      <td>A2Z3IZDQUIDRR9</td>\n",
              "      <td>B008FQVO5G</td>\n",
              "      <td>yogitim</td>\n",
              "      <td>[8, 8]</td>\n",
              "      <td>This pouch is everything that I was looking fo...</td>\n",
              "      <td>5</td>\n",
              "      <td>Great Pouch!</td>\n",
              "      <td>1361577600</td>\n",
              "      <td>02 23, 2013</td>\n",
              "    </tr>\n",
              "    <tr>\n",
              "      <th>23146</th>\n",
              "      <td>A3EOVXI1VZIHUQ</td>\n",
              "      <td>B003Y74AZ2</td>\n",
              "      <td>Z. Freeman \"Zach\"</td>\n",
              "      <td>[1, 2]</td>\n",
              "      <td>First of all - the case I had on my iPhone 4 p...</td>\n",
              "      <td>3</td>\n",
              "      <td>An average iPhone case - nothing fancy</td>\n",
              "      <td>1296604800</td>\n",
              "      <td>02 2, 2011</td>\n",
              "    </tr>\n",
              "    <tr>\n",
              "      <th>86461</th>\n",
              "      <td>AWU526GBZ64MH</td>\n",
              "      <td>B007ZL0TJ4</td>\n",
              "      <td>Bree</td>\n",
              "      <td>[0, 0]</td>\n",
              "      <td>I ordered this case because I had the same cas...</td>\n",
              "      <td>5</td>\n",
              "      <td>Great Case</td>\n",
              "      <td>1379635200</td>\n",
              "      <td>09 20, 2013</td>\n",
              "    </tr>\n",
              "  </tbody>\n",
              "</table>\n",
              "</div>\n",
              "    <div class=\"colab-df-buttons\">\n",
              "\n",
              "  <div class=\"colab-df-container\">\n",
              "    <button class=\"colab-df-convert\" onclick=\"convertToInteractive('df-af25d0ab-c82a-4ac9-afe1-08f87ea6a753')\"\n",
              "            title=\"Convert this dataframe to an interactive table.\"\n",
              "            style=\"display:none;\">\n",
              "\n",
              "  <svg xmlns=\"http://www.w3.org/2000/svg\" height=\"24px\" viewBox=\"0 -960 960 960\">\n",
              "    <path d=\"M120-120v-720h720v720H120Zm60-500h600v-160H180v160Zm220 220h160v-160H400v160Zm0 220h160v-160H400v160ZM180-400h160v-160H180v160Zm440 0h160v-160H620v160ZM180-180h160v-160H180v160Zm440 0h160v-160H620v160Z\"/>\n",
              "  </svg>\n",
              "    </button>\n",
              "\n",
              "  <style>\n",
              "    .colab-df-container {\n",
              "      display:flex;\n",
              "      gap: 12px;\n",
              "    }\n",
              "\n",
              "    .colab-df-convert {\n",
              "      background-color: #E8F0FE;\n",
              "      border: none;\n",
              "      border-radius: 50%;\n",
              "      cursor: pointer;\n",
              "      display: none;\n",
              "      fill: #1967D2;\n",
              "      height: 32px;\n",
              "      padding: 0 0 0 0;\n",
              "      width: 32px;\n",
              "    }\n",
              "\n",
              "    .colab-df-convert:hover {\n",
              "      background-color: #E2EBFA;\n",
              "      box-shadow: 0px 1px 2px rgba(60, 64, 67, 0.3), 0px 1px 3px 1px rgba(60, 64, 67, 0.15);\n",
              "      fill: #174EA6;\n",
              "    }\n",
              "\n",
              "    .colab-df-buttons div {\n",
              "      margin-bottom: 4px;\n",
              "    }\n",
              "\n",
              "    [theme=dark] .colab-df-convert {\n",
              "      background-color: #3B4455;\n",
              "      fill: #D2E3FC;\n",
              "    }\n",
              "\n",
              "    [theme=dark] .colab-df-convert:hover {\n",
              "      background-color: #434B5C;\n",
              "      box-shadow: 0px 1px 3px 1px rgba(0, 0, 0, 0.15);\n",
              "      filter: drop-shadow(0px 1px 2px rgba(0, 0, 0, 0.3));\n",
              "      fill: #FFFFFF;\n",
              "    }\n",
              "  </style>\n",
              "\n",
              "    <script>\n",
              "      const buttonEl =\n",
              "        document.querySelector('#df-af25d0ab-c82a-4ac9-afe1-08f87ea6a753 button.colab-df-convert');\n",
              "      buttonEl.style.display =\n",
              "        google.colab.kernel.accessAllowed ? 'block' : 'none';\n",
              "\n",
              "      async function convertToInteractive(key) {\n",
              "        const element = document.querySelector('#df-af25d0ab-c82a-4ac9-afe1-08f87ea6a753');\n",
              "        const dataTable =\n",
              "          await google.colab.kernel.invokeFunction('convertToInteractive',\n",
              "                                                    [key], {});\n",
              "        if (!dataTable) return;\n",
              "\n",
              "        const docLinkHtml = 'Like what you see? Visit the ' +\n",
              "          '<a target=\"_blank\" href=https://colab.research.google.com/notebooks/data_table.ipynb>data table notebook</a>'\n",
              "          + ' to learn more about interactive tables.';\n",
              "        element.innerHTML = '';\n",
              "        dataTable['output_type'] = 'display_data';\n",
              "        await google.colab.output.renderOutput(dataTable, element);\n",
              "        const docLink = document.createElement('div');\n",
              "        docLink.innerHTML = docLinkHtml;\n",
              "        element.appendChild(docLink);\n",
              "      }\n",
              "    </script>\n",
              "  </div>\n",
              "\n",
              "\n",
              "<div id=\"df-797093ea-6732-4ccf-8cb4-0942cd6450c9\">\n",
              "  <button class=\"colab-df-quickchart\" onclick=\"quickchart('df-797093ea-6732-4ccf-8cb4-0942cd6450c9')\"\n",
              "            title=\"Suggest charts\"\n",
              "            style=\"display:none;\">\n",
              "\n",
              "<svg xmlns=\"http://www.w3.org/2000/svg\" height=\"24px\"viewBox=\"0 0 24 24\"\n",
              "     width=\"24px\">\n",
              "    <g>\n",
              "        <path d=\"M19 3H5c-1.1 0-2 .9-2 2v14c0 1.1.9 2 2 2h14c1.1 0 2-.9 2-2V5c0-1.1-.9-2-2-2zM9 17H7v-7h2v7zm4 0h-2V7h2v10zm4 0h-2v-4h2v4z\"/>\n",
              "    </g>\n",
              "</svg>\n",
              "  </button>\n",
              "\n",
              "<style>\n",
              "  .colab-df-quickchart {\n",
              "      --bg-color: #E8F0FE;\n",
              "      --fill-color: #1967D2;\n",
              "      --hover-bg-color: #E2EBFA;\n",
              "      --hover-fill-color: #174EA6;\n",
              "      --disabled-fill-color: #AAA;\n",
              "      --disabled-bg-color: #DDD;\n",
              "  }\n",
              "\n",
              "  [theme=dark] .colab-df-quickchart {\n",
              "      --bg-color: #3B4455;\n",
              "      --fill-color: #D2E3FC;\n",
              "      --hover-bg-color: #434B5C;\n",
              "      --hover-fill-color: #FFFFFF;\n",
              "      --disabled-bg-color: #3B4455;\n",
              "      --disabled-fill-color: #666;\n",
              "  }\n",
              "\n",
              "  .colab-df-quickchart {\n",
              "    background-color: var(--bg-color);\n",
              "    border: none;\n",
              "    border-radius: 50%;\n",
              "    cursor: pointer;\n",
              "    display: none;\n",
              "    fill: var(--fill-color);\n",
              "    height: 32px;\n",
              "    padding: 0;\n",
              "    width: 32px;\n",
              "  }\n",
              "\n",
              "  .colab-df-quickchart:hover {\n",
              "    background-color: var(--hover-bg-color);\n",
              "    box-shadow: 0 1px 2px rgba(60, 64, 67, 0.3), 0 1px 3px 1px rgba(60, 64, 67, 0.15);\n",
              "    fill: var(--button-hover-fill-color);\n",
              "  }\n",
              "\n",
              "  .colab-df-quickchart-complete:disabled,\n",
              "  .colab-df-quickchart-complete:disabled:hover {\n",
              "    background-color: var(--disabled-bg-color);\n",
              "    fill: var(--disabled-fill-color);\n",
              "    box-shadow: none;\n",
              "  }\n",
              "\n",
              "  .colab-df-spinner {\n",
              "    border: 2px solid var(--fill-color);\n",
              "    border-color: transparent;\n",
              "    border-bottom-color: var(--fill-color);\n",
              "    animation:\n",
              "      spin 1s steps(1) infinite;\n",
              "  }\n",
              "\n",
              "  @keyframes spin {\n",
              "    0% {\n",
              "      border-color: transparent;\n",
              "      border-bottom-color: var(--fill-color);\n",
              "      border-left-color: var(--fill-color);\n",
              "    }\n",
              "    20% {\n",
              "      border-color: transparent;\n",
              "      border-left-color: var(--fill-color);\n",
              "      border-top-color: var(--fill-color);\n",
              "    }\n",
              "    30% {\n",
              "      border-color: transparent;\n",
              "      border-left-color: var(--fill-color);\n",
              "      border-top-color: var(--fill-color);\n",
              "      border-right-color: var(--fill-color);\n",
              "    }\n",
              "    40% {\n",
              "      border-color: transparent;\n",
              "      border-right-color: var(--fill-color);\n",
              "      border-top-color: var(--fill-color);\n",
              "    }\n",
              "    60% {\n",
              "      border-color: transparent;\n",
              "      border-right-color: var(--fill-color);\n",
              "    }\n",
              "    80% {\n",
              "      border-color: transparent;\n",
              "      border-right-color: var(--fill-color);\n",
              "      border-bottom-color: var(--fill-color);\n",
              "    }\n",
              "    90% {\n",
              "      border-color: transparent;\n",
              "      border-bottom-color: var(--fill-color);\n",
              "    }\n",
              "  }\n",
              "</style>\n",
              "\n",
              "  <script>\n",
              "    async function quickchart(key) {\n",
              "      const quickchartButtonEl =\n",
              "        document.querySelector('#' + key + ' button');\n",
              "      quickchartButtonEl.disabled = true;  // To prevent multiple clicks.\n",
              "      quickchartButtonEl.classList.add('colab-df-spinner');\n",
              "      try {\n",
              "        const charts = await google.colab.kernel.invokeFunction(\n",
              "            'suggestCharts', [key], {});\n",
              "      } catch (error) {\n",
              "        console.error('Error during call to suggestCharts:', error);\n",
              "      }\n",
              "      quickchartButtonEl.classList.remove('colab-df-spinner');\n",
              "      quickchartButtonEl.classList.add('colab-df-quickchart-complete');\n",
              "    }\n",
              "    (() => {\n",
              "      let quickchartButtonEl =\n",
              "        document.querySelector('#df-797093ea-6732-4ccf-8cb4-0942cd6450c9 button');\n",
              "      quickchartButtonEl.style.display =\n",
              "        google.colab.kernel.accessAllowed ? 'block' : 'none';\n",
              "    })();\n",
              "  </script>\n",
              "</div>\n",
              "    </div>\n",
              "  </div>\n"
            ],
            "application/vnd.google.colaboratory.intrinsic+json": {
              "type": "dataframe",
              "variable_name": "subset_df",
              "repr_error": "0"
            }
          },
          "metadata": {},
          "execution_count": 14
        }
      ]
    },
    {
      "cell_type": "code",
      "source": [
        "review_text = subset_df.reviewText.apply(gensim.utils.simple_preprocess)\n",
        "review_text"
      ],
      "metadata": {
        "colab": {
          "base_uri": "https://localhost:8080/"
        },
        "id": "xYwic-jaFtN-",
        "outputId": "b4dc6961-0892-4ad2-c323-c2c9516ef967"
      },
      "execution_count": 15,
      "outputs": [
        {
          "output_type": "execute_result",
          "data": {
            "text/plain": [
              "156187    [ibolt, xprodock, active, car, dock, holder, m...\n",
              "102252    [this, pouch, is, everything, that, was, looki...\n",
              "23146     [first, of, all, the, case, had, on, my, iphon...\n",
              "86461     [ordered, this, case, because, had, the, same,...\n",
              "62407     [bought, few, of, these, as, gifts, they, were...\n",
              "                                ...                        \n",
              "121486    [bought, this, specific, adapter, because, the...\n",
              "307       [ve, been, buying, these, headsets, for, sever...\n",
              "80726     [the, tylt, powerplant, is, essentially, recha...\n",
              "40551     [paid, less, than, for, this, product, for, my...\n",
              "66990     [was, hesitant, buying, this, as, have, never,...\n",
              "Name: reviewText, Length: 10000, dtype: object"
            ]
          },
          "metadata": {},
          "execution_count": 15
        }
      ]
    },
    {
      "cell_type": "code",
      "source": [
        "review_text.reset_index(drop=True, inplace=True)\n",
        "review_text.loc[0]"
      ],
      "metadata": {
        "colab": {
          "base_uri": "https://localhost:8080/"
        },
        "id": "rh3XNpyiWcef",
        "outputId": "f5ac68d6-6de7-42ad-ccaa-7dbfcb033417"
      },
      "execution_count": 16,
      "outputs": [
        {
          "output_type": "execute_result",
          "data": {
            "text/plain": [
              "['ibolt',\n",
              " 'xprodock',\n",
              " 'active',\n",
              " 'car',\n",
              " 'dock',\n",
              " 'holder',\n",
              " 'mount',\n",
              " 'for',\n",
              " 'samsung',\n",
              " 'galaxy',\n",
              " 'note',\n",
              " 'fits',\n",
              " 'my',\n",
              " 'galaxy',\n",
              " 'perfectly',\n",
              " 'had',\n",
              " 'to',\n",
              " 'reverse',\n",
              " 'where',\n",
              " 'the',\n",
              " 'charging',\n",
              " 'cable',\n",
              " 'went',\n",
              " 'so',\n",
              " 'that',\n",
              " 'was',\n",
              " 'not',\n",
              " 'hiding',\n",
              " 'the',\n",
              " 'volume',\n",
              " 'button',\n",
              " 'but',\n",
              " 'other',\n",
              " 'then',\n",
              " 'that',\n",
              " 'it',\n",
              " 'was',\n",
              " 'good',\n",
              " 'it',\n",
              " 'is',\n",
              " 'very',\n",
              " 'sturdy',\n",
              " 'and',\n",
              " 'works',\n",
              " 'as',\n",
              " 'good',\n",
              " 'as',\n",
              " 'the',\n",
              " 'motorola',\n",
              " 'nav',\n",
              " 'dock',\n",
              " 'had',\n",
              " 'for',\n",
              " 'my',\n",
              " 'droid',\n",
              " 'razr',\n",
              " 'the',\n",
              " 'view',\n",
              " 'from',\n",
              " 'the',\n",
              " 'camera',\n",
              " 'is',\n",
              " 'unobstructed',\n",
              " 'the',\n",
              " 'software',\n",
              " 'that',\n",
              " 'you',\n",
              " 'down',\n",
              " 'load',\n",
              " 'works',\n",
              " 'ok',\n",
              " 'was',\n",
              " 'used',\n",
              " 'to',\n",
              " 'motorola',\n",
              " 'drive',\n",
              " 'app',\n",
              " 'but',\n",
              " 'this',\n",
              " 'has',\n",
              " 'just',\n",
              " 'as',\n",
              " 'much',\n",
              " 'functionality',\n",
              " 'you',\n",
              " 'can',\n",
              " 'program',\n",
              " 'it',\n",
              " 'to',\n",
              " 'toggle',\n",
              " 'bluetooth',\n",
              " 'and',\n",
              " 'all',\n",
              " 'that']"
            ]
          },
          "metadata": {},
          "execution_count": 16
        }
      ]
    },
    {
      "cell_type": "code",
      "source": [
        "review_text"
      ],
      "metadata": {
        "colab": {
          "base_uri": "https://localhost:8080/"
        },
        "id": "TaV-lrtFSCTO",
        "outputId": "49ccc0c3-6cd7-42e9-a0a7-f9291155fac8"
      },
      "execution_count": 17,
      "outputs": [
        {
          "output_type": "execute_result",
          "data": {
            "text/plain": [
              "0       [ibolt, xprodock, active, car, dock, holder, m...\n",
              "1       [this, pouch, is, everything, that, was, looki...\n",
              "2       [first, of, all, the, case, had, on, my, iphon...\n",
              "3       [ordered, this, case, because, had, the, same,...\n",
              "4       [bought, few, of, these, as, gifts, they, were...\n",
              "                              ...                        \n",
              "9995    [bought, this, specific, adapter, because, the...\n",
              "9996    [ve, been, buying, these, headsets, for, sever...\n",
              "9997    [the, tylt, powerplant, is, essentially, recha...\n",
              "9998    [paid, less, than, for, this, product, for, my...\n",
              "9999    [was, hesitant, buying, this, as, have, never,...\n",
              "Name: reviewText, Length: 10000, dtype: object"
            ]
          },
          "metadata": {},
          "execution_count": 17
        }
      ]
    },
    {
      "cell_type": "markdown",
      "source": [
        "## Word2Vec"
      ],
      "metadata": {
        "id": "Op0FIpcdJ34E"
      }
    },
    {
      "cell_type": "code",
      "source": [
        "model = gensim.models.Word2Vec(\n",
        "    window=10,\n",
        "    min_count=2,\n",
        "    workers=4,\n",
        ")"
      ],
      "metadata": {
        "id": "10v3f1y8J7iS"
      },
      "execution_count": 18,
      "outputs": []
    },
    {
      "cell_type": "code",
      "source": [
        "model.build_vocab(review_text, progress_per=1000)"
      ],
      "metadata": {
        "id": "1P9NImYAJ_zC"
      },
      "execution_count": 19,
      "outputs": []
    },
    {
      "cell_type": "code",
      "source": [
        "model.train(review_text, total_examples=model.corpus_count, epochs=model.epochs)"
      ],
      "metadata": {
        "colab": {
          "base_uri": "https://localhost:8080/"
        },
        "id": "yFtt8q-pJ_1b",
        "outputId": "9d40397c-6960-45ff-d051-44f19e1136fc"
      },
      "execution_count": 20,
      "outputs": [
        {
          "output_type": "execute_result",
          "data": {
            "text/plain": [
              "(3194603, 4400430)"
            ]
          },
          "metadata": {},
          "execution_count": 20
        }
      ]
    },
    {
      "cell_type": "code",
      "source": [
        "model.wv.most_similar(\"good\")"
      ],
      "metadata": {
        "colab": {
          "base_uri": "https://localhost:8080/"
        },
        "id": "LGCwJDO_J_4C",
        "outputId": "a7550ab3-3ae9-480b-aef5-785799a9d884"
      },
      "execution_count": 21,
      "outputs": [
        {
          "output_type": "execute_result",
          "data": {
            "text/plain": [
              "[('great', 0.7572157382965088),\n",
              " ('decent', 0.7571279406547546),\n",
              " ('ok', 0.6827141046524048),\n",
              " ('reasonable', 0.6689854264259338),\n",
              " ('awesome', 0.6335814595222473),\n",
              " ('fantastic', 0.6319836378097534),\n",
              " ('cool', 0.6208630204200745),\n",
              " ('excellent', 0.604057252407074),\n",
              " ('okay', 0.6010156869888306),\n",
              " ('nice', 0.5965790748596191)]"
            ]
          },
          "metadata": {},
          "execution_count": 21
        }
      ]
    },
    {
      "cell_type": "code",
      "source": [
        "model.wv.most_similar(\"bad\")"
      ],
      "metadata": {
        "colab": {
          "base_uri": "https://localhost:8080/"
        },
        "id": "uLchuW32J_6q",
        "outputId": "74e25a88-2b0c-4073-a3ef-661010f144a7"
      },
      "execution_count": 22,
      "outputs": [
        {
          "output_type": "execute_result",
          "data": {
            "text/plain": [
              "[('guess', 0.7621824145317078),\n",
              " ('okay', 0.7313181161880493),\n",
              " ('ok', 0.7226905226707458),\n",
              " ('pricy', 0.7054151296615601),\n",
              " ('rave', 0.6704893112182617),\n",
              " ('expect', 0.6527695655822754),\n",
              " ('expecting', 0.6524638533592224),\n",
              " ('fault', 0.6520946025848389),\n",
              " ('cheap', 0.6511734127998352),\n",
              " ('complain', 0.648902952671051)]"
            ]
          },
          "metadata": {},
          "execution_count": 22
        }
      ]
    },
    {
      "cell_type": "code",
      "source": [
        "model.wv.most_similar(\"okay\")"
      ],
      "metadata": {
        "colab": {
          "base_uri": "https://localhost:8080/"
        },
        "id": "7jI5mwKWJ_9F",
        "outputId": "55309b36-34ab-4e53-f186-b3730a103e1d"
      },
      "execution_count": 23,
      "outputs": [
        {
          "output_type": "execute_result",
          "data": {
            "text/plain": [
              "[('ok', 0.8932271599769592),\n",
              " ('alright', 0.8159366250038147),\n",
              " ('yes', 0.7633716464042664),\n",
              " ('pleasing', 0.7576489448547363),\n",
              " ('cheaply', 0.7566352486610413),\n",
              " ('plain', 0.7554841041564941),\n",
              " ('pic', 0.7549519538879395),\n",
              " ('tho', 0.7544816136360168),\n",
              " ('upset', 0.752570629119873),\n",
              " ('understated', 0.7515147924423218)]"
            ]
          },
          "metadata": {},
          "execution_count": 23
        }
      ]
    },
    {
      "cell_type": "markdown",
      "source": [
        "# Sentiment Analysis"
      ],
      "metadata": {
        "id": "5G6B73pxih8s"
      }
    },
    {
      "cell_type": "markdown",
      "source": [
        "Modeling"
      ],
      "metadata": {
        "id": "aMvPmxIYL9uB"
      }
    },
    {
      "cell_type": "code",
      "source": [
        "import numpy as np\n",
        "from sklearn.model_selection import train_test_split\n",
        "from keras.preprocessing.sequence import pad_sequences\n",
        "from keras.models import Sequential\n",
        "from keras.layers import Embedding, LSTM, Dense"
      ],
      "metadata": {
        "id": "fXyH8iN6J__h"
      },
      "execution_count": 24,
      "outputs": []
    },
    {
      "cell_type": "code",
      "source": [
        "#convert text to vector\n",
        "def text_to_vector(text):\n",
        "    words = text.split()\n",
        "    vector = np.zeros((model.vector_size,))\n",
        "    for word in words:\n",
        "        if word in model.wv:\n",
        "            vector += model.wv[word]\n",
        "    return vector"
      ],
      "metadata": {
        "id": "zAt7fH7JbKkf"
      },
      "execution_count": 25,
      "outputs": []
    },
    {
      "cell_type": "code",
      "source": [
        "X = np.array([text_to_vector(text) for text in subset_df['reviewText']])\n",
        "y = subset_df['overall']"
      ],
      "metadata": {
        "id": "04JbX9uhbSp_"
      },
      "execution_count": 26,
      "outputs": []
    },
    {
      "cell_type": "code",
      "source": [
        "X[0]"
      ],
      "metadata": {
        "colab": {
          "base_uri": "https://localhost:8080/"
        },
        "id": "3cm67qMYbU63",
        "outputId": "4c26a9d6-b2fa-4ba0-8ca0-508238ab5432"
      },
      "execution_count": 27,
      "outputs": [
        {
          "output_type": "execute_result",
          "data": {
            "text/plain": [
              "array([ 2.33777768e+01,  2.16612013e+01, -5.81815609e+00,  3.03432441e+01,\n",
              "        4.74539017e+00, -5.16197546e+01,  1.56270382e+01,  2.54178442e+01,\n",
              "        1.70493310e+00, -3.04724149e+01, -2.19924174e+01, -2.85874600e+01,\n",
              "       -6.61200829e+00,  1.50092818e+01,  2.49151092e+01,  8.27593286e+00,\n",
              "        1.54228321e+01, -2.78583917e+01, -2.73055339e+01, -2.66160286e+01,\n",
              "       -5.42779369e+00,  4.84179578e+00,  1.93623699e+01,  8.17645009e-01,\n",
              "        2.36307241e+00,  2.13210215e+01, -1.71099563e+01,  1.16749534e+01,\n",
              "        1.91650820e+00,  1.44133877e-01, -5.05134274e+00, -1.05414935e+01,\n",
              "        1.71010455e+01, -2.43469173e+00, -1.77073344e+01,  2.40245759e+01,\n",
              "        1.48006652e+01, -9.01339022e+00, -1.22147501e+01, -4.62504660e+01,\n",
              "       -1.99479775e+01,  1.00931558e+01, -5.32940099e-01, -2.02986685e+00,\n",
              "        2.37915635e+01,  1.38915949e+01, -1.31918470e+01, -7.91440691e-01,\n",
              "        2.32330200e+01,  1.46813821e+01,  5.76238557e+00, -6.12856671e+01,\n",
              "       -1.59565775e+01, -2.03830705e+00, -1.04563097e+01,  1.91975982e+01,\n",
              "       -6.67765306e-01, -8.95503007e+00, -4.88542172e+01, -5.25286619e+00,\n",
              "       -1.39252269e+01, -2.03287141e+01,  1.38208195e+01, -1.25715249e+00,\n",
              "        1.33372072e+00,  3.58364843e+01, -2.52455575e+00,  2.70944632e+01,\n",
              "        5.62316433e+00, -1.28395170e+00,  6.07719545e+00,  2.48801281e+00,\n",
              "        5.36621689e+00, -2.53711927e+00,  1.50599599e+01,  1.70262672e+00,\n",
              "        8.91449503e+00, -5.20375674e+00, -1.02591036e+01, -1.01067489e+01,\n",
              "       -3.70843607e+01,  9.53228517e+00, -1.17877064e+01,  1.89694906e+01,\n",
              "       -4.93027562e+00,  3.84632202e+00,  2.24174970e+01,  5.09850202e+00,\n",
              "       -5.40455365e+00,  1.93146892e+01,  2.08011807e+01, -3.66695083e+00,\n",
              "        1.67829495e+01,  6.99279957e+00,  3.77346400e+01, -2.67649075e+00,\n",
              "       -5.78349313e+00,  2.10150396e-02, -2.49267236e+01,  1.65164522e+01])"
            ]
          },
          "metadata": {},
          "execution_count": 27
        }
      ]
    },
    {
      "cell_type": "code",
      "source": [
        "y"
      ],
      "metadata": {
        "colab": {
          "base_uri": "https://localhost:8080/"
        },
        "id": "dIos0ob3bdAC",
        "outputId": "c3f27459-25b0-4453-b5cb-b0b87f6b0660"
      },
      "execution_count": 28,
      "outputs": [
        {
          "output_type": "execute_result",
          "data": {
            "text/plain": [
              "156187    5\n",
              "102252    5\n",
              "23146     3\n",
              "86461     5\n",
              "62407     5\n",
              "         ..\n",
              "121486    5\n",
              "307       5\n",
              "80726     4\n",
              "40551     5\n",
              "66990     5\n",
              "Name: overall, Length: 10000, dtype: int64"
            ]
          },
          "metadata": {},
          "execution_count": 28
        }
      ]
    },
    {
      "cell_type": "code",
      "source": [
        "y.reset_index(drop=True, inplace=True)"
      ],
      "metadata": {
        "id": "sN1GfeHNrrcX"
      },
      "execution_count": 29,
      "outputs": []
    },
    {
      "cell_type": "code",
      "source": [
        "X_train, X_test, y_train, y_test = train_test_split(X, y, test_size=0.3, random_state=42)"
      ],
      "metadata": {
        "id": "acmjGU9zMBrU"
      },
      "execution_count": 30,
      "outputs": []
    },
    {
      "cell_type": "markdown",
      "source": [
        "## Naive Bayes"
      ],
      "metadata": {
        "id": "1in_hCnTa7PW"
      }
    },
    {
      "cell_type": "code",
      "source": [
        "from sklearn.model_selection import train_test_split\n",
        "from sklearn.naive_bayes import MultinomialNB\n",
        "from sklearn.metrics import accuracy_score"
      ],
      "metadata": {
        "id": "x6rwaCzSbndP"
      },
      "execution_count": 31,
      "outputs": []
    },
    {
      "cell_type": "code",
      "source": [
        "#make vectors only contain values that are non-negative\n",
        "def preprocess_embeddings(embeddings):\n",
        "    min_embedding = np.min(embeddings)\n",
        "    if min_embedding < 0:\n",
        "        embeddings -= min_embedding\n",
        "    return embeddings"
      ],
      "metadata": {
        "id": "fwQV974wmTIH"
      },
      "execution_count": 32,
      "outputs": []
    },
    {
      "cell_type": "code",
      "source": [
        "X_train_preprocessed = preprocess_embeddings(X_train)\n",
        "X_test_preprocessed = preprocess_embeddings(X_test)"
      ],
      "metadata": {
        "id": "dbZuIBwCmwaE"
      },
      "execution_count": 33,
      "outputs": []
    },
    {
      "cell_type": "code",
      "source": [
        "naive_bayes = MultinomialNB()\n",
        "naive_bayes.fit(X_train_preprocessed, y_train)"
      ],
      "metadata": {
        "colab": {
          "base_uri": "https://localhost:8080/",
          "height": 75
        },
        "id": "5g4DuoHfmzoO",
        "outputId": "fc23c26f-8821-4986-b8f9-75695aa37e02"
      },
      "execution_count": 34,
      "outputs": [
        {
          "output_type": "execute_result",
          "data": {
            "text/plain": [
              "MultinomialNB()"
            ],
            "text/html": [
              "<style>#sk-container-id-1 {color: black;background-color: white;}#sk-container-id-1 pre{padding: 0;}#sk-container-id-1 div.sk-toggleable {background-color: white;}#sk-container-id-1 label.sk-toggleable__label {cursor: pointer;display: block;width: 100%;margin-bottom: 0;padding: 0.3em;box-sizing: border-box;text-align: center;}#sk-container-id-1 label.sk-toggleable__label-arrow:before {content: \"▸\";float: left;margin-right: 0.25em;color: #696969;}#sk-container-id-1 label.sk-toggleable__label-arrow:hover:before {color: black;}#sk-container-id-1 div.sk-estimator:hover label.sk-toggleable__label-arrow:before {color: black;}#sk-container-id-1 div.sk-toggleable__content {max-height: 0;max-width: 0;overflow: hidden;text-align: left;background-color: #f0f8ff;}#sk-container-id-1 div.sk-toggleable__content pre {margin: 0.2em;color: black;border-radius: 0.25em;background-color: #f0f8ff;}#sk-container-id-1 input.sk-toggleable__control:checked~div.sk-toggleable__content {max-height: 200px;max-width: 100%;overflow: auto;}#sk-container-id-1 input.sk-toggleable__control:checked~label.sk-toggleable__label-arrow:before {content: \"▾\";}#sk-container-id-1 div.sk-estimator input.sk-toggleable__control:checked~label.sk-toggleable__label {background-color: #d4ebff;}#sk-container-id-1 div.sk-label input.sk-toggleable__control:checked~label.sk-toggleable__label {background-color: #d4ebff;}#sk-container-id-1 input.sk-hidden--visually {border: 0;clip: rect(1px 1px 1px 1px);clip: rect(1px, 1px, 1px, 1px);height: 1px;margin: -1px;overflow: hidden;padding: 0;position: absolute;width: 1px;}#sk-container-id-1 div.sk-estimator {font-family: monospace;background-color: #f0f8ff;border: 1px dotted black;border-radius: 0.25em;box-sizing: border-box;margin-bottom: 0.5em;}#sk-container-id-1 div.sk-estimator:hover {background-color: #d4ebff;}#sk-container-id-1 div.sk-parallel-item::after {content: \"\";width: 100%;border-bottom: 1px solid gray;flex-grow: 1;}#sk-container-id-1 div.sk-label:hover label.sk-toggleable__label {background-color: #d4ebff;}#sk-container-id-1 div.sk-serial::before {content: \"\";position: absolute;border-left: 1px solid gray;box-sizing: border-box;top: 0;bottom: 0;left: 50%;z-index: 0;}#sk-container-id-1 div.sk-serial {display: flex;flex-direction: column;align-items: center;background-color: white;padding-right: 0.2em;padding-left: 0.2em;position: relative;}#sk-container-id-1 div.sk-item {position: relative;z-index: 1;}#sk-container-id-1 div.sk-parallel {display: flex;align-items: stretch;justify-content: center;background-color: white;position: relative;}#sk-container-id-1 div.sk-item::before, #sk-container-id-1 div.sk-parallel-item::before {content: \"\";position: absolute;border-left: 1px solid gray;box-sizing: border-box;top: 0;bottom: 0;left: 50%;z-index: -1;}#sk-container-id-1 div.sk-parallel-item {display: flex;flex-direction: column;z-index: 1;position: relative;background-color: white;}#sk-container-id-1 div.sk-parallel-item:first-child::after {align-self: flex-end;width: 50%;}#sk-container-id-1 div.sk-parallel-item:last-child::after {align-self: flex-start;width: 50%;}#sk-container-id-1 div.sk-parallel-item:only-child::after {width: 0;}#sk-container-id-1 div.sk-dashed-wrapped {border: 1px dashed gray;margin: 0 0.4em 0.5em 0.4em;box-sizing: border-box;padding-bottom: 0.4em;background-color: white;}#sk-container-id-1 div.sk-label label {font-family: monospace;font-weight: bold;display: inline-block;line-height: 1.2em;}#sk-container-id-1 div.sk-label-container {text-align: center;}#sk-container-id-1 div.sk-container {/* jupyter's `normalize.less` sets `[hidden] { display: none; }` but bootstrap.min.css set `[hidden] { display: none !important; }` so we also need the `!important` here to be able to override the default hidden behavior on the sphinx rendered scikit-learn.org. See: https://github.com/scikit-learn/scikit-learn/issues/21755 */display: inline-block !important;position: relative;}#sk-container-id-1 div.sk-text-repr-fallback {display: none;}</style><div id=\"sk-container-id-1\" class=\"sk-top-container\"><div class=\"sk-text-repr-fallback\"><pre>MultinomialNB()</pre><b>In a Jupyter environment, please rerun this cell to show the HTML representation or trust the notebook. <br />On GitHub, the HTML representation is unable to render, please try loading this page with nbviewer.org.</b></div><div class=\"sk-container\" hidden><div class=\"sk-item\"><div class=\"sk-estimator sk-toggleable\"><input class=\"sk-toggleable__control sk-hidden--visually\" id=\"sk-estimator-id-1\" type=\"checkbox\" checked><label for=\"sk-estimator-id-1\" class=\"sk-toggleable__label sk-toggleable__label-arrow\">MultinomialNB</label><div class=\"sk-toggleable__content\"><pre>MultinomialNB()</pre></div></div></div></div></div>"
            ]
          },
          "metadata": {},
          "execution_count": 34
        }
      ]
    },
    {
      "cell_type": "code",
      "source": [
        "y_predNB = naive_bayes.predict(X_test_preprocessed)\n",
        "\n",
        "accuracyNB = accuracy_score(y_test, y_predNB)\n",
        "accuracyNB"
      ],
      "metadata": {
        "colab": {
          "base_uri": "https://localhost:8080/"
        },
        "id": "UkZl66Gta5_t",
        "outputId": "77d6e9c7-99c8-4194-d81c-517e461342df"
      },
      "execution_count": 35,
      "outputs": [
        {
          "output_type": "execute_result",
          "data": {
            "text/plain": [
              "0.5186666666666667"
            ]
          },
          "metadata": {},
          "execution_count": 35
        }
      ]
    },
    {
      "cell_type": "code",
      "source": [
        "y_predNB[:10]"
      ],
      "metadata": {
        "colab": {
          "base_uri": "https://localhost:8080/"
        },
        "id": "vmhTlxZJrdUA",
        "outputId": "8110f76f-7023-4b9a-d640-f3774f976a71"
      },
      "execution_count": 36,
      "outputs": [
        {
          "output_type": "execute_result",
          "data": {
            "text/plain": [
              "array([5, 5, 5, 4, 5, 5, 5, 5, 4, 5])"
            ]
          },
          "metadata": {},
          "execution_count": 36
        }
      ]
    },
    {
      "cell_type": "code",
      "source": [
        "y_test[:10]"
      ],
      "metadata": {
        "colab": {
          "base_uri": "https://localhost:8080/"
        },
        "id": "XDTFxXFKrfw3",
        "outputId": "69c1ed24-9965-42db-b122-121bf04b1581"
      },
      "execution_count": 37,
      "outputs": [
        {
          "output_type": "execute_result",
          "data": {
            "text/plain": [
              "6252    5\n",
              "4684    5\n",
              "1731    3\n",
              "4742    5\n",
              "4521    5\n",
              "6340    5\n",
              "576     4\n",
              "5202    3\n",
              "6363    1\n",
              "439     5\n",
              "Name: overall, dtype: int64"
            ]
          },
          "metadata": {},
          "execution_count": 37
        }
      ]
    },
    {
      "cell_type": "code",
      "source": [
        "#tolerance of 1 (e.g. a prediction of 4 when the real value was 5 will be marked correct)\n",
        "correct_predictions = 0\n",
        "\n",
        "for pred, true in zip(y_predNB, y_test):\n",
        "    if abs(pred - true) <= 1:\n",
        "        correct_predictions += 1\n",
        "\n",
        "accuracyNB2 = correct_predictions / len(y_test)\n",
        "accuracyNB2"
      ],
      "metadata": {
        "colab": {
          "base_uri": "https://localhost:8080/"
        },
        "id": "LtlHripztTY-",
        "outputId": "4a416a99-5cbd-44c0-d4f0-dad811d8f0c1"
      },
      "execution_count": 38,
      "outputs": [
        {
          "output_type": "execute_result",
          "data": {
            "text/plain": [
              "0.8016666666666666"
            ]
          },
          "metadata": {},
          "execution_count": 38
        }
      ]
    },
    {
      "cell_type": "markdown",
      "source": [
        "## Random Forest"
      ],
      "metadata": {
        "id": "WuI2oKV26oc-"
      }
    },
    {
      "cell_type": "code",
      "source": [
        "from sklearn.model_selection import GridSearchCV\n",
        "from sklearn.ensemble import RandomForestClassifier"
      ],
      "metadata": {
        "id": "dReoUe9f7DRV"
      },
      "execution_count": 39,
      "outputs": []
    },
    {
      "cell_type": "code",
      "source": [
        "rf_classifier = RandomForestClassifier()\n",
        "\n",
        "#grid search hyperparameters\n",
        "param_grid = {\n",
        "    'n_estimators': [100, 200, 300],\n",
        "    'max_depth': [None, 10, 20],\n",
        "    'min_samples_split': [2, 5, 10]\n",
        "}\n",
        "\n",
        "grid_search = GridSearchCV(estimator=rf_classifier, param_grid=param_grid, cv=3, scoring='accuracy', verbose=2)\n",
        "grid_search.fit(X_train, y_train)\n",
        "\n",
        "best_params = grid_search.best_params_\n",
        "best_score = grid_search.best_score_\n",
        "print(\"Best Parameters:\", best_params)\n",
        "print(\"Best Score:\", best_score)"
      ],
      "metadata": {
        "colab": {
          "base_uri": "https://localhost:8080/"
        },
        "id": "G_IN8uNz7AWu",
        "outputId": "b30d7bfb-1e67-43cb-dafb-67031d0932d6"
      },
      "execution_count": 40,
      "outputs": [
        {
          "output_type": "stream",
          "name": "stdout",
          "text": [
            "Fitting 3 folds for each of 27 candidates, totalling 81 fits\n",
            "[CV] END max_depth=None, min_samples_split=2, n_estimators=100; total time=   9.5s\n",
            "[CV] END max_depth=None, min_samples_split=2, n_estimators=100; total time=   5.2s\n",
            "[CV] END max_depth=None, min_samples_split=2, n_estimators=100; total time=   5.9s\n",
            "[CV] END max_depth=None, min_samples_split=2, n_estimators=200; total time=  11.0s\n",
            "[CV] END max_depth=None, min_samples_split=2, n_estimators=200; total time=  11.0s\n",
            "[CV] END max_depth=None, min_samples_split=2, n_estimators=200; total time=  10.3s\n",
            "[CV] END max_depth=None, min_samples_split=2, n_estimators=300; total time=  16.5s\n",
            "[CV] END max_depth=None, min_samples_split=2, n_estimators=300; total time=  15.9s\n",
            "[CV] END max_depth=None, min_samples_split=2, n_estimators=300; total time=  16.5s\n",
            "[CV] END max_depth=None, min_samples_split=5, n_estimators=100; total time=   5.9s\n",
            "[CV] END max_depth=None, min_samples_split=5, n_estimators=100; total time=   5.0s\n",
            "[CV] END max_depth=None, min_samples_split=5, n_estimators=100; total time=   6.9s\n",
            "[CV] END max_depth=None, min_samples_split=5, n_estimators=200; total time=  10.5s\n",
            "[CV] END max_depth=None, min_samples_split=5, n_estimators=200; total time=  10.5s\n",
            "[CV] END max_depth=None, min_samples_split=5, n_estimators=200; total time=  11.1s\n",
            "[CV] END max_depth=None, min_samples_split=5, n_estimators=300; total time=  15.8s\n",
            "[CV] END max_depth=None, min_samples_split=5, n_estimators=300; total time=  16.7s\n",
            "[CV] END max_depth=None, min_samples_split=5, n_estimators=300; total time=  16.0s\n",
            "[CV] END max_depth=None, min_samples_split=10, n_estimators=100; total time=   5.0s\n",
            "[CV] END max_depth=None, min_samples_split=10, n_estimators=100; total time=   5.7s\n",
            "[CV] END max_depth=None, min_samples_split=10, n_estimators=100; total time=   4.9s\n",
            "[CV] END max_depth=None, min_samples_split=10, n_estimators=200; total time=  10.8s\n",
            "[CV] END max_depth=None, min_samples_split=10, n_estimators=200; total time=  10.7s\n",
            "[CV] END max_depth=None, min_samples_split=10, n_estimators=200; total time=  11.8s\n",
            "[CV] END max_depth=None, min_samples_split=10, n_estimators=300; total time=  16.1s\n",
            "[CV] END max_depth=None, min_samples_split=10, n_estimators=300; total time=  15.6s\n",
            "[CV] END max_depth=None, min_samples_split=10, n_estimators=300; total time=  16.1s\n",
            "[CV] END max_depth=10, min_samples_split=2, n_estimators=100; total time=   3.9s\n",
            "[CV] END max_depth=10, min_samples_split=2, n_estimators=100; total time=   3.9s\n",
            "[CV] END max_depth=10, min_samples_split=2, n_estimators=100; total time=   4.6s\n",
            "[CV] END max_depth=10, min_samples_split=2, n_estimators=200; total time=   7.9s\n",
            "[CV] END max_depth=10, min_samples_split=2, n_estimators=200; total time=   8.6s\n",
            "[CV] END max_depth=10, min_samples_split=2, n_estimators=200; total time=   8.4s\n",
            "[CV] END max_depth=10, min_samples_split=2, n_estimators=300; total time=  12.8s\n",
            "[CV] END max_depth=10, min_samples_split=2, n_estimators=300; total time=  12.3s\n",
            "[CV] END max_depth=10, min_samples_split=2, n_estimators=300; total time=  12.4s\n",
            "[CV] END max_depth=10, min_samples_split=5, n_estimators=100; total time=   4.3s\n",
            "[CV] END max_depth=10, min_samples_split=5, n_estimators=100; total time=   3.9s\n",
            "[CV] END max_depth=10, min_samples_split=5, n_estimators=100; total time=   4.2s\n",
            "[CV] END max_depth=10, min_samples_split=5, n_estimators=200; total time=   8.1s\n",
            "[CV] END max_depth=10, min_samples_split=5, n_estimators=200; total time=   8.7s\n",
            "[CV] END max_depth=10, min_samples_split=5, n_estimators=200; total time=   8.0s\n",
            "[CV] END max_depth=10, min_samples_split=5, n_estimators=300; total time=  12.3s\n",
            "[CV] END max_depth=10, min_samples_split=5, n_estimators=300; total time=  12.5s\n",
            "[CV] END max_depth=10, min_samples_split=5, n_estimators=300; total time=  17.7s\n",
            "[CV] END max_depth=10, min_samples_split=10, n_estimators=100; total time=   5.7s\n",
            "[CV] END max_depth=10, min_samples_split=10, n_estimators=100; total time=   4.6s\n",
            "[CV] END max_depth=10, min_samples_split=10, n_estimators=100; total time=   4.1s\n",
            "[CV] END max_depth=10, min_samples_split=10, n_estimators=200; total time=   8.3s\n",
            "[CV] END max_depth=10, min_samples_split=10, n_estimators=200; total time=   8.2s\n",
            "[CV] END max_depth=10, min_samples_split=10, n_estimators=200; total time=   8.8s\n",
            "[CV] END max_depth=10, min_samples_split=10, n_estimators=300; total time=  12.5s\n",
            "[CV] END max_depth=10, min_samples_split=10, n_estimators=300; total time=  12.3s\n",
            "[CV] END max_depth=10, min_samples_split=10, n_estimators=300; total time=  12.4s\n",
            "[CV] END max_depth=20, min_samples_split=2, n_estimators=100; total time=   5.0s\n",
            "[CV] END max_depth=20, min_samples_split=2, n_estimators=100; total time=   5.9s\n",
            "[CV] END max_depth=20, min_samples_split=2, n_estimators=100; total time=   5.1s\n",
            "[CV] END max_depth=20, min_samples_split=2, n_estimators=200; total time=  11.1s\n",
            "[CV] END max_depth=20, min_samples_split=2, n_estimators=200; total time=  11.0s\n",
            "[CV] END max_depth=20, min_samples_split=2, n_estimators=200; total time=  11.0s\n",
            "[CV] END max_depth=20, min_samples_split=2, n_estimators=300; total time=  15.9s\n",
            "[CV] END max_depth=20, min_samples_split=2, n_estimators=300; total time=  16.1s\n",
            "[CV] END max_depth=20, min_samples_split=2, n_estimators=300; total time=  16.1s\n",
            "[CV] END max_depth=20, min_samples_split=5, n_estimators=100; total time=   5.6s\n",
            "[CV] END max_depth=20, min_samples_split=5, n_estimators=100; total time=   4.9s\n",
            "[CV] END max_depth=20, min_samples_split=5, n_estimators=100; total time=   5.7s\n",
            "[CV] END max_depth=20, min_samples_split=5, n_estimators=200; total time=  10.1s\n",
            "[CV] END max_depth=20, min_samples_split=5, n_estimators=200; total time=  10.5s\n",
            "[CV] END max_depth=20, min_samples_split=5, n_estimators=200; total time=  10.7s\n",
            "[CV] END max_depth=20, min_samples_split=5, n_estimators=300; total time=  15.6s\n",
            "[CV] END max_depth=20, min_samples_split=5, n_estimators=300; total time=  16.6s\n",
            "[CV] END max_depth=20, min_samples_split=5, n_estimators=300; total time=  15.8s\n",
            "[CV] END max_depth=20, min_samples_split=10, n_estimators=100; total time=   4.9s\n",
            "[CV] END max_depth=20, min_samples_split=10, n_estimators=100; total time=   5.8s\n",
            "[CV] END max_depth=20, min_samples_split=10, n_estimators=100; total time=   4.9s\n",
            "[CV] END max_depth=20, min_samples_split=10, n_estimators=200; total time=  10.4s\n",
            "[CV] END max_depth=20, min_samples_split=10, n_estimators=200; total time=  10.6s\n",
            "[CV] END max_depth=20, min_samples_split=10, n_estimators=200; total time=  10.6s\n",
            "[CV] END max_depth=20, min_samples_split=10, n_estimators=300; total time=  17.1s\n",
            "[CV] END max_depth=20, min_samples_split=10, n_estimators=300; total time=  15.4s\n",
            "[CV] END max_depth=20, min_samples_split=10, n_estimators=300; total time=  15.8s\n",
            "Best Parameters: {'max_depth': None, 'min_samples_split': 5, 'n_estimators': 200}\n",
            "Best Score: 0.5708578395273263\n"
          ]
        }
      ]
    },
    {
      "cell_type": "code",
      "source": [
        "best_rf_classifier = grid_search.best_estimator_\n",
        "y_predRF = best_rf_classifier.predict(X_test)"
      ],
      "metadata": {
        "id": "B3h84F3C7Kvk"
      },
      "execution_count": 41,
      "outputs": []
    },
    {
      "cell_type": "code",
      "source": [
        "accuracyRF = accuracy_score(y_test, y_predRF)\n",
        "accuracyRF\n",
        "#barely better than random guessing (1/5 or .2)"
      ],
      "metadata": {
        "id": "yduj7rJ57k1Z",
        "colab": {
          "base_uri": "https://localhost:8080/"
        },
        "outputId": "034dd70b-67a8-41c9-8c05-1e7ab194e9a5"
      },
      "execution_count": 42,
      "outputs": [
        {
          "output_type": "execute_result",
          "data": {
            "text/plain": [
              "0.21066666666666667"
            ]
          },
          "metadata": {},
          "execution_count": 42
        }
      ]
    },
    {
      "cell_type": "code",
      "source": [
        "#tolerance of 1 (e.g. a prediction of 4 when the real value was 5 will be marked correct)\n",
        "correct_predictionsRF = 0\n",
        "\n",
        "for pred, true in zip(y_predRF, y_test):\n",
        "    if abs(pred - true) <= 1:\n",
        "        correct_predictionsRF += 1\n",
        "\n",
        "accuracyRF2 = correct_predictionsRF / len(y_test)\n",
        "accuracyRF2\n",
        "#RF is often 1 off from the true value (if it were high-medium-low instead of 1-5, rf would do quite well)"
      ],
      "metadata": {
        "colab": {
          "base_uri": "https://localhost:8080/"
        },
        "id": "D0uvItX_iB8L",
        "outputId": "0c41c0d9-d6f9-48b5-a5f2-513faf7d0221"
      },
      "execution_count": 43,
      "outputs": [
        {
          "output_type": "execute_result",
          "data": {
            "text/plain": [
              "0.8806666666666667"
            ]
          },
          "metadata": {},
          "execution_count": 43
        }
      ]
    },
    {
      "cell_type": "markdown",
      "source": [
        "## RNN using LSTM"
      ],
      "metadata": {
        "id": "1yCKQDj4m8iH"
      }
    },
    {
      "cell_type": "code",
      "source": [
        "max_length = subset_df['reviewText'].str.len().max()\n",
        "X_train = pad_sequences(X_train, maxlen=max_length)\n",
        "X_test = pad_sequences(X_test, maxlen=max_length)"
      ],
      "metadata": {
        "id": "tYOXzjVQY8DT"
      },
      "execution_count": null,
      "outputs": []
    },
    {
      "cell_type": "code",
      "source": [
        "X_train.dtype"
      ],
      "metadata": {
        "colab": {
          "base_uri": "https://localhost:8080/"
        },
        "id": "SWv_pCD7UUI8",
        "outputId": "b5e5c824-c7d0-4c2b-ae02-e609deaa7921"
      },
      "execution_count": null,
      "outputs": [
        {
          "output_type": "execute_result",
          "data": {
            "text/plain": [
              "dtype('int32')"
            ]
          },
          "metadata": {},
          "execution_count": 57
        }
      ]
    },
    {
      "cell_type": "code",
      "source": [
        "subset_df['reviewText'].dtypes"
      ],
      "metadata": {
        "colab": {
          "base_uri": "https://localhost:8080/"
        },
        "id": "2izPuMJBUULV",
        "outputId": "3a230bd0-b38e-4835-ff29-e7ec65107af0"
      },
      "execution_count": null,
      "outputs": [
        {
          "output_type": "execute_result",
          "data": {
            "text/plain": [
              "dtype('O')"
            ]
          },
          "metadata": {},
          "execution_count": 58
        }
      ]
    },
    {
      "cell_type": "code",
      "source": [
        "vocab_size = len(model.wv.index_to_key)\n",
        "embedding_dim = model.vector_size\n",
        "num_classes = len(subset_df['overall'].unique())"
      ],
      "metadata": {
        "id": "dneAo5AmnZSS"
      },
      "execution_count": null,
      "outputs": []
    },
    {
      "cell_type": "code",
      "source": [
        "modelLSTM = Sequential()\n",
        "modelLSTM.add(Embedding(input_dim=vocab_size, output_dim=embedding_dim, input_length=max_length))\n",
        "modelLSTM.add(LSTM(units=100))\n",
        "modelLSTM.add(Dense(units=num_classes, activation='softmax'))"
      ],
      "metadata": {
        "id": "MvcSaersNDw7"
      },
      "execution_count": null,
      "outputs": []
    },
    {
      "cell_type": "code",
      "source": [
        "y_train_adjusted = y_train - 1\n",
        "y_test_adjusted = y_test - 1"
      ],
      "metadata": {
        "id": "tBjZVgJsou3U"
      },
      "execution_count": null,
      "outputs": []
    },
    {
      "cell_type": "code",
      "source": [
        "modelLSTM.compile(optimizer='adam', loss='sparse_categorical_crossentropy', metrics=['accuracy'])\n",
        "modelLSTM.fit(X_train, y_train_adjusted, epochs=5, batch_size=32, validation_data=(X_test, y_test_adjusted))"
      ],
      "metadata": {
        "colab": {
          "base_uri": "https://localhost:8080/"
        },
        "id": "xBWgG4XXnuhX",
        "outputId": "0665363c-65ad-45cc-f7c4-1acb03ccf9f0"
      },
      "execution_count": null,
      "outputs": [
        {
          "output_type": "stream",
          "name": "stdout",
          "text": [
            "Epoch 1/5\n",
            " 11/219 [>.............................] - ETA: 7:37:04 - loss: 1.5533 - accuracy: 0.5114"
          ]
        }
      ]
    },
    {
      "cell_type": "code",
      "source": [
        "modelLSTM.evaluate(X_test,y_test)"
      ],
      "metadata": {
        "id": "jgjH9i-gn9N1"
      },
      "execution_count": null,
      "outputs": []
    },
    {
      "cell_type": "code",
      "source": [
        "predictionsLSTM = modelLSTM.predict(X_test) + 1\n",
        "np.argmax(predictionsLSTM[1])"
      ],
      "metadata": {
        "id": "JV9XziNEoE4O"
      },
      "execution_count": null,
      "outputs": []
    },
    {
      "cell_type": "code",
      "source": [
        "y_test[1]"
      ],
      "metadata": {
        "id": "0D8XFXqzoKvl"
      },
      "execution_count": null,
      "outputs": []
    },
    {
      "cell_type": "markdown",
      "source": [
        "# Auto Complete"
      ],
      "metadata": {
        "id": "d7DHLYlGjdu9"
      }
    },
    {
      "cell_type": "code",
      "source": [
        "# Convert text data into numerical sequences using Word2Vec embeddings\n",
        "def text_to_sequence(text, model):\n",
        "    words = text.split()\n",
        "    sequence = [model.key_to_index[word] for word in words if word in model.key_to_index]\n",
        "    return sequence"
      ],
      "metadata": {
        "id": "8gheHThdjtQU"
      },
      "execution_count": 48,
      "outputs": []
    },
    {
      "cell_type": "code",
      "source": [
        "from keras.preprocessing.sequence import pad_sequences\n",
        "\n",
        "max_sequence_length = subset_df['reviewText'].str.len().max()\n",
        "\n",
        "X_sequences = [text_to_sequence(text, model.wv) for text in subset_df['reviewText']]\n",
        "X_padded = pad_sequences(X_sequences, maxlen=max_sequence_length, padding='post')\n",
        "\n",
        "X_sequences = np.array(X_padded)\n",
        "X_sequences"
      ],
      "metadata": {
        "colab": {
          "base_uri": "https://localhost:8080/"
        },
        "id": "geVk0GCMlonD",
        "outputId": "f0cc2858-e482-4e24-b5f5-9912fee61ab8"
      },
      "execution_count": 51,
      "outputs": [
        {
          "output_type": "execute_result",
          "data": {
            "text/plain": [
              "array([[   7,  113,    8, ...,    0,    0,    0],\n",
              "       [ 921,    4,  334, ...,    0,    0,    0],\n",
              "       [   6,   36,    0, ...,    0,    0,    0],\n",
              "       ...,\n",
              "       [   4, 2241, 2408, ...,    0,    0,    0],\n",
              "       [ 694,  258,   56, ...,    0,    0,    0],\n",
              "       [  19, 2519,  489, ...,    0,    0,    0]], dtype=int32)"
            ]
          },
          "metadata": {},
          "execution_count": 51
        }
      ]
    },
    {
      "cell_type": "code",
      "source": [
        "X_sequences.shape"
      ],
      "metadata": {
        "colab": {
          "base_uri": "https://localhost:8080/"
        },
        "id": "5gt1o4O7m7Pr",
        "outputId": "00a8ce25-1bc8-446e-808b-45b6476ba465"
      },
      "execution_count": 59,
      "outputs": [
        {
          "output_type": "execute_result",
          "data": {
            "text/plain": [
              "(10000, 25435)"
            ]
          },
          "metadata": {},
          "execution_count": 59
        }
      ]
    },
    {
      "cell_type": "code",
      "source": [
        "X_train1, X_test1, y_train1, y_test1 = train_test_split(X_sequences, y, test_size=0.3, random_state=42)"
      ],
      "metadata": {
        "id": "Gckw2OwHnKCn"
      },
      "execution_count": 60,
      "outputs": []
    },
    {
      "cell_type": "code",
      "source": [
        "vocab_size = len(model.wv.index_to_key)\n",
        "embedding_dim = model.vector_size\n",
        "#num_classes = len(subset_df['overall'].unique())"
      ],
      "metadata": {
        "id": "31nKFM0XmrYX"
      },
      "execution_count": 54,
      "outputs": []
    },
    {
      "cell_type": "code",
      "source": [
        "model_rnn = Sequential()\n",
        "model_rnn.add(Embedding(input_dim=vocab_size, output_dim=embedding_dim, input_length=max_sequence_length))\n",
        "model_rnn.add(LSTM(units=100, return_sequences=True))\n",
        "model_rnn.add(LSTM(units=100)\n",
        "model_rnn.add(Dense(vocab_size, activation='softmax'))"
      ],
      "metadata": {
        "id": "Lm5gf7Q1jtVd"
      },
      "execution_count": 55,
      "outputs": []
    },
    {
      "cell_type": "code",
      "source": [
        "model_rnn.compile(optimizer='adam', loss='sparse_categorical_crossentropy', metrics=['accuracy'])"
      ],
      "metadata": {
        "id": "uOFO5aHKmhiR"
      },
      "execution_count": 56,
      "outputs": []
    },
    {
      "cell_type": "code",
      "source": [
        "print(model_rnn.summary())"
      ],
      "metadata": {
        "colab": {
          "base_uri": "https://localhost:8080/"
        },
        "id": "2AUJL2V8jtX7",
        "outputId": "2a573a7f-26a6-4537-f5ba-260d6c80be44"
      },
      "execution_count": 57,
      "outputs": [
        {
          "output_type": "stream",
          "name": "stdout",
          "text": [
            "Model: \"sequential_1\"\n",
            "_________________________________________________________________\n",
            " Layer (type)                Output Shape              Param #   \n",
            "=================================================================\n",
            " embedding (Embedding)       (None, 25435, 100)        994000    \n",
            "                                                                 \n",
            " lstm (LSTM)                 (None, 25435, 100)        80400     \n",
            "                                                                 \n",
            " lstm_1 (LSTM)               (None, 100)               80400     \n",
            "                                                                 \n",
            " dense (Dense)               (None, 9940)              1003940   \n",
            "                                                                 \n",
            "=================================================================\n",
            "Total params: 2158740 (8.23 MB)\n",
            "Trainable params: 2158740 (8.23 MB)\n",
            "Non-trainable params: 0 (0.00 Byte)\n",
            "_________________________________________________________________\n",
            "None\n"
          ]
        }
      ]
    },
    {
      "cell_type": "code",
      "source": [
        "#not enough RAM :(, might use a HMM instead\n",
        "history = model_rnn.fit(X_train1, y_train1, epochs=5, batch_size=32, validation_split=0.1)"
      ],
      "metadata": {
        "colab": {
          "base_uri": "https://localhost:8080/"
        },
        "id": "5iUpUCy9jtaj",
        "outputId": "709f950c-54c4-477e-a498-81bd59b6a99f"
      },
      "execution_count": null,
      "outputs": [
        {
          "output_type": "stream",
          "name": "stdout",
          "text": [
            "Epoch 1/10\n"
          ]
        }
      ]
    }
  ]
}