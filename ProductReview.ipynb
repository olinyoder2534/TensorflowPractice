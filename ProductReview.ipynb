{
  "nbformat": 4,
  "nbformat_minor": 0,
  "metadata": {
    "colab": {
      "provenance": [],
      "authorship_tag": "ABX9TyO/LYXz7T3UY5XtVMkoiIGY",
      "include_colab_link": true
    },
    "kernelspec": {
      "name": "python3",
      "display_name": "Python 3"
    },
    "language_info": {
      "name": "python"
    }
  },
  "cells": [
    {
      "cell_type": "markdown",
      "metadata": {
        "id": "view-in-github",
        "colab_type": "text"
      },
      "source": [
        "<a href=\"https://colab.research.google.com/github/olinyoder2534/TensorflowPractice/blob/main/ProductReview.ipynb\" target=\"_parent\"><img src=\"https://colab.research.google.com/assets/colab-badge.svg\" alt=\"Open In Colab\"/></a>"
      ]
    },
    {
      "cell_type": "code",
      "execution_count": 66,
      "metadata": {
        "id": "cKp_TeQ5EcPe"
      },
      "outputs": [],
      "source": [
        "import gensim\n",
        "import pandas as pd\n",
        "import numpy as np\n",
        "from sklearn.model_selection import train_test_split\n",
        "import matplotlib.pyplot as plt\n",
        "from sklearn.decomposition import PCA\n",
        "from keras.preprocessing.sequence import pad_sequences\n",
        "from keras.models import Sequential\n",
        "from keras.layers import Embedding, LSTM, Dense\n",
        "from transformers import AutoTokenizer, AutoModelForSequenceClassification\n",
        "import torch\n",
        "from imblearn.over_sampling import SMOTE\n",
        "from collections import Counter\n",
        "from sklearn.naive_bayes import MultinomialNB\n",
        "from sklearn.metrics import accuracy_score\n",
        "from sklearn.preprocessing import MinMaxScaler"
      ]
    },
    {
      "cell_type": "code",
      "source": [
        "pip install python-Levenshtein"
      ],
      "metadata": {
        "colab": {
          "base_uri": "https://localhost:8080/"
        },
        "id": "2mE0uV0jEj4e",
        "outputId": "e0749738-78f2-4ba8-89c3-8def0ae82ee1"
      },
      "execution_count": 67,
      "outputs": [
        {
          "output_type": "stream",
          "name": "stdout",
          "text": [
            "Requirement already satisfied: python-Levenshtein in /usr/local/lib/python3.10/dist-packages (0.25.1)\n",
            "Requirement already satisfied: Levenshtein==0.25.1 in /usr/local/lib/python3.10/dist-packages (from python-Levenshtein) (0.25.1)\n",
            "Requirement already satisfied: rapidfuzz<4.0.0,>=3.8.0 in /usr/local/lib/python3.10/dist-packages (from Levenshtein==0.25.1->python-Levenshtein) (3.8.1)\n"
          ]
        }
      ]
    },
    {
      "cell_type": "markdown",
      "source": [
        "# Exploration"
      ],
      "metadata": {
        "id": "f-C_Xws8HXi_"
      }
    },
    {
      "cell_type": "code",
      "source": [
        "#dataset contains reviews of phone accessories\n",
        "df = pd.read_json(\"/content/reviews_Cell_Phones_and_Accessories_5.json.gz\", lines=True)\n",
        "#df"
      ],
      "metadata": {
        "id": "ZtadpwuiFcCp"
      },
      "execution_count": 68,
      "outputs": []
    },
    {
      "cell_type": "code",
      "source": [
        "df.head(4)"
      ],
      "metadata": {
        "colab": {
          "base_uri": "https://localhost:8080/",
          "height": 175
        },
        "id": "AEv6U2v5HH4O",
        "outputId": "cc52159c-2d84-4ca6-fa42-b31f5e9ebd92"
      },
      "execution_count": 69,
      "outputs": [
        {
          "output_type": "execute_result",
          "data": {
            "text/plain": [
              "       reviewerID        asin reviewerName helpful  \\\n",
              "0  A30TL5EWN6DFXT  120401325X    christina  [0, 0]   \n",
              "1   ASY55RVNIL0UD  120401325X     emily l.  [0, 0]   \n",
              "2  A2TMXE2AFO7ONB  120401325X        Erica  [0, 0]   \n",
              "3   AWJ0WZQYMYFQ4  120401325X           JM  [4, 4]   \n",
              "\n",
              "                                          reviewText  overall  \\\n",
              "0  They look good and stick good! I just don't li...        4   \n",
              "1  These stickers work like the review says they ...        5   \n",
              "2  These are awesome and make my phone look so st...        5   \n",
              "3  Item arrived in great time and was in perfect ...        4   \n",
              "\n",
              "                 summary  unixReviewTime   reviewTime  \n",
              "0             Looks Good      1400630400  05 21, 2014  \n",
              "1  Really great product.      1389657600  01 14, 2014  \n",
              "2         LOVE LOVE LOVE      1403740800  06 26, 2014  \n",
              "3                  Cute!      1382313600  10 21, 2013  "
            ],
            "text/html": [
              "\n",
              "  <div id=\"df-9bf06a16-3f24-495c-a04b-c151db2f7703\" class=\"colab-df-container\">\n",
              "    <div>\n",
              "<style scoped>\n",
              "    .dataframe tbody tr th:only-of-type {\n",
              "        vertical-align: middle;\n",
              "    }\n",
              "\n",
              "    .dataframe tbody tr th {\n",
              "        vertical-align: top;\n",
              "    }\n",
              "\n",
              "    .dataframe thead th {\n",
              "        text-align: right;\n",
              "    }\n",
              "</style>\n",
              "<table border=\"1\" class=\"dataframe\">\n",
              "  <thead>\n",
              "    <tr style=\"text-align: right;\">\n",
              "      <th></th>\n",
              "      <th>reviewerID</th>\n",
              "      <th>asin</th>\n",
              "      <th>reviewerName</th>\n",
              "      <th>helpful</th>\n",
              "      <th>reviewText</th>\n",
              "      <th>overall</th>\n",
              "      <th>summary</th>\n",
              "      <th>unixReviewTime</th>\n",
              "      <th>reviewTime</th>\n",
              "    </tr>\n",
              "  </thead>\n",
              "  <tbody>\n",
              "    <tr>\n",
              "      <th>0</th>\n",
              "      <td>A30TL5EWN6DFXT</td>\n",
              "      <td>120401325X</td>\n",
              "      <td>christina</td>\n",
              "      <td>[0, 0]</td>\n",
              "      <td>They look good and stick good! I just don't li...</td>\n",
              "      <td>4</td>\n",
              "      <td>Looks Good</td>\n",
              "      <td>1400630400</td>\n",
              "      <td>05 21, 2014</td>\n",
              "    </tr>\n",
              "    <tr>\n",
              "      <th>1</th>\n",
              "      <td>ASY55RVNIL0UD</td>\n",
              "      <td>120401325X</td>\n",
              "      <td>emily l.</td>\n",
              "      <td>[0, 0]</td>\n",
              "      <td>These stickers work like the review says they ...</td>\n",
              "      <td>5</td>\n",
              "      <td>Really great product.</td>\n",
              "      <td>1389657600</td>\n",
              "      <td>01 14, 2014</td>\n",
              "    </tr>\n",
              "    <tr>\n",
              "      <th>2</th>\n",
              "      <td>A2TMXE2AFO7ONB</td>\n",
              "      <td>120401325X</td>\n",
              "      <td>Erica</td>\n",
              "      <td>[0, 0]</td>\n",
              "      <td>These are awesome and make my phone look so st...</td>\n",
              "      <td>5</td>\n",
              "      <td>LOVE LOVE LOVE</td>\n",
              "      <td>1403740800</td>\n",
              "      <td>06 26, 2014</td>\n",
              "    </tr>\n",
              "    <tr>\n",
              "      <th>3</th>\n",
              "      <td>AWJ0WZQYMYFQ4</td>\n",
              "      <td>120401325X</td>\n",
              "      <td>JM</td>\n",
              "      <td>[4, 4]</td>\n",
              "      <td>Item arrived in great time and was in perfect ...</td>\n",
              "      <td>4</td>\n",
              "      <td>Cute!</td>\n",
              "      <td>1382313600</td>\n",
              "      <td>10 21, 2013</td>\n",
              "    </tr>\n",
              "  </tbody>\n",
              "</table>\n",
              "</div>\n",
              "    <div class=\"colab-df-buttons\">\n",
              "\n",
              "  <div class=\"colab-df-container\">\n",
              "    <button class=\"colab-df-convert\" onclick=\"convertToInteractive('df-9bf06a16-3f24-495c-a04b-c151db2f7703')\"\n",
              "            title=\"Convert this dataframe to an interactive table.\"\n",
              "            style=\"display:none;\">\n",
              "\n",
              "  <svg xmlns=\"http://www.w3.org/2000/svg\" height=\"24px\" viewBox=\"0 -960 960 960\">\n",
              "    <path d=\"M120-120v-720h720v720H120Zm60-500h600v-160H180v160Zm220 220h160v-160H400v160Zm0 220h160v-160H400v160ZM180-400h160v-160H180v160Zm440 0h160v-160H620v160ZM180-180h160v-160H180v160Zm440 0h160v-160H620v160Z\"/>\n",
              "  </svg>\n",
              "    </button>\n",
              "\n",
              "  <style>\n",
              "    .colab-df-container {\n",
              "      display:flex;\n",
              "      gap: 12px;\n",
              "    }\n",
              "\n",
              "    .colab-df-convert {\n",
              "      background-color: #E8F0FE;\n",
              "      border: none;\n",
              "      border-radius: 50%;\n",
              "      cursor: pointer;\n",
              "      display: none;\n",
              "      fill: #1967D2;\n",
              "      height: 32px;\n",
              "      padding: 0 0 0 0;\n",
              "      width: 32px;\n",
              "    }\n",
              "\n",
              "    .colab-df-convert:hover {\n",
              "      background-color: #E2EBFA;\n",
              "      box-shadow: 0px 1px 2px rgba(60, 64, 67, 0.3), 0px 1px 3px 1px rgba(60, 64, 67, 0.15);\n",
              "      fill: #174EA6;\n",
              "    }\n",
              "\n",
              "    .colab-df-buttons div {\n",
              "      margin-bottom: 4px;\n",
              "    }\n",
              "\n",
              "    [theme=dark] .colab-df-convert {\n",
              "      background-color: #3B4455;\n",
              "      fill: #D2E3FC;\n",
              "    }\n",
              "\n",
              "    [theme=dark] .colab-df-convert:hover {\n",
              "      background-color: #434B5C;\n",
              "      box-shadow: 0px 1px 3px 1px rgba(0, 0, 0, 0.15);\n",
              "      filter: drop-shadow(0px 1px 2px rgba(0, 0, 0, 0.3));\n",
              "      fill: #FFFFFF;\n",
              "    }\n",
              "  </style>\n",
              "\n",
              "    <script>\n",
              "      const buttonEl =\n",
              "        document.querySelector('#df-9bf06a16-3f24-495c-a04b-c151db2f7703 button.colab-df-convert');\n",
              "      buttonEl.style.display =\n",
              "        google.colab.kernel.accessAllowed ? 'block' : 'none';\n",
              "\n",
              "      async function convertToInteractive(key) {\n",
              "        const element = document.querySelector('#df-9bf06a16-3f24-495c-a04b-c151db2f7703');\n",
              "        const dataTable =\n",
              "          await google.colab.kernel.invokeFunction('convertToInteractive',\n",
              "                                                    [key], {});\n",
              "        if (!dataTable) return;\n",
              "\n",
              "        const docLinkHtml = 'Like what you see? Visit the ' +\n",
              "          '<a target=\"_blank\" href=https://colab.research.google.com/notebooks/data_table.ipynb>data table notebook</a>'\n",
              "          + ' to learn more about interactive tables.';\n",
              "        element.innerHTML = '';\n",
              "        dataTable['output_type'] = 'display_data';\n",
              "        await google.colab.output.renderOutput(dataTable, element);\n",
              "        const docLink = document.createElement('div');\n",
              "        docLink.innerHTML = docLinkHtml;\n",
              "        element.appendChild(docLink);\n",
              "      }\n",
              "    </script>\n",
              "  </div>\n",
              "\n",
              "\n",
              "<div id=\"df-906e898f-72e1-4c50-bc0a-c4e674c6a535\">\n",
              "  <button class=\"colab-df-quickchart\" onclick=\"quickchart('df-906e898f-72e1-4c50-bc0a-c4e674c6a535')\"\n",
              "            title=\"Suggest charts\"\n",
              "            style=\"display:none;\">\n",
              "\n",
              "<svg xmlns=\"http://www.w3.org/2000/svg\" height=\"24px\"viewBox=\"0 0 24 24\"\n",
              "     width=\"24px\">\n",
              "    <g>\n",
              "        <path d=\"M19 3H5c-1.1 0-2 .9-2 2v14c0 1.1.9 2 2 2h14c1.1 0 2-.9 2-2V5c0-1.1-.9-2-2-2zM9 17H7v-7h2v7zm4 0h-2V7h2v10zm4 0h-2v-4h2v4z\"/>\n",
              "    </g>\n",
              "</svg>\n",
              "  </button>\n",
              "\n",
              "<style>\n",
              "  .colab-df-quickchart {\n",
              "      --bg-color: #E8F0FE;\n",
              "      --fill-color: #1967D2;\n",
              "      --hover-bg-color: #E2EBFA;\n",
              "      --hover-fill-color: #174EA6;\n",
              "      --disabled-fill-color: #AAA;\n",
              "      --disabled-bg-color: #DDD;\n",
              "  }\n",
              "\n",
              "  [theme=dark] .colab-df-quickchart {\n",
              "      --bg-color: #3B4455;\n",
              "      --fill-color: #D2E3FC;\n",
              "      --hover-bg-color: #434B5C;\n",
              "      --hover-fill-color: #FFFFFF;\n",
              "      --disabled-bg-color: #3B4455;\n",
              "      --disabled-fill-color: #666;\n",
              "  }\n",
              "\n",
              "  .colab-df-quickchart {\n",
              "    background-color: var(--bg-color);\n",
              "    border: none;\n",
              "    border-radius: 50%;\n",
              "    cursor: pointer;\n",
              "    display: none;\n",
              "    fill: var(--fill-color);\n",
              "    height: 32px;\n",
              "    padding: 0;\n",
              "    width: 32px;\n",
              "  }\n",
              "\n",
              "  .colab-df-quickchart:hover {\n",
              "    background-color: var(--hover-bg-color);\n",
              "    box-shadow: 0 1px 2px rgba(60, 64, 67, 0.3), 0 1px 3px 1px rgba(60, 64, 67, 0.15);\n",
              "    fill: var(--button-hover-fill-color);\n",
              "  }\n",
              "\n",
              "  .colab-df-quickchart-complete:disabled,\n",
              "  .colab-df-quickchart-complete:disabled:hover {\n",
              "    background-color: var(--disabled-bg-color);\n",
              "    fill: var(--disabled-fill-color);\n",
              "    box-shadow: none;\n",
              "  }\n",
              "\n",
              "  .colab-df-spinner {\n",
              "    border: 2px solid var(--fill-color);\n",
              "    border-color: transparent;\n",
              "    border-bottom-color: var(--fill-color);\n",
              "    animation:\n",
              "      spin 1s steps(1) infinite;\n",
              "  }\n",
              "\n",
              "  @keyframes spin {\n",
              "    0% {\n",
              "      border-color: transparent;\n",
              "      border-bottom-color: var(--fill-color);\n",
              "      border-left-color: var(--fill-color);\n",
              "    }\n",
              "    20% {\n",
              "      border-color: transparent;\n",
              "      border-left-color: var(--fill-color);\n",
              "      border-top-color: var(--fill-color);\n",
              "    }\n",
              "    30% {\n",
              "      border-color: transparent;\n",
              "      border-left-color: var(--fill-color);\n",
              "      border-top-color: var(--fill-color);\n",
              "      border-right-color: var(--fill-color);\n",
              "    }\n",
              "    40% {\n",
              "      border-color: transparent;\n",
              "      border-right-color: var(--fill-color);\n",
              "      border-top-color: var(--fill-color);\n",
              "    }\n",
              "    60% {\n",
              "      border-color: transparent;\n",
              "      border-right-color: var(--fill-color);\n",
              "    }\n",
              "    80% {\n",
              "      border-color: transparent;\n",
              "      border-right-color: var(--fill-color);\n",
              "      border-bottom-color: var(--fill-color);\n",
              "    }\n",
              "    90% {\n",
              "      border-color: transparent;\n",
              "      border-bottom-color: var(--fill-color);\n",
              "    }\n",
              "  }\n",
              "</style>\n",
              "\n",
              "  <script>\n",
              "    async function quickchart(key) {\n",
              "      const quickchartButtonEl =\n",
              "        document.querySelector('#' + key + ' button');\n",
              "      quickchartButtonEl.disabled = true;  // To prevent multiple clicks.\n",
              "      quickchartButtonEl.classList.add('colab-df-spinner');\n",
              "      try {\n",
              "        const charts = await google.colab.kernel.invokeFunction(\n",
              "            'suggestCharts', [key], {});\n",
              "      } catch (error) {\n",
              "        console.error('Error during call to suggestCharts:', error);\n",
              "      }\n",
              "      quickchartButtonEl.classList.remove('colab-df-spinner');\n",
              "      quickchartButtonEl.classList.add('colab-df-quickchart-complete');\n",
              "    }\n",
              "    (() => {\n",
              "      let quickchartButtonEl =\n",
              "        document.querySelector('#df-906e898f-72e1-4c50-bc0a-c4e674c6a535 button');\n",
              "      quickchartButtonEl.style.display =\n",
              "        google.colab.kernel.accessAllowed ? 'block' : 'none';\n",
              "    })();\n",
              "  </script>\n",
              "</div>\n",
              "    </div>\n",
              "  </div>\n"
            ],
            "application/vnd.google.colaboratory.intrinsic+json": {
              "type": "dataframe",
              "variable_name": "df"
            }
          },
          "metadata": {},
          "execution_count": 69
        }
      ]
    },
    {
      "cell_type": "code",
      "source": [
        "print(\"Max: {}\".format(df['reviewText'].str.len().max()))\n",
        "print(\"Mean: {}\".format(round(df['reviewText'].str.len().mean(),3)))\n",
        "print(\"Median: {}\".format(df['reviewText'].str.len().median()))"
      ],
      "metadata": {
        "colab": {
          "base_uri": "https://localhost:8080/"
        },
        "id": "4_Lxi0-uMEHS",
        "outputId": "a0fca6fd-7394-4c3d-ee73-7df832d8bfc8"
      },
      "execution_count": 70,
      "outputs": [
        {
          "output_type": "stream",
          "name": "stdout",
          "text": [
            "Max: 32110\n",
            "Mean: 491.84\n",
            "Median: 248.0\n"
          ]
        }
      ]
    },
    {
      "cell_type": "code",
      "source": [
        "df['overall'].value_counts()\n",
        "#mostly positive reviews"
      ],
      "metadata": {
        "colab": {
          "base_uri": "https://localhost:8080/"
        },
        "id": "cBW9H2yPIYN6",
        "outputId": "0291b8f1-477f-4444-ce2d-ab34cd03987c"
      },
      "execution_count": 71,
      "outputs": [
        {
          "output_type": "execute_result",
          "data": {
            "text/plain": [
              "overall\n",
              "5    108664\n",
              "4     39993\n",
              "3     21439\n",
              "1     13279\n",
              "2     11064\n",
              "Name: count, dtype: int64"
            ]
          },
          "metadata": {},
          "execution_count": 71
        }
      ]
    },
    {
      "cell_type": "code",
      "source": [
        "print(\"Mean: {}\".format(round(df['overall'].mean(),3)))\n",
        "print(\"Median: {}\".format(df['overall'].median()))"
      ],
      "metadata": {
        "colab": {
          "base_uri": "https://localhost:8080/"
        },
        "id": "aiOFLOy3JSPX",
        "outputId": "b83c6a78-6e2a-4ee8-c56d-2ee411e68ac1"
      },
      "execution_count": 72,
      "outputs": [
        {
          "output_type": "stream",
          "name": "stdout",
          "text": [
            "Mean: 4.13\n",
            "Median: 5.0\n"
          ]
        }
      ]
    },
    {
      "cell_type": "code",
      "source": [
        "df.shape"
      ],
      "metadata": {
        "colab": {
          "base_uri": "https://localhost:8080/"
        },
        "id": "ZqrAhyorFtGZ",
        "outputId": "b0450bdc-88ec-4614-99f0-8d880dd43856"
      },
      "execution_count": 73,
      "outputs": [
        {
          "output_type": "execute_result",
          "data": {
            "text/plain": [
              "(194439, 9)"
            ]
          },
          "metadata": {},
          "execution_count": 73
        }
      ]
    },
    {
      "cell_type": "code",
      "source": [
        "print(df.dtypes)"
      ],
      "metadata": {
        "colab": {
          "base_uri": "https://localhost:8080/"
        },
        "id": "IyxLsPteFtI-",
        "outputId": "5c4f8041-1d85-42b2-d13e-7c69de1c3061"
      },
      "execution_count": 74,
      "outputs": [
        {
          "output_type": "stream",
          "name": "stdout",
          "text": [
            "reviewerID        object\n",
            "asin              object\n",
            "reviewerName      object\n",
            "helpful           object\n",
            "reviewText        object\n",
            "overall            int64\n",
            "summary           object\n",
            "unixReviewTime     int64\n",
            "reviewTime        object\n",
            "dtype: object\n"
          ]
        }
      ]
    },
    {
      "cell_type": "code",
      "source": [
        "df.isna().sum()\n",
        "#not going to need reviewName so fine to leave NAs in"
      ],
      "metadata": {
        "colab": {
          "base_uri": "https://localhost:8080/"
        },
        "id": "BmLKPtpoFtLt",
        "outputId": "9f799dd1-4d20-4e77-cabe-ec0868765986"
      },
      "execution_count": 75,
      "outputs": [
        {
          "output_type": "execute_result",
          "data": {
            "text/plain": [
              "reviewerID           0\n",
              "asin                 0\n",
              "reviewerName      3519\n",
              "helpful              0\n",
              "reviewText           0\n",
              "overall              0\n",
              "summary              0\n",
              "unixReviewTime       0\n",
              "reviewTime           0\n",
              "dtype: int64"
            ]
          },
          "metadata": {},
          "execution_count": 75
        }
      ]
    },
    {
      "cell_type": "markdown",
      "source": [
        "# Preprocessing"
      ],
      "metadata": {
        "id": "A_ztovoxHsxR"
      }
    },
    {
      "cell_type": "code",
      "source": [
        "#I took a couple approaches here and have tried to clean it up a bit; however, it's still a bit messy"
      ],
      "metadata": {
        "id": "MVk_gDuhg0VO"
      },
      "execution_count": 76,
      "outputs": []
    },
    {
      "cell_type": "code",
      "source": [
        "#I don't have enough RAM to run models using the entire dataset, so I'm taking a random subset of 10,000 records\n",
        "subset_df = df.sample(n=10000, random_state=42)"
      ],
      "metadata": {
        "id": "oSL7Jze1RTN7"
      },
      "execution_count": 77,
      "outputs": []
    },
    {
      "cell_type": "code",
      "source": [
        "subset_df['overall'].value_counts()"
      ],
      "metadata": {
        "colab": {
          "base_uri": "https://localhost:8080/"
        },
        "id": "XDmDeHwVdW6G",
        "outputId": "ceeb449b-99f3-45d3-d447-59bfff46825d"
      },
      "execution_count": 78,
      "outputs": [
        {
          "output_type": "execute_result",
          "data": {
            "text/plain": [
              "overall\n",
              "5    5628\n",
              "4    2063\n",
              "3    1054\n",
              "1     681\n",
              "2     574\n",
              "Name: count, dtype: int64"
            ]
          },
          "metadata": {},
          "execution_count": 78
        }
      ]
    },
    {
      "cell_type": "code",
      "source": [
        "subset_df.shape"
      ],
      "metadata": {
        "colab": {
          "base_uri": "https://localhost:8080/"
        },
        "id": "pnYOx4t5Tk7R",
        "outputId": "95d2c8bd-ef57-4097-e44c-d840fba4a941"
      },
      "execution_count": 79,
      "outputs": [
        {
          "output_type": "execute_result",
          "data": {
            "text/plain": [
              "(10000, 9)"
            ]
          },
          "metadata": {},
          "execution_count": 79
        }
      ]
    },
    {
      "cell_type": "code",
      "source": [
        "subset_df.head(4)"
      ],
      "metadata": {
        "colab": {
          "base_uri": "https://localhost:8080/",
          "height": 175
        },
        "id": "_-PHAByrWSX-",
        "outputId": "47283c9f-ee5b-4d90-9b46-c6eeb1ce1a50"
      },
      "execution_count": 80,
      "outputs": [
        {
          "output_type": "execute_result",
          "data": {
            "text/plain": [
              "            reviewerID        asin       reviewerName helpful  \\\n",
              "156187  A1P3ACSVXZ1JUM  B00C0ZKI9Q              LO127  [0, 0]   \n",
              "102252  A2Z3IZDQUIDRR9  B008FQVO5G            yogitim  [8, 8]   \n",
              "23146   A3EOVXI1VZIHUQ  B003Y74AZ2  Z. Freeman \"Zach\"  [1, 2]   \n",
              "86461    AWU526GBZ64MH  B007ZL0TJ4               Bree  [0, 0]   \n",
              "\n",
              "                                               reviewText  overall  \\\n",
              "156187  iBOLT xProDock Active Car Dock/Holder/Mount fo...        5   \n",
              "102252  This pouch is everything that I was looking fo...        5   \n",
              "23146   First of all - the case I had on my iPhone 4 p...        3   \n",
              "86461   I ordered this case because I had the same cas...        5   \n",
              "\n",
              "                                       summary  unixReviewTime   reviewTime  \n",
              "156187                          Fits perfectly      1372032000  06 24, 2013  \n",
              "102252                            Great Pouch!      1361577600  02 23, 2013  \n",
              "23146   An average iPhone case - nothing fancy      1296604800   02 2, 2011  \n",
              "86461                               Great Case      1379635200  09 20, 2013  "
            ],
            "text/html": [
              "\n",
              "  <div id=\"df-cd91c75b-0e46-4f84-a63e-a982f6955943\" class=\"colab-df-container\">\n",
              "    <div>\n",
              "<style scoped>\n",
              "    .dataframe tbody tr th:only-of-type {\n",
              "        vertical-align: middle;\n",
              "    }\n",
              "\n",
              "    .dataframe tbody tr th {\n",
              "        vertical-align: top;\n",
              "    }\n",
              "\n",
              "    .dataframe thead th {\n",
              "        text-align: right;\n",
              "    }\n",
              "</style>\n",
              "<table border=\"1\" class=\"dataframe\">\n",
              "  <thead>\n",
              "    <tr style=\"text-align: right;\">\n",
              "      <th></th>\n",
              "      <th>reviewerID</th>\n",
              "      <th>asin</th>\n",
              "      <th>reviewerName</th>\n",
              "      <th>helpful</th>\n",
              "      <th>reviewText</th>\n",
              "      <th>overall</th>\n",
              "      <th>summary</th>\n",
              "      <th>unixReviewTime</th>\n",
              "      <th>reviewTime</th>\n",
              "    </tr>\n",
              "  </thead>\n",
              "  <tbody>\n",
              "    <tr>\n",
              "      <th>156187</th>\n",
              "      <td>A1P3ACSVXZ1JUM</td>\n",
              "      <td>B00C0ZKI9Q</td>\n",
              "      <td>LO127</td>\n",
              "      <td>[0, 0]</td>\n",
              "      <td>iBOLT xProDock Active Car Dock/Holder/Mount fo...</td>\n",
              "      <td>5</td>\n",
              "      <td>Fits perfectly</td>\n",
              "      <td>1372032000</td>\n",
              "      <td>06 24, 2013</td>\n",
              "    </tr>\n",
              "    <tr>\n",
              "      <th>102252</th>\n",
              "      <td>A2Z3IZDQUIDRR9</td>\n",
              "      <td>B008FQVO5G</td>\n",
              "      <td>yogitim</td>\n",
              "      <td>[8, 8]</td>\n",
              "      <td>This pouch is everything that I was looking fo...</td>\n",
              "      <td>5</td>\n",
              "      <td>Great Pouch!</td>\n",
              "      <td>1361577600</td>\n",
              "      <td>02 23, 2013</td>\n",
              "    </tr>\n",
              "    <tr>\n",
              "      <th>23146</th>\n",
              "      <td>A3EOVXI1VZIHUQ</td>\n",
              "      <td>B003Y74AZ2</td>\n",
              "      <td>Z. Freeman \"Zach\"</td>\n",
              "      <td>[1, 2]</td>\n",
              "      <td>First of all - the case I had on my iPhone 4 p...</td>\n",
              "      <td>3</td>\n",
              "      <td>An average iPhone case - nothing fancy</td>\n",
              "      <td>1296604800</td>\n",
              "      <td>02 2, 2011</td>\n",
              "    </tr>\n",
              "    <tr>\n",
              "      <th>86461</th>\n",
              "      <td>AWU526GBZ64MH</td>\n",
              "      <td>B007ZL0TJ4</td>\n",
              "      <td>Bree</td>\n",
              "      <td>[0, 0]</td>\n",
              "      <td>I ordered this case because I had the same cas...</td>\n",
              "      <td>5</td>\n",
              "      <td>Great Case</td>\n",
              "      <td>1379635200</td>\n",
              "      <td>09 20, 2013</td>\n",
              "    </tr>\n",
              "  </tbody>\n",
              "</table>\n",
              "</div>\n",
              "    <div class=\"colab-df-buttons\">\n",
              "\n",
              "  <div class=\"colab-df-container\">\n",
              "    <button class=\"colab-df-convert\" onclick=\"convertToInteractive('df-cd91c75b-0e46-4f84-a63e-a982f6955943')\"\n",
              "            title=\"Convert this dataframe to an interactive table.\"\n",
              "            style=\"display:none;\">\n",
              "\n",
              "  <svg xmlns=\"http://www.w3.org/2000/svg\" height=\"24px\" viewBox=\"0 -960 960 960\">\n",
              "    <path d=\"M120-120v-720h720v720H120Zm60-500h600v-160H180v160Zm220 220h160v-160H400v160Zm0 220h160v-160H400v160ZM180-400h160v-160H180v160Zm440 0h160v-160H620v160ZM180-180h160v-160H180v160Zm440 0h160v-160H620v160Z\"/>\n",
              "  </svg>\n",
              "    </button>\n",
              "\n",
              "  <style>\n",
              "    .colab-df-container {\n",
              "      display:flex;\n",
              "      gap: 12px;\n",
              "    }\n",
              "\n",
              "    .colab-df-convert {\n",
              "      background-color: #E8F0FE;\n",
              "      border: none;\n",
              "      border-radius: 50%;\n",
              "      cursor: pointer;\n",
              "      display: none;\n",
              "      fill: #1967D2;\n",
              "      height: 32px;\n",
              "      padding: 0 0 0 0;\n",
              "      width: 32px;\n",
              "    }\n",
              "\n",
              "    .colab-df-convert:hover {\n",
              "      background-color: #E2EBFA;\n",
              "      box-shadow: 0px 1px 2px rgba(60, 64, 67, 0.3), 0px 1px 3px 1px rgba(60, 64, 67, 0.15);\n",
              "      fill: #174EA6;\n",
              "    }\n",
              "\n",
              "    .colab-df-buttons div {\n",
              "      margin-bottom: 4px;\n",
              "    }\n",
              "\n",
              "    [theme=dark] .colab-df-convert {\n",
              "      background-color: #3B4455;\n",
              "      fill: #D2E3FC;\n",
              "    }\n",
              "\n",
              "    [theme=dark] .colab-df-convert:hover {\n",
              "      background-color: #434B5C;\n",
              "      box-shadow: 0px 1px 3px 1px rgba(0, 0, 0, 0.15);\n",
              "      filter: drop-shadow(0px 1px 2px rgba(0, 0, 0, 0.3));\n",
              "      fill: #FFFFFF;\n",
              "    }\n",
              "  </style>\n",
              "\n",
              "    <script>\n",
              "      const buttonEl =\n",
              "        document.querySelector('#df-cd91c75b-0e46-4f84-a63e-a982f6955943 button.colab-df-convert');\n",
              "      buttonEl.style.display =\n",
              "        google.colab.kernel.accessAllowed ? 'block' : 'none';\n",
              "\n",
              "      async function convertToInteractive(key) {\n",
              "        const element = document.querySelector('#df-cd91c75b-0e46-4f84-a63e-a982f6955943');\n",
              "        const dataTable =\n",
              "          await google.colab.kernel.invokeFunction('convertToInteractive',\n",
              "                                                    [key], {});\n",
              "        if (!dataTable) return;\n",
              "\n",
              "        const docLinkHtml = 'Like what you see? Visit the ' +\n",
              "          '<a target=\"_blank\" href=https://colab.research.google.com/notebooks/data_table.ipynb>data table notebook</a>'\n",
              "          + ' to learn more about interactive tables.';\n",
              "        element.innerHTML = '';\n",
              "        dataTable['output_type'] = 'display_data';\n",
              "        await google.colab.output.renderOutput(dataTable, element);\n",
              "        const docLink = document.createElement('div');\n",
              "        docLink.innerHTML = docLinkHtml;\n",
              "        element.appendChild(docLink);\n",
              "      }\n",
              "    </script>\n",
              "  </div>\n",
              "\n",
              "\n",
              "<div id=\"df-81bb71f9-9cf3-4230-920e-f8dfb330f6ff\">\n",
              "  <button class=\"colab-df-quickchart\" onclick=\"quickchart('df-81bb71f9-9cf3-4230-920e-f8dfb330f6ff')\"\n",
              "            title=\"Suggest charts\"\n",
              "            style=\"display:none;\">\n",
              "\n",
              "<svg xmlns=\"http://www.w3.org/2000/svg\" height=\"24px\"viewBox=\"0 0 24 24\"\n",
              "     width=\"24px\">\n",
              "    <g>\n",
              "        <path d=\"M19 3H5c-1.1 0-2 .9-2 2v14c0 1.1.9 2 2 2h14c1.1 0 2-.9 2-2V5c0-1.1-.9-2-2-2zM9 17H7v-7h2v7zm4 0h-2V7h2v10zm4 0h-2v-4h2v4z\"/>\n",
              "    </g>\n",
              "</svg>\n",
              "  </button>\n",
              "\n",
              "<style>\n",
              "  .colab-df-quickchart {\n",
              "      --bg-color: #E8F0FE;\n",
              "      --fill-color: #1967D2;\n",
              "      --hover-bg-color: #E2EBFA;\n",
              "      --hover-fill-color: #174EA6;\n",
              "      --disabled-fill-color: #AAA;\n",
              "      --disabled-bg-color: #DDD;\n",
              "  }\n",
              "\n",
              "  [theme=dark] .colab-df-quickchart {\n",
              "      --bg-color: #3B4455;\n",
              "      --fill-color: #D2E3FC;\n",
              "      --hover-bg-color: #434B5C;\n",
              "      --hover-fill-color: #FFFFFF;\n",
              "      --disabled-bg-color: #3B4455;\n",
              "      --disabled-fill-color: #666;\n",
              "  }\n",
              "\n",
              "  .colab-df-quickchart {\n",
              "    background-color: var(--bg-color);\n",
              "    border: none;\n",
              "    border-radius: 50%;\n",
              "    cursor: pointer;\n",
              "    display: none;\n",
              "    fill: var(--fill-color);\n",
              "    height: 32px;\n",
              "    padding: 0;\n",
              "    width: 32px;\n",
              "  }\n",
              "\n",
              "  .colab-df-quickchart:hover {\n",
              "    background-color: var(--hover-bg-color);\n",
              "    box-shadow: 0 1px 2px rgba(60, 64, 67, 0.3), 0 1px 3px 1px rgba(60, 64, 67, 0.15);\n",
              "    fill: var(--button-hover-fill-color);\n",
              "  }\n",
              "\n",
              "  .colab-df-quickchart-complete:disabled,\n",
              "  .colab-df-quickchart-complete:disabled:hover {\n",
              "    background-color: var(--disabled-bg-color);\n",
              "    fill: var(--disabled-fill-color);\n",
              "    box-shadow: none;\n",
              "  }\n",
              "\n",
              "  .colab-df-spinner {\n",
              "    border: 2px solid var(--fill-color);\n",
              "    border-color: transparent;\n",
              "    border-bottom-color: var(--fill-color);\n",
              "    animation:\n",
              "      spin 1s steps(1) infinite;\n",
              "  }\n",
              "\n",
              "  @keyframes spin {\n",
              "    0% {\n",
              "      border-color: transparent;\n",
              "      border-bottom-color: var(--fill-color);\n",
              "      border-left-color: var(--fill-color);\n",
              "    }\n",
              "    20% {\n",
              "      border-color: transparent;\n",
              "      border-left-color: var(--fill-color);\n",
              "      border-top-color: var(--fill-color);\n",
              "    }\n",
              "    30% {\n",
              "      border-color: transparent;\n",
              "      border-left-color: var(--fill-color);\n",
              "      border-top-color: var(--fill-color);\n",
              "      border-right-color: var(--fill-color);\n",
              "    }\n",
              "    40% {\n",
              "      border-color: transparent;\n",
              "      border-right-color: var(--fill-color);\n",
              "      border-top-color: var(--fill-color);\n",
              "    }\n",
              "    60% {\n",
              "      border-color: transparent;\n",
              "      border-right-color: var(--fill-color);\n",
              "    }\n",
              "    80% {\n",
              "      border-color: transparent;\n",
              "      border-right-color: var(--fill-color);\n",
              "      border-bottom-color: var(--fill-color);\n",
              "    }\n",
              "    90% {\n",
              "      border-color: transparent;\n",
              "      border-bottom-color: var(--fill-color);\n",
              "    }\n",
              "  }\n",
              "</style>\n",
              "\n",
              "  <script>\n",
              "    async function quickchart(key) {\n",
              "      const quickchartButtonEl =\n",
              "        document.querySelector('#' + key + ' button');\n",
              "      quickchartButtonEl.disabled = true;  // To prevent multiple clicks.\n",
              "      quickchartButtonEl.classList.add('colab-df-spinner');\n",
              "      try {\n",
              "        const charts = await google.colab.kernel.invokeFunction(\n",
              "            'suggestCharts', [key], {});\n",
              "      } catch (error) {\n",
              "        console.error('Error during call to suggestCharts:', error);\n",
              "      }\n",
              "      quickchartButtonEl.classList.remove('colab-df-spinner');\n",
              "      quickchartButtonEl.classList.add('colab-df-quickchart-complete');\n",
              "    }\n",
              "    (() => {\n",
              "      let quickchartButtonEl =\n",
              "        document.querySelector('#df-81bb71f9-9cf3-4230-920e-f8dfb330f6ff button');\n",
              "      quickchartButtonEl.style.display =\n",
              "        google.colab.kernel.accessAllowed ? 'block' : 'none';\n",
              "    })();\n",
              "  </script>\n",
              "</div>\n",
              "    </div>\n",
              "  </div>\n"
            ],
            "application/vnd.google.colaboratory.intrinsic+json": {
              "type": "dataframe",
              "variable_name": "subset_df",
              "repr_error": "0"
            }
          },
          "metadata": {},
          "execution_count": 80
        }
      ]
    },
    {
      "cell_type": "code",
      "source": [
        "review_text = subset_df.reviewText.apply(gensim.utils.simple_preprocess)\n",
        "review_text"
      ],
      "metadata": {
        "colab": {
          "base_uri": "https://localhost:8080/"
        },
        "id": "xYwic-jaFtN-",
        "outputId": "e26c043d-b3eb-4e10-9ed4-7478047c76b9"
      },
      "execution_count": 81,
      "outputs": [
        {
          "output_type": "execute_result",
          "data": {
            "text/plain": [
              "156187    [ibolt, xprodock, active, car, dock, holder, m...\n",
              "102252    [this, pouch, is, everything, that, was, looki...\n",
              "23146     [first, of, all, the, case, had, on, my, iphon...\n",
              "86461     [ordered, this, case, because, had, the, same,...\n",
              "62407     [bought, few, of, these, as, gifts, they, were...\n",
              "                                ...                        \n",
              "121486    [bought, this, specific, adapter, because, the...\n",
              "307       [ve, been, buying, these, headsets, for, sever...\n",
              "80726     [the, tylt, powerplant, is, essentially, recha...\n",
              "40551     [paid, less, than, for, this, product, for, my...\n",
              "66990     [was, hesitant, buying, this, as, have, never,...\n",
              "Name: reviewText, Length: 10000, dtype: object"
            ]
          },
          "metadata": {},
          "execution_count": 81
        }
      ]
    },
    {
      "cell_type": "code",
      "source": [
        "#review_text.reset_index(drop=True, inplace=True)\n",
        "#review_text.loc[0]"
      ],
      "metadata": {
        "id": "rh3XNpyiWcef"
      },
      "execution_count": 82,
      "outputs": []
    },
    {
      "cell_type": "code",
      "source": [
        "#review_text"
      ],
      "metadata": {
        "id": "TaV-lrtFSCTO"
      },
      "execution_count": 83,
      "outputs": []
    },
    {
      "cell_type": "code",
      "source": [
        "#resampling using undersampling, using full dataset here (this is a seperate approach to the subset_df)\n",
        "class_counts = df['overall'].value_counts()\n",
        "min_class_count = class_counts.min()\n",
        "\n",
        "undersampled_df = pd.concat([df[df['overall'] == cls].sample(min_class_count, replace=False) for cls in class_counts.index])\n",
        "\n",
        "undersampled_df = undersampled_df.sample(frac=1, random_state=42).reset_index(drop=True)"
      ],
      "metadata": {
        "id": "HwfIIgh-OLbO"
      },
      "execution_count": 84,
      "outputs": []
    },
    {
      "cell_type": "code",
      "source": [
        "#creating a new dataset with balanced classes\n",
        "df1 = undersampled_df.drop(labels = [\"reviewerID\", \"asin\", \"reviewerName\", \"helpful\", \"summary\", \"unixReviewTime\", \"reviewTime\"], axis = 1)"
      ],
      "metadata": {
        "id": "OOiyBstn5NZq"
      },
      "execution_count": 85,
      "outputs": []
    },
    {
      "cell_type": "code",
      "source": [
        "df1['ReviewText2'] = df1['reviewText'].apply(lambda x: gensim.utils.simple_preprocess(x))\n",
        "df1.head()"
      ],
      "metadata": {
        "colab": {
          "base_uri": "https://localhost:8080/",
          "height": 206
        },
        "id": "pxpb4auC5Inm",
        "outputId": "21e1cb55-a079-4f29-b920-8c06273a21bb"
      },
      "execution_count": 86,
      "outputs": [
        {
          "output_type": "execute_result",
          "data": {
            "text/plain": [
              "                                          reviewText  overall  \\\n",
              "0  Although it fits well on my HTC EVO But i coul...        1   \n",
              "1  Fits the screen precisely, all holes line up. ...        5   \n",
              "2  What can I say? It's tape...I may be biased, b...        2   \n",
              "3  Alrite, ok,, fair, slim fit good 4 iphone , ca...        2   \n",
              "4  I had never heard of SmackTom and was a little...        5   \n",
              "\n",
              "                                         ReviewText2  \n",
              "0  [although, it, fits, well, on, my, htc, evo, b...  \n",
              "1  [fits, the, screen, precisely, all, holes, lin...  \n",
              "2  [what, can, say, it, tape, may, be, biased, bu...  \n",
              "3  [alrite, ok, fair, slim, fit, good, iphone, ca...  \n",
              "4  [had, never, heard, of, smacktom, and, was, li...  "
            ],
            "text/html": [
              "\n",
              "  <div id=\"df-d593907c-bfac-4acf-81d9-6a5b96085867\" class=\"colab-df-container\">\n",
              "    <div>\n",
              "<style scoped>\n",
              "    .dataframe tbody tr th:only-of-type {\n",
              "        vertical-align: middle;\n",
              "    }\n",
              "\n",
              "    .dataframe tbody tr th {\n",
              "        vertical-align: top;\n",
              "    }\n",
              "\n",
              "    .dataframe thead th {\n",
              "        text-align: right;\n",
              "    }\n",
              "</style>\n",
              "<table border=\"1\" class=\"dataframe\">\n",
              "  <thead>\n",
              "    <tr style=\"text-align: right;\">\n",
              "      <th></th>\n",
              "      <th>reviewText</th>\n",
              "      <th>overall</th>\n",
              "      <th>ReviewText2</th>\n",
              "    </tr>\n",
              "  </thead>\n",
              "  <tbody>\n",
              "    <tr>\n",
              "      <th>0</th>\n",
              "      <td>Although it fits well on my HTC EVO But i coul...</td>\n",
              "      <td>1</td>\n",
              "      <td>[although, it, fits, well, on, my, htc, evo, b...</td>\n",
              "    </tr>\n",
              "    <tr>\n",
              "      <th>1</th>\n",
              "      <td>Fits the screen precisely, all holes line up. ...</td>\n",
              "      <td>5</td>\n",
              "      <td>[fits, the, screen, precisely, all, holes, lin...</td>\n",
              "    </tr>\n",
              "    <tr>\n",
              "      <th>2</th>\n",
              "      <td>What can I say? It's tape...I may be biased, b...</td>\n",
              "      <td>2</td>\n",
              "      <td>[what, can, say, it, tape, may, be, biased, bu...</td>\n",
              "    </tr>\n",
              "    <tr>\n",
              "      <th>3</th>\n",
              "      <td>Alrite, ok,, fair, slim fit good 4 iphone , ca...</td>\n",
              "      <td>2</td>\n",
              "      <td>[alrite, ok, fair, slim, fit, good, iphone, ca...</td>\n",
              "    </tr>\n",
              "    <tr>\n",
              "      <th>4</th>\n",
              "      <td>I had never heard of SmackTom and was a little...</td>\n",
              "      <td>5</td>\n",
              "      <td>[had, never, heard, of, smacktom, and, was, li...</td>\n",
              "    </tr>\n",
              "  </tbody>\n",
              "</table>\n",
              "</div>\n",
              "    <div class=\"colab-df-buttons\">\n",
              "\n",
              "  <div class=\"colab-df-container\">\n",
              "    <button class=\"colab-df-convert\" onclick=\"convertToInteractive('df-d593907c-bfac-4acf-81d9-6a5b96085867')\"\n",
              "            title=\"Convert this dataframe to an interactive table.\"\n",
              "            style=\"display:none;\">\n",
              "\n",
              "  <svg xmlns=\"http://www.w3.org/2000/svg\" height=\"24px\" viewBox=\"0 -960 960 960\">\n",
              "    <path d=\"M120-120v-720h720v720H120Zm60-500h600v-160H180v160Zm220 220h160v-160H400v160Zm0 220h160v-160H400v160ZM180-400h160v-160H180v160Zm440 0h160v-160H620v160ZM180-180h160v-160H180v160Zm440 0h160v-160H620v160Z\"/>\n",
              "  </svg>\n",
              "    </button>\n",
              "\n",
              "  <style>\n",
              "    .colab-df-container {\n",
              "      display:flex;\n",
              "      gap: 12px;\n",
              "    }\n",
              "\n",
              "    .colab-df-convert {\n",
              "      background-color: #E8F0FE;\n",
              "      border: none;\n",
              "      border-radius: 50%;\n",
              "      cursor: pointer;\n",
              "      display: none;\n",
              "      fill: #1967D2;\n",
              "      height: 32px;\n",
              "      padding: 0 0 0 0;\n",
              "      width: 32px;\n",
              "    }\n",
              "\n",
              "    .colab-df-convert:hover {\n",
              "      background-color: #E2EBFA;\n",
              "      box-shadow: 0px 1px 2px rgba(60, 64, 67, 0.3), 0px 1px 3px 1px rgba(60, 64, 67, 0.15);\n",
              "      fill: #174EA6;\n",
              "    }\n",
              "\n",
              "    .colab-df-buttons div {\n",
              "      margin-bottom: 4px;\n",
              "    }\n",
              "\n",
              "    [theme=dark] .colab-df-convert {\n",
              "      background-color: #3B4455;\n",
              "      fill: #D2E3FC;\n",
              "    }\n",
              "\n",
              "    [theme=dark] .colab-df-convert:hover {\n",
              "      background-color: #434B5C;\n",
              "      box-shadow: 0px 1px 3px 1px rgba(0, 0, 0, 0.15);\n",
              "      filter: drop-shadow(0px 1px 2px rgba(0, 0, 0, 0.3));\n",
              "      fill: #FFFFFF;\n",
              "    }\n",
              "  </style>\n",
              "\n",
              "    <script>\n",
              "      const buttonEl =\n",
              "        document.querySelector('#df-d593907c-bfac-4acf-81d9-6a5b96085867 button.colab-df-convert');\n",
              "      buttonEl.style.display =\n",
              "        google.colab.kernel.accessAllowed ? 'block' : 'none';\n",
              "\n",
              "      async function convertToInteractive(key) {\n",
              "        const element = document.querySelector('#df-d593907c-bfac-4acf-81d9-6a5b96085867');\n",
              "        const dataTable =\n",
              "          await google.colab.kernel.invokeFunction('convertToInteractive',\n",
              "                                                    [key], {});\n",
              "        if (!dataTable) return;\n",
              "\n",
              "        const docLinkHtml = 'Like what you see? Visit the ' +\n",
              "          '<a target=\"_blank\" href=https://colab.research.google.com/notebooks/data_table.ipynb>data table notebook</a>'\n",
              "          + ' to learn more about interactive tables.';\n",
              "        element.innerHTML = '';\n",
              "        dataTable['output_type'] = 'display_data';\n",
              "        await google.colab.output.renderOutput(dataTable, element);\n",
              "        const docLink = document.createElement('div');\n",
              "        docLink.innerHTML = docLinkHtml;\n",
              "        element.appendChild(docLink);\n",
              "      }\n",
              "    </script>\n",
              "  </div>\n",
              "\n",
              "\n",
              "<div id=\"df-dd26c99b-f82d-48e8-b230-8cd6b5b3de2b\">\n",
              "  <button class=\"colab-df-quickchart\" onclick=\"quickchart('df-dd26c99b-f82d-48e8-b230-8cd6b5b3de2b')\"\n",
              "            title=\"Suggest charts\"\n",
              "            style=\"display:none;\">\n",
              "\n",
              "<svg xmlns=\"http://www.w3.org/2000/svg\" height=\"24px\"viewBox=\"0 0 24 24\"\n",
              "     width=\"24px\">\n",
              "    <g>\n",
              "        <path d=\"M19 3H5c-1.1 0-2 .9-2 2v14c0 1.1.9 2 2 2h14c1.1 0 2-.9 2-2V5c0-1.1-.9-2-2-2zM9 17H7v-7h2v7zm4 0h-2V7h2v10zm4 0h-2v-4h2v4z\"/>\n",
              "    </g>\n",
              "</svg>\n",
              "  </button>\n",
              "\n",
              "<style>\n",
              "  .colab-df-quickchart {\n",
              "      --bg-color: #E8F0FE;\n",
              "      --fill-color: #1967D2;\n",
              "      --hover-bg-color: #E2EBFA;\n",
              "      --hover-fill-color: #174EA6;\n",
              "      --disabled-fill-color: #AAA;\n",
              "      --disabled-bg-color: #DDD;\n",
              "  }\n",
              "\n",
              "  [theme=dark] .colab-df-quickchart {\n",
              "      --bg-color: #3B4455;\n",
              "      --fill-color: #D2E3FC;\n",
              "      --hover-bg-color: #434B5C;\n",
              "      --hover-fill-color: #FFFFFF;\n",
              "      --disabled-bg-color: #3B4455;\n",
              "      --disabled-fill-color: #666;\n",
              "  }\n",
              "\n",
              "  .colab-df-quickchart {\n",
              "    background-color: var(--bg-color);\n",
              "    border: none;\n",
              "    border-radius: 50%;\n",
              "    cursor: pointer;\n",
              "    display: none;\n",
              "    fill: var(--fill-color);\n",
              "    height: 32px;\n",
              "    padding: 0;\n",
              "    width: 32px;\n",
              "  }\n",
              "\n",
              "  .colab-df-quickchart:hover {\n",
              "    background-color: var(--hover-bg-color);\n",
              "    box-shadow: 0 1px 2px rgba(60, 64, 67, 0.3), 0 1px 3px 1px rgba(60, 64, 67, 0.15);\n",
              "    fill: var(--button-hover-fill-color);\n",
              "  }\n",
              "\n",
              "  .colab-df-quickchart-complete:disabled,\n",
              "  .colab-df-quickchart-complete:disabled:hover {\n",
              "    background-color: var(--disabled-bg-color);\n",
              "    fill: var(--disabled-fill-color);\n",
              "    box-shadow: none;\n",
              "  }\n",
              "\n",
              "  .colab-df-spinner {\n",
              "    border: 2px solid var(--fill-color);\n",
              "    border-color: transparent;\n",
              "    border-bottom-color: var(--fill-color);\n",
              "    animation:\n",
              "      spin 1s steps(1) infinite;\n",
              "  }\n",
              "\n",
              "  @keyframes spin {\n",
              "    0% {\n",
              "      border-color: transparent;\n",
              "      border-bottom-color: var(--fill-color);\n",
              "      border-left-color: var(--fill-color);\n",
              "    }\n",
              "    20% {\n",
              "      border-color: transparent;\n",
              "      border-left-color: var(--fill-color);\n",
              "      border-top-color: var(--fill-color);\n",
              "    }\n",
              "    30% {\n",
              "      border-color: transparent;\n",
              "      border-left-color: var(--fill-color);\n",
              "      border-top-color: var(--fill-color);\n",
              "      border-right-color: var(--fill-color);\n",
              "    }\n",
              "    40% {\n",
              "      border-color: transparent;\n",
              "      border-right-color: var(--fill-color);\n",
              "      border-top-color: var(--fill-color);\n",
              "    }\n",
              "    60% {\n",
              "      border-color: transparent;\n",
              "      border-right-color: var(--fill-color);\n",
              "    }\n",
              "    80% {\n",
              "      border-color: transparent;\n",
              "      border-right-color: var(--fill-color);\n",
              "      border-bottom-color: var(--fill-color);\n",
              "    }\n",
              "    90% {\n",
              "      border-color: transparent;\n",
              "      border-bottom-color: var(--fill-color);\n",
              "    }\n",
              "  }\n",
              "</style>\n",
              "\n",
              "  <script>\n",
              "    async function quickchart(key) {\n",
              "      const quickchartButtonEl =\n",
              "        document.querySelector('#' + key + ' button');\n",
              "      quickchartButtonEl.disabled = true;  // To prevent multiple clicks.\n",
              "      quickchartButtonEl.classList.add('colab-df-spinner');\n",
              "      try {\n",
              "        const charts = await google.colab.kernel.invokeFunction(\n",
              "            'suggestCharts', [key], {});\n",
              "      } catch (error) {\n",
              "        console.error('Error during call to suggestCharts:', error);\n",
              "      }\n",
              "      quickchartButtonEl.classList.remove('colab-df-spinner');\n",
              "      quickchartButtonEl.classList.add('colab-df-quickchart-complete');\n",
              "    }\n",
              "    (() => {\n",
              "      let quickchartButtonEl =\n",
              "        document.querySelector('#df-dd26c99b-f82d-48e8-b230-8cd6b5b3de2b button');\n",
              "      quickchartButtonEl.style.display =\n",
              "        google.colab.kernel.accessAllowed ? 'block' : 'none';\n",
              "    })();\n",
              "  </script>\n",
              "</div>\n",
              "    </div>\n",
              "  </div>\n"
            ],
            "application/vnd.google.colaboratory.intrinsic+json": {
              "type": "dataframe",
              "variable_name": "df1",
              "summary": "{\n  \"name\": \"df1\",\n  \"rows\": 55320,\n  \"fields\": [\n    {\n      \"column\": \"reviewText\",\n      \"properties\": {\n        \"dtype\": \"string\",\n        \"num_unique_values\": 55285,\n        \"samples\": [\n          \"Cheaply made, breaks easily, SUPER thin cord!  I was extremely careful with this charger and got 6mos use out of it before it finally broke too many times to fix....not worth the $\",\n          \"Aesthetically it's a great design. Very compact and finished look that blends with a sleek modern interior. The cradle/clamp is also large enough for a Galaxy S5, which is almost as large as a Galaxy Note. Unfortunately the suction cup mount didn't work and I returned them. I had purchased one for both of my cars. If the mount had worked, it would have been the best one I've ever purchased. And at a great price. It might mount on a windshield. I didn't try to mount them to my windshield, because I prefer not to have my large phone obstructing my view when I drive.\",\n          \"I really like the case and it's durability, only one thing I didn't like... Due to constant handling of my phone it get's dirty and I still haven't been able to find something that cleans it off. (Inside and out)\"\n        ],\n        \"semantic_type\": \"\",\n        \"description\": \"\"\n      }\n    },\n    {\n      \"column\": \"overall\",\n      \"properties\": {\n        \"dtype\": \"number\",\n        \"std\": 1,\n        \"min\": 1,\n        \"max\": 5,\n        \"num_unique_values\": 5,\n        \"samples\": [\n          5,\n          3,\n          2\n        ],\n        \"semantic_type\": \"\",\n        \"description\": \"\"\n      }\n    },\n    {\n      \"column\": \"ReviewText2\",\n      \"properties\": {\n        \"dtype\": \"object\",\n        \"semantic_type\": \"\",\n        \"description\": \"\"\n      }\n    }\n  ]\n}"
            }
          },
          "metadata": {},
          "execution_count": 86
        }
      ]
    },
    {
      "cell_type": "code",
      "source": [
        "df1['overall'].value_counts()"
      ],
      "metadata": {
        "colab": {
          "base_uri": "https://localhost:8080/"
        },
        "id": "UKSffF_e8bi9",
        "outputId": "cccf3939-2ae9-41ec-babf-add89d844641"
      },
      "execution_count": 87,
      "outputs": [
        {
          "output_type": "execute_result",
          "data": {
            "text/plain": [
              "overall\n",
              "1    11064\n",
              "5    11064\n",
              "2    11064\n",
              "4    11064\n",
              "3    11064\n",
              "Name: count, dtype: int64"
            ]
          },
          "metadata": {},
          "execution_count": 87
        }
      ]
    },
    {
      "cell_type": "code",
      "source": [
        "df1['ReviewText2'].dtypes"
      ],
      "metadata": {
        "colab": {
          "base_uri": "https://localhost:8080/"
        },
        "id": "GYSBjvhKBVq0",
        "outputId": "520af664-307b-4e4b-e211-baa39562ad80"
      },
      "execution_count": 88,
      "outputs": [
        {
          "output_type": "execute_result",
          "data": {
            "text/plain": [
              "dtype('O')"
            ]
          },
          "metadata": {},
          "execution_count": 88
        }
      ]
    },
    {
      "cell_type": "code",
      "source": [
        "df1['ReviewText2'].str.len().max()"
      ],
      "metadata": {
        "colab": {
          "base_uri": "https://localhost:8080/"
        },
        "id": "U7N-2qyVBjwS",
        "outputId": "07cddd09-8f23-438b-afae-cb4032af4555"
      },
      "execution_count": 89,
      "outputs": [
        {
          "output_type": "execute_result",
          "data": {
            "text/plain": [
              "3206"
            ]
          },
          "metadata": {},
          "execution_count": 89
        }
      ]
    },
    {
      "cell_type": "code",
      "source": [
        "df1['ReviewText2'].str.len().mean()"
      ],
      "metadata": {
        "colab": {
          "base_uri": "https://localhost:8080/"
        },
        "id": "DcO5jjueBpCQ",
        "outputId": "17e9cd54-8875-4418-d56c-dfee507a2f43"
      },
      "execution_count": 90,
      "outputs": [
        {
          "output_type": "execute_result",
          "data": {
            "text/plain": [
              "88.2136478669559"
            ]
          },
          "metadata": {},
          "execution_count": 90
        }
      ]
    },
    {
      "cell_type": "code",
      "source": [
        "X_train, X_test, y_train, y_test = train_test_split(df1['ReviewText2'],\n",
        "                                                    df1['overall'], test_size=0.3)"
      ],
      "metadata": {
        "id": "85XZBtHO53Uu"
      },
      "execution_count": 91,
      "outputs": []
    },
    {
      "cell_type": "code",
      "source": [
        "X_train"
      ],
      "metadata": {
        "colab": {
          "base_uri": "https://localhost:8080/"
        },
        "id": "pYt_eFZ_QKXF",
        "outputId": "21f37cdb-987e-43e2-de53-a1facafc431c"
      },
      "execution_count": 92,
      "outputs": [
        {
          "output_type": "execute_result",
          "data": {
            "text/plain": [
              "15817    [would, definitely, recommend, this, it, very,...\n",
              "44235    [wasn, sure, how, it, indicates, charging, it,...\n",
              "16235    [works, good, and, the, back, cover, fits, pre...\n",
              "41380    [this, case, fit, and, looks, really, nice, wi...\n",
              "9142     [worked, to, an, extent, this, charger, is, ac...\n",
              "                               ...                        \n",
              "18013    [if, you, hearing, what, with, every, call, by...\n",
              "5465     [ordered, these, for, my, husbands, phone, so,...\n",
              "28104    [waitied, forever, for, this, to, get, here, a...\n",
              "9967     [snaps, on, easy, and, still, have, access, to...\n",
              "29703    [so, the, old, adage, of, you, get, what, you,...\n",
              "Name: ReviewText2, Length: 38724, dtype: object"
            ]
          },
          "metadata": {},
          "execution_count": 92
        }
      ]
    },
    {
      "cell_type": "markdown",
      "source": [
        "## Word2Vec # 1\n",
        "Using balanced data\n",
        "\n",
        "\n"
      ],
      "metadata": {
        "id": "SH0nB8rai4I7"
      }
    },
    {
      "cell_type": "code",
      "source": [
        "w2v_model = gensim.models.Word2Vec(X_train,\n",
        "                                   #vector_size=100,\n",
        "                                   window=5,\n",
        "                                   min_count=2)"
      ],
      "metadata": {
        "id": "Yh39ACkQ6GXp"
      },
      "execution_count": 93,
      "outputs": []
    },
    {
      "cell_type": "code",
      "source": [
        "w2v_model.wv.most_similar('bad')"
      ],
      "metadata": {
        "colab": {
          "base_uri": "https://localhost:8080/"
        },
        "id": "mdgW1ZHuum7r",
        "outputId": "aa7092b5-50e2-493c-8201-ccd1004041d7"
      },
      "execution_count": 94,
      "outputs": [
        {
          "output_type": "execute_result",
          "data": {
            "text/plain": [
              "[('good', 0.66915363073349),\n",
              " ('terrible', 0.6460320949554443),\n",
              " ('awful', 0.5988014340400696),\n",
              " ('horrible', 0.5611162185668945),\n",
              " ('amazing', 0.5394986867904663),\n",
              " ('poor', 0.539130449295044),\n",
              " ('ridiculous', 0.5383977890014648),\n",
              " ('obvious', 0.5177709460258484),\n",
              " ('okay', 0.5151788592338562),\n",
              " ('cheap', 0.5121865272521973)]"
            ]
          },
          "metadata": {},
          "execution_count": 94
        }
      ]
    },
    {
      "cell_type": "code",
      "source": [
        "words = set(w2v_model.wv.index_to_key)"
      ],
      "metadata": {
        "id": "sQOjJVLUCpgh"
      },
      "execution_count": 95,
      "outputs": []
    },
    {
      "cell_type": "code",
      "source": [
        "#words"
      ],
      "metadata": {
        "id": "mx7W0miq4WRp"
      },
      "execution_count": 96,
      "outputs": []
    },
    {
      "cell_type": "code",
      "source": [
        "#pca plot for words to see how well word2vec model did\n",
        "words = ['good', 'bad', 'horrible', 'excellent', 'terrible', 'average', 'okay']\n",
        "\n",
        "word_vectors = np.array([w2v_model.wv[word] for word in words])\n",
        "\n",
        "#pca\n",
        "pca = PCA(n_components=2)\n",
        "pca_vectors = pca.fit_transform(word_vectors)\n",
        "\n",
        "#2 pcs\n",
        "plt.figure(figsize=(8, 6))\n",
        "plt.scatter(pca_vectors[:, 0], pca_vectors[:, 1], marker='o')\n",
        "for i, word in enumerate(words):\n",
        "    plt.annotate(word, xy=(pca_vectors[i, 0], pca_vectors[i, 1]))\n",
        "plt.show()"
      ],
      "metadata": {
        "colab": {
          "base_uri": "https://localhost:8080/",
          "height": 524
        },
        "id": "lCT3leJ58qxg",
        "outputId": "9cae18c3-c122-440d-ffa3-8ffe6e697d57"
      },
      "execution_count": 97,
      "outputs": [
        {
          "output_type": "display_data",
          "data": {
            "text/plain": [
              "<Figure size 800x600 with 1 Axes>"
            ],
            "image/png": "[encoded data removed]"
          },
          "metadata": {}
        }
      ]
    },
    {
      "cell_type": "code",
      "source": [
        "df1.head()"
      ],
      "metadata": {
        "colab": {
          "base_uri": "https://localhost:8080/",
          "height": 206
        },
        "id": "oTqrsuUn2sKu",
        "outputId": "97d63449-bbe1-45c5-a4a7-02e61847f3cb"
      },
      "execution_count": 98,
      "outputs": [
        {
          "output_type": "execute_result",
          "data": {
            "text/plain": [
              "                                          reviewText  overall  \\\n",
              "0  Although it fits well on my HTC EVO But i coul...        1   \n",
              "1  Fits the screen precisely, all holes line up. ...        5   \n",
              "2  What can I say? It's tape...I may be biased, b...        2   \n",
              "3  Alrite, ok,, fair, slim fit good 4 iphone , ca...        2   \n",
              "4  I had never heard of SmackTom and was a little...        5   \n",
              "\n",
              "                                         ReviewText2  \n",
              "0  [although, it, fits, well, on, my, htc, evo, b...  \n",
              "1  [fits, the, screen, precisely, all, holes, lin...  \n",
              "2  [what, can, say, it, tape, may, be, biased, bu...  \n",
              "3  [alrite, ok, fair, slim, fit, good, iphone, ca...  \n",
              "4  [had, never, heard, of, smacktom, and, was, li...  "
            ],
            "text/html": [
              "\n",
              "  <div id=\"df-6c263708-a4a8-4bb4-a40b-2ae2377860c5\" class=\"colab-df-container\">\n",
              "    <div>\n",
              "<style scoped>\n",
              "    .dataframe tbody tr th:only-of-type {\n",
              "        vertical-align: middle;\n",
              "    }\n",
              "\n",
              "    .dataframe tbody tr th {\n",
              "        vertical-align: top;\n",
              "    }\n",
              "\n",
              "    .dataframe thead th {\n",
              "        text-align: right;\n",
              "    }\n",
              "</style>\n",
              "<table border=\"1\" class=\"dataframe\">\n",
              "  <thead>\n",
              "    <tr style=\"text-align: right;\">\n",
              "      <th></th>\n",
              "      <th>reviewText</th>\n",
              "      <th>overall</th>\n",
              "      <th>ReviewText2</th>\n",
              "    </tr>\n",
              "  </thead>\n",
              "  <tbody>\n",
              "    <tr>\n",
              "      <th>0</th>\n",
              "      <td>Although it fits well on my HTC EVO But i coul...</td>\n",
              "      <td>1</td>\n",
              "      <td>[although, it, fits, well, on, my, htc, evo, b...</td>\n",
              "    </tr>\n",
              "    <tr>\n",
              "      <th>1</th>\n",
              "      <td>Fits the screen precisely, all holes line up. ...</td>\n",
              "      <td>5</td>\n",
              "      <td>[fits, the, screen, precisely, all, holes, lin...</td>\n",
              "    </tr>\n",
              "    <tr>\n",
              "      <th>2</th>\n",
              "      <td>What can I say? It's tape...I may be biased, b...</td>\n",
              "      <td>2</td>\n",
              "      <td>[what, can, say, it, tape, may, be, biased, bu...</td>\n",
              "    </tr>\n",
              "    <tr>\n",
              "      <th>3</th>\n",
              "      <td>Alrite, ok,, fair, slim fit good 4 iphone , ca...</td>\n",
              "      <td>2</td>\n",
              "      <td>[alrite, ok, fair, slim, fit, good, iphone, ca...</td>\n",
              "    </tr>\n",
              "    <tr>\n",
              "      <th>4</th>\n",
              "      <td>I had never heard of SmackTom and was a little...</td>\n",
              "      <td>5</td>\n",
              "      <td>[had, never, heard, of, smacktom, and, was, li...</td>\n",
              "    </tr>\n",
              "  </tbody>\n",
              "</table>\n",
              "</div>\n",
              "    <div class=\"colab-df-buttons\">\n",
              "\n",
              "  <div class=\"colab-df-container\">\n",
              "    <button class=\"colab-df-convert\" onclick=\"convertToInteractive('df-6c263708-a4a8-4bb4-a40b-2ae2377860c5')\"\n",
              "            title=\"Convert this dataframe to an interactive table.\"\n",
              "            style=\"display:none;\">\n",
              "\n",
              "  <svg xmlns=\"http://www.w3.org/2000/svg\" height=\"24px\" viewBox=\"0 -960 960 960\">\n",
              "    <path d=\"M120-120v-720h720v720H120Zm60-500h600v-160H180v160Zm220 220h160v-160H400v160Zm0 220h160v-160H400v160ZM180-400h160v-160H180v160Zm440 0h160v-160H620v160ZM180-180h160v-160H180v160Zm440 0h160v-160H620v160Z\"/>\n",
              "  </svg>\n",
              "    </button>\n",
              "\n",
              "  <style>\n",
              "    .colab-df-container {\n",
              "      display:flex;\n",
              "      gap: 12px;\n",
              "    }\n",
              "\n",
              "    .colab-df-convert {\n",
              "      background-color: #E8F0FE;\n",
              "      border: none;\n",
              "      border-radius: 50%;\n",
              "      cursor: pointer;\n",
              "      display: none;\n",
              "      fill: #1967D2;\n",
              "      height: 32px;\n",
              "      padding: 0 0 0 0;\n",
              "      width: 32px;\n",
              "    }\n",
              "\n",
              "    .colab-df-convert:hover {\n",
              "      background-color: #E2EBFA;\n",
              "      box-shadow: 0px 1px 2px rgba(60, 64, 67, 0.3), 0px 1px 3px 1px rgba(60, 64, 67, 0.15);\n",
              "      fill: #174EA6;\n",
              "    }\n",
              "\n",
              "    .colab-df-buttons div {\n",
              "      margin-bottom: 4px;\n",
              "    }\n",
              "\n",
              "    [theme=dark] .colab-df-convert {\n",
              "      background-color: #3B4455;\n",
              "      fill: #D2E3FC;\n",
              "    }\n",
              "\n",
              "    [theme=dark] .colab-df-convert:hover {\n",
              "      background-color: #434B5C;\n",
              "      box-shadow: 0px 1px 3px 1px rgba(0, 0, 0, 0.15);\n",
              "      filter: drop-shadow(0px 1px 2px rgba(0, 0, 0, 0.3));\n",
              "      fill: #FFFFFF;\n",
              "    }\n",
              "  </style>\n",
              "\n",
              "    <script>\n",
              "      const buttonEl =\n",
              "        document.querySelector('#df-6c263708-a4a8-4bb4-a40b-2ae2377860c5 button.colab-df-convert');\n",
              "      buttonEl.style.display =\n",
              "        google.colab.kernel.accessAllowed ? 'block' : 'none';\n",
              "\n",
              "      async function convertToInteractive(key) {\n",
              "        const element = document.querySelector('#df-6c263708-a4a8-4bb4-a40b-2ae2377860c5');\n",
              "        const dataTable =\n",
              "          await google.colab.kernel.invokeFunction('convertToInteractive',\n",
              "                                                    [key], {});\n",
              "        if (!dataTable) return;\n",
              "\n",
              "        const docLinkHtml = 'Like what you see? Visit the ' +\n",
              "          '<a target=\"_blank\" href=https://colab.research.google.com/notebooks/data_table.ipynb>data table notebook</a>'\n",
              "          + ' to learn more about interactive tables.';\n",
              "        element.innerHTML = '';\n",
              "        dataTable['output_type'] = 'display_data';\n",
              "        await google.colab.output.renderOutput(dataTable, element);\n",
              "        const docLink = document.createElement('div');\n",
              "        docLink.innerHTML = docLinkHtml;\n",
              "        element.appendChild(docLink);\n",
              "      }\n",
              "    </script>\n",
              "  </div>\n",
              "\n",
              "\n",
              "<div id=\"df-0127c97a-374e-435f-bf2e-95b30d35becb\">\n",
              "  <button class=\"colab-df-quickchart\" onclick=\"quickchart('df-0127c97a-374e-435f-bf2e-95b30d35becb')\"\n",
              "            title=\"Suggest charts\"\n",
              "            style=\"display:none;\">\n",
              "\n",
              "<svg xmlns=\"http://www.w3.org/2000/svg\" height=\"24px\"viewBox=\"0 0 24 24\"\n",
              "     width=\"24px\">\n",
              "    <g>\n",
              "        <path d=\"M19 3H5c-1.1 0-2 .9-2 2v14c0 1.1.9 2 2 2h14c1.1 0 2-.9 2-2V5c0-1.1-.9-2-2-2zM9 17H7v-7h2v7zm4 0h-2V7h2v10zm4 0h-2v-4h2v4z\"/>\n",
              "    </g>\n",
              "</svg>\n",
              "  </button>\n",
              "\n",
              "<style>\n",
              "  .colab-df-quickchart {\n",
              "      --bg-color: #E8F0FE;\n",
              "      --fill-color: #1967D2;\n",
              "      --hover-bg-color: #E2EBFA;\n",
              "      --hover-fill-color: #174EA6;\n",
              "      --disabled-fill-color: #AAA;\n",
              "      --disabled-bg-color: #DDD;\n",
              "  }\n",
              "\n",
              "  [theme=dark] .colab-df-quickchart {\n",
              "      --bg-color: #3B4455;\n",
              "      --fill-color: #D2E3FC;\n",
              "      --hover-bg-color: #434B5C;\n",
              "      --hover-fill-color: #FFFFFF;\n",
              "      --disabled-bg-color: #3B4455;\n",
              "      --disabled-fill-color: #666;\n",
              "  }\n",
              "\n",
              "  .colab-df-quickchart {\n",
              "    background-color: var(--bg-color);\n",
              "    border: none;\n",
              "    border-radius: 50%;\n",
              "    cursor: pointer;\n",
              "    display: none;\n",
              "    fill: var(--fill-color);\n",
              "    height: 32px;\n",
              "    padding: 0;\n",
              "    width: 32px;\n",
              "  }\n",
              "\n",
              "  .colab-df-quickchart:hover {\n",
              "    background-color: var(--hover-bg-color);\n",
              "    box-shadow: 0 1px 2px rgba(60, 64, 67, 0.3), 0 1px 3px 1px rgba(60, 64, 67, 0.15);\n",
              "    fill: var(--button-hover-fill-color);\n",
              "  }\n",
              "\n",
              "  .colab-df-quickchart-complete:disabled,\n",
              "  .colab-df-quickchart-complete:disabled:hover {\n",
              "    background-color: var(--disabled-bg-color);\n",
              "    fill: var(--disabled-fill-color);\n",
              "    box-shadow: none;\n",
              "  }\n",
              "\n",
              "  .colab-df-spinner {\n",
              "    border: 2px solid var(--fill-color);\n",
              "    border-color: transparent;\n",
              "    border-bottom-color: var(--fill-color);\n",
              "    animation:\n",
              "      spin 1s steps(1) infinite;\n",
              "  }\n",
              "\n",
              "  @keyframes spin {\n",
              "    0% {\n",
              "      border-color: transparent;\n",
              "      border-bottom-color: var(--fill-color);\n",
              "      border-left-color: var(--fill-color);\n",
              "    }\n",
              "    20% {\n",
              "      border-color: transparent;\n",
              "      border-left-color: var(--fill-color);\n",
              "      border-top-color: var(--fill-color);\n",
              "    }\n",
              "    30% {\n",
              "      border-color: transparent;\n",
              "      border-left-color: var(--fill-color);\n",
              "      border-top-color: var(--fill-color);\n",
              "      border-right-color: var(--fill-color);\n",
              "    }\n",
              "    40% {\n",
              "      border-color: transparent;\n",
              "      border-right-color: var(--fill-color);\n",
              "      border-top-color: var(--fill-color);\n",
              "    }\n",
              "    60% {\n",
              "      border-color: transparent;\n",
              "      border-right-color: var(--fill-color);\n",
              "    }\n",
              "    80% {\n",
              "      border-color: transparent;\n",
              "      border-right-color: var(--fill-color);\n",
              "      border-bottom-color: var(--fill-color);\n",
              "    }\n",
              "    90% {\n",
              "      border-color: transparent;\n",
              "      border-bottom-color: var(--fill-color);\n",
              "    }\n",
              "  }\n",
              "</style>\n",
              "\n",
              "  <script>\n",
              "    async function quickchart(key) {\n",
              "      const quickchartButtonEl =\n",
              "        document.querySelector('#' + key + ' button');\n",
              "      quickchartButtonEl.disabled = true;  // To prevent multiple clicks.\n",
              "      quickchartButtonEl.classList.add('colab-df-spinner');\n",
              "      try {\n",
              "        const charts = await google.colab.kernel.invokeFunction(\n",
              "            'suggestCharts', [key], {});\n",
              "      } catch (error) {\n",
              "        console.error('Error during call to suggestCharts:', error);\n",
              "      }\n",
              "      quickchartButtonEl.classList.remove('colab-df-spinner');\n",
              "      quickchartButtonEl.classList.add('colab-df-quickchart-complete');\n",
              "    }\n",
              "    (() => {\n",
              "      let quickchartButtonEl =\n",
              "        document.querySelector('#df-0127c97a-374e-435f-bf2e-95b30d35becb button');\n",
              "      quickchartButtonEl.style.display =\n",
              "        google.colab.kernel.accessAllowed ? 'block' : 'none';\n",
              "    })();\n",
              "  </script>\n",
              "</div>\n",
              "    </div>\n",
              "  </div>\n"
            ],
            "application/vnd.google.colaboratory.intrinsic+json": {
              "type": "dataframe",
              "variable_name": "df1",
              "summary": "{\n  \"name\": \"df1\",\n  \"rows\": 55320,\n  \"fields\": [\n    {\n      \"column\": \"reviewText\",\n      \"properties\": {\n        \"dtype\": \"string\",\n        \"num_unique_values\": 55285,\n        \"samples\": [\n          \"Cheaply made, breaks easily, SUPER thin cord!  I was extremely careful with this charger and got 6mos use out of it before it finally broke too many times to fix....not worth the $\",\n          \"Aesthetically it's a great design. Very compact and finished look that blends with a sleek modern interior. The cradle/clamp is also large enough for a Galaxy S5, which is almost as large as a Galaxy Note. Unfortunately the suction cup mount didn't work and I returned them. I had purchased one for both of my cars. If the mount had worked, it would have been the best one I've ever purchased. And at a great price. It might mount on a windshield. I didn't try to mount them to my windshield, because I prefer not to have my large phone obstructing my view when I drive.\",\n          \"I really like the case and it's durability, only one thing I didn't like... Due to constant handling of my phone it get's dirty and I still haven't been able to find something that cleans it off. (Inside and out)\"\n        ],\n        \"semantic_type\": \"\",\n        \"description\": \"\"\n      }\n    },\n    {\n      \"column\": \"overall\",\n      \"properties\": {\n        \"dtype\": \"number\",\n        \"std\": 1,\n        \"min\": 1,\n        \"max\": 5,\n        \"num_unique_values\": 5,\n        \"samples\": [\n          5,\n          3,\n          2\n        ],\n        \"semantic_type\": \"\",\n        \"description\": \"\"\n      }\n    },\n    {\n      \"column\": \"ReviewText2\",\n      \"properties\": {\n        \"dtype\": \"object\",\n        \"semantic_type\": \"\",\n        \"description\": \"\"\n      }\n    }\n  ]\n}"
            }
          },
          "metadata": {},
          "execution_count": 98
        }
      ]
    },
    {
      "cell_type": "code",
      "source": [
        "#from keras.preprocessing.text import Tokenizer\n",
        "\n",
        "#tokenizer = Tokenizer()\n",
        "\n",
        "#Convert the words to integers\n",
        "#X_train = tokenizer.texts_to_sequences(X_train)\n",
        "#X_test = tokenizer.texts_to_sequences(X_test)\n",
        "\n",
        "#max_length = max(len(review) for review in X_train)\n",
        "\n",
        "#pad or truncate to the same length\n",
        "#X_train_padded = pad_sequences(X_train, maxlen=max_length, value=0)\n",
        "#X_test_padded = pad_sequences(X_test, maxlen=max_length, value=0)"
      ],
      "metadata": {
        "id": "998q7vLx2qQ_"
      },
      "execution_count": 99,
      "outputs": []
    },
    {
      "cell_type": "code",
      "source": [
        "X_train"
      ],
      "metadata": {
        "colab": {
          "base_uri": "https://localhost:8080/"
        },
        "id": "uiiinw_6jvXS",
        "outputId": "607952e4-42bc-411d-b7f4-89a919e13b26"
      },
      "execution_count": 100,
      "outputs": [
        {
          "output_type": "execute_result",
          "data": {
            "text/plain": [
              "15817    [would, definitely, recommend, this, it, very,...\n",
              "44235    [wasn, sure, how, it, indicates, charging, it,...\n",
              "16235    [works, good, and, the, back, cover, fits, pre...\n",
              "41380    [this, case, fit, and, looks, really, nice, wi...\n",
              "9142     [worked, to, an, extent, this, charger, is, ac...\n",
              "                               ...                        \n",
              "18013    [if, you, hearing, what, with, every, call, by...\n",
              "5465     [ordered, these, for, my, husbands, phone, so,...\n",
              "28104    [waitied, forever, for, this, to, get, here, a...\n",
              "9967     [snaps, on, easy, and, still, have, access, to...\n",
              "29703    [so, the, old, adage, of, you, get, what, you,...\n",
              "Name: ReviewText2, Length: 38724, dtype: object"
            ]
          },
          "metadata": {},
          "execution_count": 100
        }
      ]
    },
    {
      "cell_type": "code",
      "source": [
        "X_train_vecs = []\n",
        "X_test_vecs = []\n",
        "\n",
        "#convert each sentence in X_train to a vector\n",
        "for sentence in X_train:\n",
        "    vec = np.zeros(w2v_model.vector_size)\n",
        "    for word in sentence:\n",
        "        if word in words:\n",
        "            vec += w2v_model.wv[word]\n",
        "    vec /= len(sentence)\n",
        "    X_train_vecs.append(vec)\n",
        "\n",
        "#convert each sentence in X_test to a vector\n",
        "for sentence in X_test:\n",
        "    vec = np.zeros(w2v_model.vector_size)\n",
        "    for word in sentence:\n",
        "        if word in words:\n",
        "            vec += w2v_model.wv[word]\n",
        "    vec /= len(sentence)\n",
        "    X_test_vecs.append(vec)\n",
        "\n",
        "#convert lists to numpy arrays\n",
        "X_train_vecs = np.array(X_train_vecs)\n",
        "X_test_vecs = np.array(X_test_vecs)"
      ],
      "metadata": {
        "colab": {
          "base_uri": "https://localhost:8080/"
        },
        "id": "z32GeFcEvSuD",
        "outputId": "094c8e87-5898-45bd-857c-735355e0ce09"
      },
      "execution_count": 101,
      "outputs": [
        {
          "output_type": "stream",
          "name": "stderr",
          "text": [
            "<ipython-input-101-9d9ee9271aed>:10: RuntimeWarning: invalid value encountered in divide\n",
            "  vec /= len(sentence)\n",
            "<ipython-input-101-9d9ee9271aed>:19: RuntimeWarning: invalid value encountered in divide\n",
            "  vec /= len(sentence)\n"
          ]
        }
      ]
    },
    {
      "cell_type": "code",
      "source": [
        "X_train_vecs"
      ],
      "metadata": {
        "colab": {
          "base_uri": "https://localhost:8080/"
        },
        "id": "vuFnRcE7uHiW",
        "outputId": "a64539ff-4438-4a2f-a2c8-4f83a342c149"
      },
      "execution_count": 102,
      "outputs": [
        {
          "output_type": "execute_result",
          "data": {
            "text/plain": [
              "array([[ 0.        ,  0.        ,  0.        , ...,  0.        ,\n",
              "         0.        ,  0.        ],\n",
              "       [ 0.        ,  0.        ,  0.        , ...,  0.        ,\n",
              "         0.        ,  0.        ],\n",
              "       [-0.00441243,  0.00386195, -0.00012239, ..., -0.00078544,\n",
              "        -0.00490997, -0.0076931 ],\n",
              "       ...,\n",
              "       [ 0.        ,  0.        ,  0.        , ...,  0.        ,\n",
              "         0.        ,  0.        ],\n",
              "       [ 0.        ,  0.        ,  0.        , ...,  0.        ,\n",
              "         0.        ,  0.        ],\n",
              "       [ 0.        ,  0.        ,  0.        , ...,  0.        ,\n",
              "         0.        ,  0.        ]])"
            ]
          },
          "metadata": {},
          "execution_count": 102
        }
      ]
    },
    {
      "cell_type": "code",
      "source": [
        "X_train_vecs.shape\n",
        "y_train.shape"
      ],
      "metadata": {
        "colab": {
          "base_uri": "https://localhost:8080/"
        },
        "id": "hXAY9Bi-swMe",
        "outputId": "a961380f-7b75-4a32-8f91-3d0ebaad1855"
      },
      "execution_count": 163,
      "outputs": [
        {
          "output_type": "execute_result",
          "data": {
            "text/plain": [
              "(38724,)"
            ]
          },
          "metadata": {},
          "execution_count": 163
        }
      ]
    },
    {
      "cell_type": "code",
      "source": [
        "#average vectors\n",
        "X_train_vect_avg = []\n",
        "for v in X_train_vecs:\n",
        "    if v.size:\n",
        "        X_train_vect_avg.append(v.mean(axis=0))\n",
        "    else:\n",
        "        X_train_vect_avg.append(np.zeros(100, dtype=float))\n",
        "\n",
        "X_test_vect_avg = []\n",
        "for v in X_test_vecs:\n",
        "    if v.size:\n",
        "        X_test_vect_avg.append(v.mean(axis=0))\n",
        "    else:\n",
        "        X_test_vect_avg.append(np.zeros(100, dtype=float))"
      ],
      "metadata": {
        "id": "F1f7-wqY6cVA"
      },
      "execution_count": 164,
      "outputs": []
    },
    {
      "cell_type": "code",
      "source": [
        "len(X_train_vect_avg)"
      ],
      "metadata": {
        "colab": {
          "base_uri": "https://localhost:8080/"
        },
        "id": "gnsDi94ls4DH",
        "outputId": "40fba3fd-dc7c-4703-ece8-fdb10665eae1"
      },
      "execution_count": 168,
      "outputs": [
        {
          "output_type": "execute_result",
          "data": {
            "text/plain": [
              "38724"
            ]
          },
          "metadata": {},
          "execution_count": 168
        }
      ]
    },
    {
      "cell_type": "code",
      "source": [
        "#for i in len(X_train_vect_avg):\n",
        "  #if i == 0:\n",
        "    #drop i from X_train_vect_avg & do the same for test, & remove corresponding index from train or test"
      ],
      "metadata": {
        "id": "tbAfQaHIuAdV"
      },
      "execution_count": 104,
      "outputs": []
    },
    {
      "cell_type": "markdown",
      "source": [
        "## Word2Vec #2\n",
        "Using subset_df"
      ],
      "metadata": {
        "id": "Op0FIpcdJ34E"
      }
    },
    {
      "cell_type": "code",
      "source": [
        "model = gensim.models.Word2Vec(\n",
        "    window=10,\n",
        "    min_count=2,\n",
        "    workers=4,\n",
        ")"
      ],
      "metadata": {
        "id": "10v3f1y8J7iS"
      },
      "execution_count": 105,
      "outputs": []
    },
    {
      "cell_type": "code",
      "source": [
        "model.build_vocab(review_text, progress_per=1000)"
      ],
      "metadata": {
        "id": "1P9NImYAJ_zC"
      },
      "execution_count": 106,
      "outputs": []
    },
    {
      "cell_type": "code",
      "source": [
        "model.train(review_text, total_examples=model.corpus_count, epochs=model.epochs)"
      ],
      "metadata": {
        "colab": {
          "base_uri": "https://localhost:8080/"
        },
        "id": "yFtt8q-pJ_1b",
        "outputId": "fc8795ab-5fed-4cc0-ca7c-79e0dacb02d2"
      },
      "execution_count": 107,
      "outputs": [
        {
          "output_type": "execute_result",
          "data": {
            "text/plain": [
              "(3194396, 4400430)"
            ]
          },
          "metadata": {},
          "execution_count": 107
        }
      ]
    },
    {
      "cell_type": "code",
      "source": [
        "word = \"good\"\n",
        "model.wv[word]"
      ],
      "metadata": {
        "colab": {
          "base_uri": "https://localhost:8080/"
        },
        "id": "7qJapEZWyXT7",
        "outputId": "46bec36b-9d77-4a4d-8ca1-8d967808b77c"
      },
      "execution_count": 108,
      "outputs": [
        {
          "output_type": "execute_result",
          "data": {
            "text/plain": [
              "array([ 0.84478307,  0.03595582, -1.1847414 , -0.34496337, -0.03425371,\n",
              "       -0.20568359, -0.7215651 , -0.6049443 ,  1.2582487 ,  0.3105398 ,\n",
              "       -0.71349776,  0.52236694, -0.47027484,  1.836606  ,  0.1713065 ,\n",
              "        0.3314552 , -1.8516357 ,  0.4994768 ,  1.3239365 ,  0.6368516 ,\n",
              "       -0.23592043, -1.3005517 , -0.3810848 , -1.2239963 ,  1.179227  ,\n",
              "        0.30377862,  0.5345077 ,  1.691695  , -1.3037235 , -0.26974306,\n",
              "        1.6318213 , -1.2603905 ,  1.8961829 ,  0.40732497, -1.2242619 ,\n",
              "       -0.8924616 ,  1.2833836 ,  0.77559423, -1.1734535 ,  2.3747752 ,\n",
              "        0.5058221 ,  0.9514771 ,  0.94707364, -1.3335865 , -0.05505715,\n",
              "       -0.7143027 , -0.09229028, -0.3836412 ,  0.67082345, -0.62780017,\n",
              "        1.5750273 , -0.5290603 ,  0.03237111,  0.75947297,  0.48538905,\n",
              "        1.2478751 , -0.43379575, -0.13442962, -1.1543772 , -1.2178602 ,\n",
              "        1.0433681 , -0.8512416 , -0.00931606,  0.09225611, -0.29893   ,\n",
              "        0.3604319 ,  0.5008331 , -0.26613274, -1.3879855 ,  0.2634631 ,\n",
              "       -0.6830853 , -0.02551232,  2.061629  , -0.34776592,  0.33162844,\n",
              "       -0.38005722,  0.05146401, -0.42562544,  0.26462936,  0.15431942,\n",
              "       -0.9137688 , -0.43111247, -3.4146805 ,  1.4996428 , -1.4180663 ,\n",
              "       -1.3203999 ,  1.072259  ,  0.19439119,  0.05023731, -0.31127852,\n",
              "        1.6583183 ,  1.3021588 ,  1.2861819 , -0.40268126,  1.1171621 ,\n",
              "        0.22617947, -2.5158205 ,  0.24622644, -2.137439  , -2.308003  ],\n",
              "      dtype=float32)"
            ]
          },
          "metadata": {},
          "execution_count": 108
        }
      ]
    },
    {
      "cell_type": "code",
      "source": [
        "model.wv.most_similar(\"good\")"
      ],
      "metadata": {
        "colab": {
          "base_uri": "https://localhost:8080/"
        },
        "id": "LGCwJDO_J_4C",
        "outputId": "f5c6ca71-10ec-4e47-d05a-f5026e193265"
      },
      "execution_count": 109,
      "outputs": [
        {
          "output_type": "execute_result",
          "data": {
            "text/plain": [
              "[('decent', 0.7842137217521667),\n",
              " ('great', 0.7329957485198975),\n",
              " ('fantastic', 0.6758183240890503),\n",
              " ('reasonable', 0.6686556935310364),\n",
              " ('pricy', 0.6435008645057678),\n",
              " ('ok', 0.6420198082923889),\n",
              " ('excellent', 0.634128212928772),\n",
              " ('booming', 0.6123116612434387),\n",
              " ('awesome', 0.6118017435073853),\n",
              " ('amazing', 0.6111575961112976)]"
            ]
          },
          "metadata": {},
          "execution_count": 109
        }
      ]
    },
    {
      "cell_type": "code",
      "source": [
        "model.wv.most_similar(\"bad\")"
      ],
      "metadata": {
        "colab": {
          "base_uri": "https://localhost:8080/"
        },
        "id": "uLchuW32J_6q",
        "outputId": "433cfd65-1ea0-48e4-af7e-4b6d8e5a2ebd"
      },
      "execution_count": 110,
      "outputs": [
        {
          "output_type": "execute_result",
          "data": {
            "text/plain": [
              "[('guess', 0.7427626848220825),\n",
              " ('okay', 0.7356058955192566),\n",
              " ('ok', 0.7115803956985474),\n",
              " ('fault', 0.6653526425361633),\n",
              " ('rave', 0.6651091575622559),\n",
              " ('complaining', 0.661050021648407),\n",
              " ('faults', 0.660409152507782),\n",
              " ('honestly', 0.6566110849380493),\n",
              " ('huge', 0.6520747542381287),\n",
              " ('why', 0.6486830115318298)]"
            ]
          },
          "metadata": {},
          "execution_count": 110
        }
      ]
    },
    {
      "cell_type": "code",
      "source": [
        "model.wv.most_similar(\"okay\")"
      ],
      "metadata": {
        "colab": {
          "base_uri": "https://localhost:8080/"
        },
        "id": "7jI5mwKWJ_9F",
        "outputId": "0ebda603-5a9d-4a5b-a4c5-e657bcf4a265"
      },
      "execution_count": 111,
      "outputs": [
        {
          "output_type": "execute_result",
          "data": {
            "text/plain": [
              "[('ok', 0.8874257206916809),\n",
              " ('alright', 0.8051456212997437),\n",
              " ('suprised', 0.7929761409759521),\n",
              " ('pleasing', 0.7868425846099854),\n",
              " ('expecting', 0.7768610119819641),\n",
              " ('pricey', 0.7758657932281494),\n",
              " ('lacking', 0.7741968035697937),\n",
              " ('picky', 0.7731367349624634),\n",
              " ('yes', 0.766976535320282),\n",
              " ('steep', 0.7615055441856384)]"
            ]
          },
          "metadata": {},
          "execution_count": 111
        }
      ]
    },
    {
      "cell_type": "code",
      "source": [
        "#pca plot for words to see how well word2vec model did\n",
        "words = ['good', 'bad', 'horrible', 'excellent', 'terrible', 'average', 'okay']\n",
        "\n",
        "word_vectors = np.array([model.wv[word] for word in words])\n",
        "\n",
        "#pca\n",
        "pca = PCA(n_components=2)\n",
        "pca_vectors = pca.fit_transform(word_vectors)\n",
        "\n",
        "#2 pcs\n",
        "plt.figure(figsize=(8, 6))\n",
        "plt.scatter(pca_vectors[:, 0], pca_vectors[:, 1], marker='o')\n",
        "for i, word in enumerate(words):\n",
        "    plt.annotate(word, xy=(pca_vectors[i, 0], pca_vectors[i, 1]))\n",
        "plt.show()"
      ],
      "metadata": {
        "colab": {
          "base_uri": "https://localhost:8080/",
          "height": 522
        },
        "id": "ThUbDiplqhxN",
        "outputId": "d58665a6-83d4-4758-a6ad-1bc745cff603"
      },
      "execution_count": 112,
      "outputs": [
        {
          "output_type": "display_data",
          "data": {
            "text/plain": [
              "<Figure size 800x600 with 1 Axes>"
            ],
            "image/png": "[encoded data removed]"
          },
          "metadata": {}
        }
      ]
    },
    {
      "cell_type": "markdown",
      "source": [
        "# Sentiment Analysis"
      ],
      "metadata": {
        "id": "5G6B73pxih8s"
      }
    },
    {
      "cell_type": "markdown",
      "source": [
        "## Further Preprocesing"
      ],
      "metadata": {
        "id": "vTGU2vHpeQnj"
      }
    },
    {
      "cell_type": "code",
      "source": [
        "#convert text to vector based on word embeddings\n",
        "def text_to_vector(text):\n",
        "    words = text.split()\n",
        "    vector = np.zeros((model.vector_size,))\n",
        "    for word in words:\n",
        "        if word in model.wv:\n",
        "            vector += model.wv[word]\n",
        "    return vector"
      ],
      "metadata": {
        "id": "zAt7fH7JbKkf"
      },
      "execution_count": 113,
      "outputs": []
    },
    {
      "cell_type": "code",
      "source": [
        "#tokenizer = AutoTokenizer.from_pretrained(\"cardiffnlp/twitter-roberta-base-sentiment\")\n",
        "#modeltoken = AutoModelForSequenceClassification.from_pretrained(\"cardiffnlp/twitter-roberta-base-sentiment\")\n",
        "\n",
        "#convert text to vector using the pre-trained model\n",
        "#def text_to_vector_transformers(text):\n",
        "    #inputs = tokenizer(text, return_tensors=\"pt\", truncation=True, padding=True, max_length=512)\n",
        "    #outputs = modeltoken(**inputs)\n",
        "    #logits = outputs.logits\n",
        "    #probabilities = torch.nn.functional.softmax(logits, dim=1)\n",
        "    #vector = probabilities.detach().numpy()[0]\n",
        "    #return vector"
      ],
      "metadata": {
        "id": "p7jbc1Ygl5pn"
      },
      "execution_count": 114,
      "outputs": []
    },
    {
      "cell_type": "code",
      "source": [
        "#subset_df\n",
        "X = np.array([text_to_vector(text) for text in subset_df['reviewText']])\n",
        "y = subset_df['overall']"
      ],
      "metadata": {
        "id": "04JbX9uhbSp_"
      },
      "execution_count": 115,
      "outputs": []
    },
    {
      "cell_type": "code",
      "source": [
        "#Not enough ram to run the following\n",
        "\n",
        "#from torch.nn.functional import softmax\n",
        "\n",
        "#trying to use batches instead of converting individually\n",
        "#def batch_text_to_vector_transformers(texts):\n",
        "    #inputs = tokenizer(texts, return_tensors=\"pt\", truncation=True, padding=True, max_length=512)\n",
        "    #outputs = modeltoken(**inputs)\n",
        "    #logits = outputs.logits\n",
        "    #probabilities = softmax(logits, dim=1)\n",
        "    #vectors = probabilities.detach().numpy()\n",
        "    #return vectors\n",
        "\n",
        "#batching\n",
        "#batch_size = 32\n",
        "#num_texts = len(subset_df['reviewText'])\n",
        "#num_batches = (num_texts + batch_size - 1) // batch_size\n",
        "\n",
        "#X = []\n",
        "\n",
        "#for i in range(num_batches):\n",
        "    #start_idx = i * batch_size\n",
        "    #end_idx = min((i + 1) * batch_size, num_texts)\n",
        "    #batch_texts = subset_df['reviewText'][start_idx:end_idx].tolist()\n",
        "    #batch_vectors = batch_text_to_vector_transformers(batch_texts)\n",
        "    #X.extend(batch_vectors)\n",
        "\n",
        "#X = np.array(X)\n",
        "#y = subset_df['overall']"
      ],
      "metadata": {
        "id": "2HRnkGl--utx"
      },
      "execution_count": 116,
      "outputs": []
    },
    {
      "cell_type": "code",
      "source": [
        "#rebalance data\n",
        "#smote = SMOTE(random_state=42)"
      ],
      "metadata": {
        "id": "WJpTLwx7ee7p"
      },
      "execution_count": 117,
      "outputs": []
    },
    {
      "cell_type": "code",
      "source": [
        "#resampling using undersampling, using full dataset here\n",
        "#class_counts = df['overall'].value_counts()\n",
        "#min_class_count = class_counts.min()\n",
        "\n",
        "#undersampled_df = pd.concat([df[df['overall'] == cls].sample(min_class_count, replace=False) for cls in class_counts.index])\n",
        "\n",
        "#undersampled_df = undersampled_df.sample(frac=1, random_state=42).reset_index(drop=True)"
      ],
      "metadata": {
        "id": "XTUGzr5rEygQ"
      },
      "execution_count": 118,
      "outputs": []
    },
    {
      "cell_type": "code",
      "source": [
        "#undersampled_df['overall'].value_counts()"
      ],
      "metadata": {
        "id": "gh2D0wv2E9hg"
      },
      "execution_count": 119,
      "outputs": []
    },
    {
      "cell_type": "code",
      "source": [
        "#X2 = np.array([text_to_vector(text) for text in undersampled_df['reviewText']])\n",
        "#y2 = undersampled_df['overall']"
      ],
      "metadata": {
        "id": "Ayri_miSFIzF"
      },
      "execution_count": 120,
      "outputs": []
    },
    {
      "cell_type": "code",
      "source": [
        "#X_resampled, y_resampled = smote.fit_resample(X, y)"
      ],
      "metadata": {
        "id": "d8gLBlV3ek9i"
      },
      "execution_count": 121,
      "outputs": []
    },
    {
      "cell_type": "code",
      "source": [
        "#print(Counter(y))\n",
        "#print(Counter(y_resampled))"
      ],
      "metadata": {
        "id": "ASJ7iLDxeoVo"
      },
      "execution_count": 122,
      "outputs": []
    },
    {
      "cell_type": "code",
      "source": [
        "#X_resampled[0]"
      ],
      "metadata": {
        "id": "3cm67qMYbU63"
      },
      "execution_count": 123,
      "outputs": []
    },
    {
      "cell_type": "code",
      "source": [
        "#y_resampled"
      ],
      "metadata": {
        "id": "dIos0ob3bdAC"
      },
      "execution_count": 124,
      "outputs": []
    },
    {
      "cell_type": "code",
      "source": [
        "#y_resampled.reset_index(drop=True, inplace=True)"
      ],
      "metadata": {
        "id": "sN1GfeHNrrcX"
      },
      "execution_count": 125,
      "outputs": []
    },
    {
      "cell_type": "code",
      "source": [
        "X_train1, X_test1, y_train1, y_test1 = train_test_split(X, y, test_size=0.3, random_state=42)"
      ],
      "metadata": {
        "id": "XHA-yehWfQ6Z"
      },
      "execution_count": 126,
      "outputs": []
    },
    {
      "cell_type": "markdown",
      "source": [
        "## Naive Bayes"
      ],
      "metadata": {
        "id": "1in_hCnTa7PW"
      }
    },
    {
      "cell_type": "markdown",
      "source": [
        "### Balanced Data"
      ],
      "metadata": {
        "id": "IvW6KZqerpgZ"
      }
    },
    {
      "cell_type": "code",
      "source": [
        "X_train_vect_avg[:10]\n",
        "#len(X_train_vect_avg)"
      ],
      "metadata": {
        "colab": {
          "base_uri": "https://localhost:8080/"
        },
        "id": "xwOZYc6nx9wW",
        "outputId": "75eedfda-4f2e-45c3-f6dc-df56b6a6130c"
      },
      "execution_count": 127,
      "outputs": [
        {
          "output_type": "execute_result",
          "data": {
            "text/plain": [
              "[0.0,\n",
              " 0.0,\n",
              " -0.0013011311657886802,\n",
              " 0.0,\n",
              " 0.0,\n",
              " -0.007173341558756011,\n",
              " 0.0,\n",
              " 0.0,\n",
              " 0.0,\n",
              " -0.002551648147208126]"
            ]
          },
          "metadata": {},
          "execution_count": 127
        }
      ]
    },
    {
      "cell_type": "code",
      "source": [
        "X_train_vect_avg_array = np.array(X_train_vect_avg)\n",
        "X_test_vect_avg_array = np.array(X_test_vect_avg)"
      ],
      "metadata": {
        "id": "XP6LcGXBop7x"
      },
      "execution_count": 169,
      "outputs": []
    },
    {
      "cell_type": "code",
      "source": [
        "X_train_vect_avg_array.shape"
      ],
      "metadata": {
        "colab": {
          "base_uri": "https://localhost:8080/"
        },
        "id": "0DXHFijBuGTf",
        "outputId": "42137646-ad85-43e2-af50-84629e0478c2"
      },
      "execution_count": 170,
      "outputs": [
        {
          "output_type": "execute_result",
          "data": {
            "text/plain": [
              "(38724,)"
            ]
          },
          "metadata": {},
          "execution_count": 170
        }
      ]
    },
    {
      "cell_type": "code",
      "source": [
        "X_train_vect_avg_array = np.array(X_train_vect_avg_array).reshape(-1, 1)\n",
        "X_test_vect_avg_array = np.array(X_test_vect_avg_array).reshape(-1, 1)"
      ],
      "metadata": {
        "id": "jjCuSyopmukN"
      },
      "execution_count": 176,
      "outputs": []
    },
    {
      "cell_type": "code",
      "source": [
        "y_train"
      ],
      "metadata": {
        "colab": {
          "base_uri": "https://localhost:8080/"
        },
        "id": "MDXPbrilwXHT",
        "outputId": "7c63bce3-1115-4ad5-8280-686901eea527"
      },
      "execution_count": 178,
      "outputs": [
        {
          "output_type": "execute_result",
          "data": {
            "text/plain": [
              "0        5\n",
              "1        1\n",
              "2        2\n",
              "3        4\n",
              "4        2\n",
              "        ..\n",
              "38719    1\n",
              "38720    5\n",
              "38721    2\n",
              "38722    4\n",
              "38723    3\n",
              "Name: overall, Length: 38724, dtype: int64"
            ]
          },
          "metadata": {},
          "execution_count": 178
        }
      ]
    },
    {
      "cell_type": "code",
      "source": [
        "X_train_vect_avg_array.shape"
      ],
      "metadata": {
        "colab": {
          "base_uri": "https://localhost:8080/"
        },
        "id": "QY3VZJpov3BT",
        "outputId": "f2b214fc-35e4-4869-9a0c-a08901448e5a"
      },
      "execution_count": 174,
      "outputs": [
        {
          "output_type": "execute_result",
          "data": {
            "text/plain": [
              "(38724, 1)"
            ]
          },
          "metadata": {},
          "execution_count": 174
        }
      ]
    },
    {
      "cell_type": "code",
      "source": [
        "print(sum(np.isnan(X_train_vect_avg_array)))\n",
        "print(sum(np.isnan(y_train)))"
      ],
      "metadata": {
        "colab": {
          "base_uri": "https://localhost:8080/"
        },
        "id": "NAWbLN-0pHH4",
        "outputId": "1d767e2b-575e-4f87-d0d3-22ff948df95f"
      },
      "execution_count": 173,
      "outputs": [
        {
          "output_type": "stream",
          "name": "stdout",
          "text": [
            "[18]\n",
            "0\n"
          ]
        }
      ]
    },
    {
      "cell_type": "code",
      "source": [
        "print(np.array(y_train))"
      ],
      "metadata": {
        "colab": {
          "base_uri": "https://localhost:8080/"
        },
        "id": "AIzzcSVxxNSG",
        "outputId": "94f55bcf-9371-4bd2-a6ce-ee21093bd4c2"
      },
      "execution_count": 183,
      "outputs": [
        {
          "output_type": "stream",
          "name": "stdout",
          "text": [
            "[5 1 2 ... 2 4 3]\n"
          ]
        }
      ]
    },
    {
      "cell_type": "code",
      "source": [
        "y_train = y_train.values\n",
        "\n",
        "dataset = pd.DataFrame(X_train_vect_avg_array, columns=['vec']).assign(label=y_train)"
      ],
      "metadata": {
        "id": "8hQsIWtmwmnS"
      },
      "execution_count": 189,
      "outputs": []
    },
    {
      "cell_type": "code",
      "source": [
        "print(dataset[:10])"
      ],
      "metadata": {
        "colab": {
          "base_uri": "https://localhost:8080/"
        },
        "id": "3q2Z8TW5x2JE",
        "outputId": "c4947c0d-0200-42b0-f0bc-0efc0e1c4f35"
      },
      "execution_count": 190,
      "outputs": [
        {
          "output_type": "stream",
          "name": "stdout",
          "text": [
            "        vec  label\n",
            "0  0.000000      5\n",
            "1  0.000000      1\n",
            "2 -0.001301      2\n",
            "3  0.000000      4\n",
            "4  0.000000      2\n",
            "5 -0.007173      5\n",
            "6  0.000000      5\n",
            "7  0.000000      5\n",
            "8  0.000000      3\n",
            "9 -0.002552      5\n"
          ]
        }
      ]
    },
    {
      "cell_type": "code",
      "source": [
        "dataset['vec'] = dataset['vec'].fillna(0)"
      ],
      "metadata": {
        "id": "Apqa3RmvqFWj"
      },
      "execution_count": 191,
      "outputs": []
    },
    {
      "cell_type": "code",
      "source": [
        "dataset.dropna(subset=['vec'], inplace=True)\n",
        "dataset.drop(dataset[dataset['vec'] == 0].index, inplace=True)"
      ],
      "metadata": {
        "id": "mcYzPIM9yo9A"
      },
      "execution_count": 192,
      "outputs": []
    },
    {
      "cell_type": "code",
      "source": [
        "print(dataset[:5])"
      ],
      "metadata": {
        "colab": {
          "base_uri": "https://localhost:8080/"
        },
        "id": "kiZj9aQiy-Jt",
        "outputId": "4e60e16d-b1e1-4054-c792-c737928c6e7c"
      },
      "execution_count": 200,
      "outputs": [
        {
          "output_type": "stream",
          "name": "stdout",
          "text": [
            "         vec  label\n",
            "2  -0.001301      2\n",
            "5  -0.007173      5\n",
            "9  -0.002552      5\n",
            "10 -0.002442      4\n",
            "14 -0.002869      5\n"
          ]
        }
      ]
    },
    {
      "cell_type": "code",
      "source": [
        "#so I'm gonna do another train-test split from 'dataset' here even though it's already supposedly the training data\n",
        "\n",
        "Xnew = dataset['vec']\n",
        "ynew = dataset['label']\n",
        "\n",
        "X_train2, X_test2, y_train2, y_test2 = train_test_split(Xnew, ynew, test_size=0.3, random_state=42)"
      ],
      "metadata": {
        "id": "RKq29eWO1ipc"
      },
      "execution_count": 198,
      "outputs": []
    },
    {
      "cell_type": "code",
      "source": [
        "Xnew"
      ],
      "metadata": {
        "colab": {
          "base_uri": "https://localhost:8080/"
        },
        "id": "SLiTNTTa2L7O",
        "outputId": "04a73e13-d394-4cdb-bd74-cccbc0867825"
      },
      "execution_count": 201,
      "outputs": [
        {
          "output_type": "execute_result",
          "data": {
            "text/plain": [
              "2       -0.001301\n",
              "5       -0.007173\n",
              "9       -0.002552\n",
              "10      -0.002442\n",
              "14      -0.002869\n",
              "           ...   \n",
              "38699   -0.004038\n",
              "38705   -0.001291\n",
              "38708   -0.001290\n",
              "38713   -0.005048\n",
              "38716   -0.003584\n",
              "Name: vec, Length: 11549, dtype: float64"
            ]
          },
          "metadata": {},
          "execution_count": 201
        }
      ]
    },
    {
      "cell_type": "code",
      "source": [
        "#tolerance of 1\n",
        "correct_predictions = 0\n",
        "\n",
        "for pred, true in zip(y_predNB, y_test):\n",
        "    if abs(pred - true) <= 1:\n",
        "        correct_predictions += 1\n",
        "\n",
        "accuracyNB2 = correct_predictions / len(y_test)\n",
        "accuracyNB2"
      ],
      "metadata": {
        "colab": {
          "base_uri": "https://localhost:8080/"
        },
        "id": "U_d4hbfCrxip",
        "outputId": "adb5b1fc-3f5e-44b6-c11a-c0875b090446"
      },
      "execution_count": 96,
      "outputs": [
        {
          "output_type": "execute_result",
          "data": {
            "text/plain": [
              "0.3973246565437455"
            ]
          },
          "metadata": {},
          "execution_count": 96
        }
      ]
    },
    {
      "cell_type": "code",
      "source": [
        "y_predNB[:100]"
      ],
      "metadata": {
        "colab": {
          "base_uri": "https://localhost:8080/"
        },
        "id": "uDHmZHCRstG5",
        "outputId": "374acc84-eeb9-4465-8696-fbc676ec6fae"
      },
      "execution_count": 108,
      "outputs": [
        {
          "output_type": "execute_result",
          "data": {
            "text/plain": [
              "array([1, 1, 1, 1, 1, 1, 1, 1, 1, 1, 1, 1, 1, 1, 1, 1, 1, 1, 1, 1, 1, 1,\n",
              "       1, 1, 1, 1, 1, 1, 1, 1, 1, 1, 1, 1, 1, 1, 1, 1, 1, 1, 1, 1, 1, 1,\n",
              "       1, 1, 1, 1, 1, 1, 1, 1, 1, 1, 1, 1, 1, 1, 1, 1, 1, 1, 1, 1, 1, 1,\n",
              "       1, 1, 1, 1, 1, 1, 1, 1, 1, 1, 1, 1, 1, 1, 1, 1, 1, 1, 1, 1, 1, 1,\n",
              "       1, 1, 1, 1, 1, 1, 1, 1, 1, 1, 1, 1])"
            ]
          },
          "metadata": {},
          "execution_count": 108
        }
      ]
    },
    {
      "cell_type": "code",
      "source": [
        "#make vectors only contain values that are non-negative\n",
        "def preprocess_embeddings(embeddings):\n",
        "    min_embedding = np.min(embeddings)\n",
        "    if min_embedding < 0:\n",
        "        embeddings -= min_embedding\n",
        "    return embeddings"
      ],
      "metadata": {
        "id": "fwQV974wmTIH"
      },
      "execution_count": 97,
      "outputs": []
    },
    {
      "cell_type": "code",
      "source": [
        "#make vectors only contain values that are non-negative\n",
        "scaler = MinMaxScaler()\n",
        "X_train_scaled = scaler.fit_transform(X_train1)\n",
        "X_test_scaled = scaler.transform(X_test1)"
      ],
      "metadata": {
        "id": "ijW0ylKGG_C9"
      },
      "execution_count": 100,
      "outputs": []
    },
    {
      "cell_type": "code",
      "source": [
        "naive_bayes1 = MultinomialNB()\n",
        "naive_bayes1.fit(X_train_scaled, y_train1)"
      ],
      "metadata": {
        "colab": {
          "base_uri": "https://localhost:8080/",
          "height": 75
        },
        "id": "5g4DuoHfmzoO",
        "outputId": "93f5946f-070c-4ec7-d283-dda0c51dbdd3"
      },
      "execution_count": 103,
      "outputs": [
        {
          "output_type": "execute_result",
          "data": {
            "text/plain": [
              "MultinomialNB()"
            ],
            "text/html": [
              "<style>#sk-container-id-3 {color: black;background-color: white;}#sk-container-id-3 pre{padding: 0;}#sk-container-id-3 div.sk-toggleable {background-color: white;}#sk-container-id-3 label.sk-toggleable__label {cursor: pointer;display: block;width: 100%;margin-bottom: 0;padding: 0.3em;box-sizing: border-box;text-align: center;}#sk-container-id-3 label.sk-toggleable__label-arrow:before {content: \"▸\";float: left;margin-right: 0.25em;color: #696969;}#sk-container-id-3 label.sk-toggleable__label-arrow:hover:before {color: black;}#sk-container-id-3 div.sk-estimator:hover label.sk-toggleable__label-arrow:before {color: black;}#sk-container-id-3 div.sk-toggleable__content {max-height: 0;max-width: 0;overflow: hidden;text-align: left;background-color: #f0f8ff;}#sk-container-id-3 div.sk-toggleable__content pre {margin: 0.2em;color: black;border-radius: 0.25em;background-color: #f0f8ff;}#sk-container-id-3 input.sk-toggleable__control:checked~div.sk-toggleable__content {max-height: 200px;max-width: 100%;overflow: auto;}#sk-container-id-3 input.sk-toggleable__control:checked~label.sk-toggleable__label-arrow:before {content: \"▾\";}#sk-container-id-3 div.sk-estimator input.sk-toggleable__control:checked~label.sk-toggleable__label {background-color: #d4ebff;}#sk-container-id-3 div.sk-label input.sk-toggleable__control:checked~label.sk-toggleable__label {background-color: #d4ebff;}#sk-container-id-3 input.sk-hidden--visually {border: 0;clip: rect(1px 1px 1px 1px);clip: rect(1px, 1px, 1px, 1px);height: 1px;margin: -1px;overflow: hidden;padding: 0;position: absolute;width: 1px;}#sk-container-id-3 div.sk-estimator {font-family: monospace;background-color: #f0f8ff;border: 1px dotted black;border-radius: 0.25em;box-sizing: border-box;margin-bottom: 0.5em;}#sk-container-id-3 div.sk-estimator:hover {background-color: #d4ebff;}#sk-container-id-3 div.sk-parallel-item::after {content: \"\";width: 100%;border-bottom: 1px solid gray;flex-grow: 1;}#sk-container-id-3 div.sk-label:hover label.sk-toggleable__label {background-color: #d4ebff;}#sk-container-id-3 div.sk-serial::before {content: \"\";position: absolute;border-left: 1px solid gray;box-sizing: border-box;top: 0;bottom: 0;left: 50%;z-index: 0;}#sk-container-id-3 div.sk-serial {display: flex;flex-direction: column;align-items: center;background-color: white;padding-right: 0.2em;padding-left: 0.2em;position: relative;}#sk-container-id-3 div.sk-item {position: relative;z-index: 1;}#sk-container-id-3 div.sk-parallel {display: flex;align-items: stretch;justify-content: center;background-color: white;position: relative;}#sk-container-id-3 div.sk-item::before, #sk-container-id-3 div.sk-parallel-item::before {content: \"\";position: absolute;border-left: 1px solid gray;box-sizing: border-box;top: 0;bottom: 0;left: 50%;z-index: -1;}#sk-container-id-3 div.sk-parallel-item {display: flex;flex-direction: column;z-index: 1;position: relative;background-color: white;}#sk-container-id-3 div.sk-parallel-item:first-child::after {align-self: flex-end;width: 50%;}#sk-container-id-3 div.sk-parallel-item:last-child::after {align-self: flex-start;width: 50%;}#sk-container-id-3 div.sk-parallel-item:only-child::after {width: 0;}#sk-container-id-3 div.sk-dashed-wrapped {border: 1px dashed gray;margin: 0 0.4em 0.5em 0.4em;box-sizing: border-box;padding-bottom: 0.4em;background-color: white;}#sk-container-id-3 div.sk-label label {font-family: monospace;font-weight: bold;display: inline-block;line-height: 1.2em;}#sk-container-id-3 div.sk-label-container {text-align: center;}#sk-container-id-3 div.sk-container {/* jupyter's `normalize.less` sets `[hidden] { display: none; }` but bootstrap.min.css set `[hidden] { display: none !important; }` so we also need the `!important` here to be able to override the default hidden behavior on the sphinx rendered scikit-learn.org. See: https://github.com/scikit-learn/scikit-learn/issues/21755 */display: inline-block !important;position: relative;}#sk-container-id-3 div.sk-text-repr-fallback {display: none;}</style><div id=\"sk-container-id-3\" class=\"sk-top-container\"><div class=\"sk-text-repr-fallback\"><pre>MultinomialNB()</pre><b>In a Jupyter environment, please rerun this cell to show the HTML representation or trust the notebook. <br />On GitHub, the HTML representation is unable to render, please try loading this page with nbviewer.org.</b></div><div class=\"sk-container\" hidden><div class=\"sk-item\"><div class=\"sk-estimator sk-toggleable\"><input class=\"sk-toggleable__control sk-hidden--visually\" id=\"sk-estimator-id-3\" type=\"checkbox\" checked><label for=\"sk-estimator-id-3\" class=\"sk-toggleable__label sk-toggleable__label-arrow\">MultinomialNB</label><div class=\"sk-toggleable__content\"><pre>MultinomialNB()</pre></div></div></div></div></div>"
            ]
          },
          "metadata": {},
          "execution_count": 103
        }
      ]
    },
    {
      "cell_type": "code",
      "source": [
        "y_predNB1 = naive_bayes.predict(X_test_scaled)\n",
        "\n",
        "accuracyNB3 = accuracy_score(y_test1, y_predNB1)\n",
        "accuracyNB3\n",
        "#much better accuracy overall, but likely bc we're just predicting high values"
      ],
      "metadata": {
        "colab": {
          "base_uri": "https://localhost:8080/"
        },
        "id": "UkZl66Gta5_t",
        "outputId": "65dbe746-9c60-450f-d29a-9eeef8a9279a"
      },
      "execution_count": 104,
      "outputs": [
        {
          "output_type": "execute_result",
          "data": {
            "text/plain": [
              "0.561"
            ]
          },
          "metadata": {},
          "execution_count": 104
        }
      ]
    },
    {
      "cell_type": "code",
      "source": [
        "y_predNB1[:100]\n",
        "#just predcting 5?!?!"
      ],
      "metadata": {
        "colab": {
          "base_uri": "https://localhost:8080/"
        },
        "id": "vmhTlxZJrdUA",
        "outputId": "f33fd250-f106-403c-9f71-ea2c8e651ff8"
      },
      "execution_count": 107,
      "outputs": [
        {
          "output_type": "execute_result",
          "data": {
            "text/plain": [
              "array([5, 5, 5, 5, 5, 5, 5, 5, 5, 5, 5, 5, 5, 5, 5, 5, 5, 5, 5, 5, 5, 5,\n",
              "       5, 5, 5, 5, 5, 5, 5, 5, 5, 5, 5, 5, 5, 5, 5, 5, 5, 5, 5, 5, 5, 5,\n",
              "       5, 5, 5, 5, 5, 5, 5, 5, 5, 5, 5, 5, 5, 5, 5, 5, 5, 5, 5, 5, 5, 5,\n",
              "       5, 5, 5, 5, 5, 5, 5, 5, 5, 5, 5, 5, 5, 5, 5, 5, 5, 5, 5, 5, 5, 5,\n",
              "       5, 5, 5, 5, 5, 5, 5, 5, 5, 5, 5, 5])"
            ]
          },
          "metadata": {},
          "execution_count": 107
        }
      ]
    },
    {
      "cell_type": "code",
      "source": [
        "y_test[:10]"
      ],
      "metadata": {
        "colab": {
          "base_uri": "https://localhost:8080/"
        },
        "id": "XDTFxXFKrfw3",
        "outputId": "9fee0ebd-3a5a-4b40-ab36-f43e88a90f25"
      },
      "execution_count": 106,
      "outputs": [
        {
          "output_type": "execute_result",
          "data": {
            "text/plain": [
              "25582    1\n",
              "55141    1\n",
              "48012    5\n",
              "42066    2\n",
              "10169    1\n",
              "48431    5\n",
              "22917    1\n",
              "44334    2\n",
              "54377    4\n",
              "10882    4\n",
              "Name: overall, dtype: int64"
            ]
          },
          "metadata": {},
          "execution_count": 106
        }
      ]
    },
    {
      "cell_type": "code",
      "source": [
        "df['reviewText'][162073]"
      ],
      "metadata": {
        "colab": {
          "base_uri": "https://localhost:8080/",
          "height": 70
        },
        "id": "Zps0NAQqDtb2",
        "outputId": "7d4bf686-e987-4e43-b18a-3528768a5db6"
      },
      "execution_count": 109,
      "outputs": [
        {
          "output_type": "execute_result",
          "data": {
            "text/plain": [
              "'I have purchase a few smartphone dash mount and are still looking for the right one. This one have a great concept using a claw grip but every time I put the phone on it will just sag down, even though i have tightening it enough. I just kept moving the phone up it will just come back down. If they make the bearing better it will be the best dash mount ever.I have read all of the reviews and are not sure if the one I got is broken and does not hold well but i do not think it will last long.'"
            ],
            "application/vnd.google.colaboratory.intrinsic+json": {
              "type": "string"
            }
          },
          "metadata": {},
          "execution_count": 109
        }
      ]
    },
    {
      "cell_type": "code",
      "source": [
        "df['overall'][162073]"
      ],
      "metadata": {
        "colab": {
          "base_uri": "https://localhost:8080/"
        },
        "id": "Kt9htiroD6NK",
        "outputId": "9a15d2b4-a6dd-46b8-c93f-e51313da2448"
      },
      "execution_count": 110,
      "outputs": [
        {
          "output_type": "execute_result",
          "data": {
            "text/plain": [
              "1"
            ]
          },
          "metadata": {},
          "execution_count": 110
        }
      ]
    },
    {
      "cell_type": "code",
      "source": [
        "#tolerance of 1 (e.g. a prediction of 4 when the real value was 5 will be marked correct)\n",
        "correct_predictions = 0\n",
        "\n",
        "for pred, true in zip(y_predNB, y_test):\n",
        "    if abs(pred - true) <= 1:\n",
        "        correct_predictions += 1\n",
        "\n",
        "accuracyNB4 = correct_predictions / len(y_test)\n",
        "accuracyNB4"
      ],
      "metadata": {
        "colab": {
          "base_uri": "https://localhost:8080/"
        },
        "id": "LtlHripztTY-",
        "outputId": "2871fc5b-578d-4346-9cfd-f542068b0598"
      },
      "execution_count": 112,
      "outputs": [
        {
          "output_type": "execute_result",
          "data": {
            "text/plain": [
              "0.3973246565437455"
            ]
          },
          "metadata": {},
          "execution_count": 112
        }
      ]
    },
    {
      "cell_type": "code",
      "source": [
        "review1 = 'Bad, do not buy this product. It is not worth it. I will never allow anyone I know to purchase this product. Horrible, terrible, awful.'\n",
        "#'This product is amazing. I would highly recommend it to everyone!!'\n",
        "#'This product is okay. It does the job fine I guess.'\n",
        "#'Bad, do not buy this product. It is not worth it. I will never allow anyone I know to purchase this product. Horrible, terrible, awful.'\n",
        "\n",
        "#review1= text_to_vector(review1)\n",
        "#review1 = review1.reshape(1, -1)"
      ],
      "metadata": {
        "id": "NX1UDp2gWXPX"
      },
      "execution_count": 114,
      "outputs": []
    },
    {
      "cell_type": "code",
      "source": [
        "review1_vector = text_to_vector(review1)\n",
        "review1_vector = review1_vector.reshape(1, -1)"
      ],
      "metadata": {
        "id": "uuyHWNMkkX4d"
      },
      "execution_count": 115,
      "outputs": []
    },
    {
      "cell_type": "code",
      "source": [
        "naive_bayes.predict(review1_vector)"
      ],
      "metadata": {
        "colab": {
          "base_uri": "https://localhost:8080/"
        },
        "id": "lSx94svDX9oF",
        "outputId": "4d92212b-3a6f-4c30-b531-f1bc48f1268e"
      },
      "execution_count": 116,
      "outputs": [
        {
          "output_type": "execute_result",
          "data": {
            "text/plain": [
              "array([4])"
            ]
          },
          "metadata": {},
          "execution_count": 116
        }
      ]
    },
    {
      "cell_type": "markdown",
      "source": [
        "## Random Forest"
      ],
      "metadata": {
        "id": "WuI2oKV26oc-"
      }
    },
    {
      "cell_type": "code",
      "source": [
        "from sklearn.model_selection import GridSearchCV\n",
        "from sklearn.ensemble import RandomForestClassifier"
      ],
      "metadata": {
        "id": "dReoUe9f7DRV"
      },
      "execution_count": 203,
      "outputs": []
    },
    {
      "cell_type": "code",
      "source": [
        "rf_classifier = RandomForestClassifier()\n",
        "\n",
        "#grid search hyperparameters\n",
        "param_grid = {\n",
        "    'n_estimators': [100, 200, 300],\n",
        "    'max_depth': [None, 10, 20],\n",
        "    'min_samples_split': [2, 5, 10]\n",
        "}\n",
        "\n",
        "grid_search = GridSearchCV(estimator=rf_classifier, param_grid=param_grid, cv=2, scoring='accuracy', verbose=2)\n",
        "grid_search.fit(X_train, y_train)\n",
        "\n",
        "best_params = grid_search.best_params_\n",
        "best_score = grid_search.best_score_\n",
        "print(\"Best Parameters:\", best_params)\n",
        "print(\"Best Score:\", best_score)"
      ],
      "metadata": {
        "colab": {
          "base_uri": "https://localhost:8080/"
        },
        "id": "G_IN8uNz7AWu",
        "outputId": "2d28d2ad-4acb-4fc2-de70-6b2adb00e750"
      },
      "execution_count": null,
      "outputs": [
        {
          "output_type": "stream",
          "name": "stdout",
          "text": [
            "Fitting 2 folds for each of 27 candidates, totalling 54 fits\n",
            "[CV] END max_depth=None, min_samples_split=2, n_estimators=100; total time=   3.8s\n",
            "[CV] END max_depth=None, min_samples_split=2, n_estimators=100; total time=   4.6s\n",
            "[CV] END max_depth=None, min_samples_split=2, n_estimators=200; total time=   7.4s\n",
            "[CV] END max_depth=None, min_samples_split=2, n_estimators=200; total time=   8.3s\n",
            "[CV] END max_depth=None, min_samples_split=2, n_estimators=300; total time=  11.8s\n",
            "[CV] END max_depth=None, min_samples_split=2, n_estimators=300; total time=  11.8s\n",
            "[CV] END max_depth=None, min_samples_split=5, n_estimators=100; total time=   3.6s\n",
            "[CV] END max_depth=None, min_samples_split=5, n_estimators=100; total time=   3.7s\n",
            "[CV] END max_depth=None, min_samples_split=5, n_estimators=200; total time=   7.8s\n",
            "[CV] END max_depth=None, min_samples_split=5, n_estimators=200; total time=   8.1s\n",
            "[CV] END max_depth=None, min_samples_split=5, n_estimators=300; total time=  11.5s\n",
            "[CV] END max_depth=None, min_samples_split=5, n_estimators=300; total time=  11.2s\n",
            "[CV] END max_depth=None, min_samples_split=10, n_estimators=100; total time=   3.9s\n",
            "[CV] END max_depth=None, min_samples_split=10, n_estimators=100; total time=   3.6s\n",
            "[CV] END max_depth=None, min_samples_split=10, n_estimators=200; total time=   7.8s\n",
            "[CV] END max_depth=None, min_samples_split=10, n_estimators=200; total time=   7.0s\n",
            "[CV] END max_depth=None, min_samples_split=10, n_estimators=300; total time=  11.2s\n",
            "[CV] END max_depth=None, min_samples_split=10, n_estimators=300; total time=  11.7s\n",
            "[CV] END max_depth=10, min_samples_split=2, n_estimators=100; total time=   2.9s\n",
            "[CV] END max_depth=10, min_samples_split=2, n_estimators=100; total time=   3.7s\n",
            "[CV] END max_depth=10, min_samples_split=2, n_estimators=200; total time=   5.9s\n",
            "[CV] END max_depth=10, min_samples_split=2, n_estimators=200; total time=   6.5s\n",
            "[CV] END max_depth=10, min_samples_split=2, n_estimators=300; total time=   8.9s\n",
            "[CV] END max_depth=10, min_samples_split=2, n_estimators=300; total time=   9.6s\n",
            "[CV] END max_depth=10, min_samples_split=5, n_estimators=100; total time=   2.9s\n",
            "[CV] END max_depth=10, min_samples_split=5, n_estimators=100; total time=   3.4s\n",
            "[CV] END max_depth=10, min_samples_split=5, n_estimators=200; total time=   6.2s\n",
            "[CV] END max_depth=10, min_samples_split=5, n_estimators=200; total time=   6.2s\n",
            "[CV] END max_depth=10, min_samples_split=5, n_estimators=300; total time=   9.1s\n",
            "[CV] END max_depth=10, min_samples_split=5, n_estimators=300; total time=   9.5s\n",
            "[CV] END max_depth=10, min_samples_split=10, n_estimators=100; total time=   2.9s\n",
            "[CV] END max_depth=10, min_samples_split=10, n_estimators=100; total time=   3.1s\n",
            "[CV] END max_depth=10, min_samples_split=10, n_estimators=200; total time=   6.4s\n",
            "[CV] END max_depth=10, min_samples_split=10, n_estimators=200; total time=   6.0s\n",
            "[CV] END max_depth=10, min_samples_split=10, n_estimators=300; total time=   9.5s\n",
            "[CV] END max_depth=10, min_samples_split=10, n_estimators=300; total time=   9.4s\n",
            "[CV] END max_depth=20, min_samples_split=2, n_estimators=100; total time=   3.6s\n",
            "[CV] END max_depth=20, min_samples_split=2, n_estimators=100; total time=   4.2s\n",
            "[CV] END max_depth=20, min_samples_split=2, n_estimators=200; total time=   7.4s\n",
            "[CV] END max_depth=20, min_samples_split=2, n_estimators=200; total time=   8.2s\n",
            "[CV] END max_depth=20, min_samples_split=2, n_estimators=300; total time=  11.8s\n",
            "[CV] END max_depth=20, min_samples_split=2, n_estimators=300; total time=  11.9s\n",
            "[CV] END max_depth=20, min_samples_split=5, n_estimators=100; total time=   3.6s\n",
            "[CV] END max_depth=20, min_samples_split=5, n_estimators=100; total time=   3.6s\n",
            "[CV] END max_depth=20, min_samples_split=5, n_estimators=200; total time=   8.0s\n",
            "[CV] END max_depth=20, min_samples_split=5, n_estimators=200; total time=   7.6s\n",
            "[CV] END max_depth=20, min_samples_split=5, n_estimators=300; total time=  11.5s\n",
            "[CV] END max_depth=20, min_samples_split=5, n_estimators=300; total time=  11.7s\n",
            "[CV] END max_depth=20, min_samples_split=10, n_estimators=100; total time=   4.3s\n",
            "[CV] END max_depth=20, min_samples_split=10, n_estimators=100; total time=   3.6s\n",
            "[CV] END max_depth=20, min_samples_split=10, n_estimators=200; total time=   7.2s\n",
            "[CV] END max_depth=20, min_samples_split=10, n_estimators=200; total time=   7.5s\n",
            "[CV] END max_depth=20, min_samples_split=10, n_estimators=300; total time=  11.3s\n",
            "[CV] END max_depth=20, min_samples_split=10, n_estimators=300; total time=  11.5s\n",
            "Best Parameters: {'max_depth': None, 'min_samples_split': 2, 'n_estimators': 300}\n",
            "Best Score: 0.5681428571428571\n"
          ]
        }
      ]
    },
    {
      "cell_type": "code",
      "source": [
        "best_rf_classifier = grid_search.best_estimator_\n",
        "y_predRF = best_rf_classifier.predict(X_test)"
      ],
      "metadata": {
        "id": "B3h84F3C7Kvk"
      },
      "execution_count": null,
      "outputs": []
    },
    {
      "cell_type": "code",
      "source": [
        "accuracyRF = accuracy_score(y_test, y_predRF)\n",
        "accuracyRF"
      ],
      "metadata": {
        "id": "yduj7rJ57k1Z",
        "colab": {
          "base_uri": "https://localhost:8080/"
        },
        "outputId": "94f353a1-ecd4-417b-bba0-3746a3b8a249"
      },
      "execution_count": null,
      "outputs": [
        {
          "output_type": "execute_result",
          "data": {
            "text/plain": [
              "0.5483333333333333"
            ]
          },
          "metadata": {},
          "execution_count": 126
        }
      ]
    },
    {
      "cell_type": "code",
      "source": [
        "#tolerance of 1 (e.g. a prediction of 4 when the real value was 5 will be marked correct)\n",
        "correct_predictionsRF = 0\n",
        "\n",
        "for pred, true in zip(y_predRF, y_test):\n",
        "    if abs(pred - true) <= 1:\n",
        "        correct_predictionsRF += 1\n",
        "\n",
        "accuracyRF2 = correct_predictionsRF / len(y_test)\n",
        "accuracyRF2\n",
        "#RF is often 1 off from the true value (if it were high-medium-low instead of 1-5, rf would do quite well)"
      ],
      "metadata": {
        "colab": {
          "base_uri": "https://localhost:8080/"
        },
        "id": "D0uvItX_iB8L",
        "outputId": "6b7e3bdd-7e54-4373-8b53-67ff92bf781e"
      },
      "execution_count": null,
      "outputs": [
        {
          "output_type": "execute_result",
          "data": {
            "text/plain": [
              "0.7813333333333333"
            ]
          },
          "metadata": {},
          "execution_count": 127
        }
      ]
    },
    {
      "cell_type": "code",
      "source": [
        "best_rf_classifier.predict(review1)"
      ],
      "metadata": {
        "colab": {
          "base_uri": "https://localhost:8080/"
        },
        "id": "k6gK13sWa5nO",
        "outputId": "87224c6d-201a-4709-ed39-b9562ce96e04"
      },
      "execution_count": null,
      "outputs": [
        {
          "output_type": "execute_result",
          "data": {
            "text/plain": [
              "array([5])"
            ]
          },
          "metadata": {},
          "execution_count": 133
        }
      ]
    },
    {
      "cell_type": "markdown",
      "source": [
        "## RNN using LSTM"
      ],
      "metadata": {
        "id": "1yCKQDj4m8iH"
      }
    },
    {
      "cell_type": "code",
      "source": [
        "max_length = subset_df['reviewText'].str.len().max()\n",
        "X_train = pad_sequences(X_train, maxlen=max_length)\n",
        "X_test = pad_sequences(X_test, maxlen=max_length)"
      ],
      "metadata": {
        "id": "tYOXzjVQY8DT"
      },
      "execution_count": null,
      "outputs": []
    },
    {
      "cell_type": "code",
      "source": [
        "X_train.dtype"
      ],
      "metadata": {
        "colab": {
          "base_uri": "https://localhost:8080/"
        },
        "id": "SWv_pCD7UUI8",
        "outputId": "b5e5c824-c7d0-4c2b-ae02-e609deaa7921"
      },
      "execution_count": null,
      "outputs": [
        {
          "output_type": "execute_result",
          "data": {
            "text/plain": [
              "dtype('int32')"
            ]
          },
          "metadata": {},
          "execution_count": 57
        }
      ]
    },
    {
      "cell_type": "code",
      "source": [
        "subset_df['reviewText'].dtypes"
      ],
      "metadata": {
        "colab": {
          "base_uri": "https://localhost:8080/"
        },
        "id": "2izPuMJBUULV",
        "outputId": "3a230bd0-b38e-4835-ff29-e7ec65107af0"
      },
      "execution_count": null,
      "outputs": [
        {
          "output_type": "execute_result",
          "data": {
            "text/plain": [
              "dtype('O')"
            ]
          },
          "metadata": {},
          "execution_count": 58
        }
      ]
    },
    {
      "cell_type": "code",
      "source": [
        "vocab_size = len(model.wv.index_to_key)\n",
        "embedding_dim = model.vector_size\n",
        "num_classes = len(subset_df['overall'].unique())"
      ],
      "metadata": {
        "id": "dneAo5AmnZSS"
      },
      "execution_count": null,
      "outputs": []
    },
    {
      "cell_type": "code",
      "source": [
        "modelLSTM = Sequential()\n",
        "modelLSTM.add(Embedding(input_dim=vocab_size, output_dim=embedding_dim, input_length=max_length))\n",
        "modelLSTM.add(LSTM(units=100))\n",
        "modelLSTM.add(Dense(units=num_classes, activation='softmax'))"
      ],
      "metadata": {
        "id": "MvcSaersNDw7"
      },
      "execution_count": null,
      "outputs": []
    },
    {
      "cell_type": "code",
      "source": [
        "y_train_adjusted = y_train - 1\n",
        "y_test_adjusted = y_test - 1"
      ],
      "metadata": {
        "id": "tBjZVgJsou3U"
      },
      "execution_count": null,
      "outputs": []
    },
    {
      "cell_type": "code",
      "source": [
        "modelLSTM.compile(optimizer='adam', loss='sparse_categorical_crossentropy', metrics=['accuracy'])\n",
        "modelLSTM.fit(X_train, y_train_adjusted, epochs=5, batch_size=32, validation_data=(X_test, y_test_adjusted))"
      ],
      "metadata": {
        "colab": {
          "base_uri": "https://localhost:8080/"
        },
        "id": "xBWgG4XXnuhX",
        "outputId": "0665363c-65ad-45cc-f7c4-1acb03ccf9f0"
      },
      "execution_count": null,
      "outputs": [
        {
          "output_type": "stream",
          "name": "stdout",
          "text": [
            "Epoch 1/5\n",
            " 11/219 [>.............................] - ETA: 7:37:04 - loss: 1.5533 - accuracy: 0.5114"
          ]
        }
      ]
    },
    {
      "cell_type": "code",
      "source": [
        "modelLSTM.evaluate(X_test,y_test)"
      ],
      "metadata": {
        "id": "jgjH9i-gn9N1"
      },
      "execution_count": null,
      "outputs": []
    },
    {
      "cell_type": "code",
      "source": [
        "predictionsLSTM = modelLSTM.predict(X_test) + 1\n",
        "np.argmax(predictionsLSTM[1])"
      ],
      "metadata": {
        "id": "JV9XziNEoE4O"
      },
      "execution_count": null,
      "outputs": []
    },
    {
      "cell_type": "code",
      "source": [
        "y_test[1]"
      ],
      "metadata": {
        "id": "0D8XFXqzoKvl"
      },
      "execution_count": null,
      "outputs": []
    },
    {
      "cell_type": "markdown",
      "source": [
        "# Auto Complete"
      ],
      "metadata": {
        "id": "d7DHLYlGjdu9"
      }
    },
    {
      "cell_type": "code",
      "source": [
        "#convert text into numerical sequences\n",
        "def text_to_sequence(text, model):\n",
        "    words = text.split()\n",
        "    sequence = [model.key_to_index[word] for word in words if word in model.key_to_index]\n",
        "    return sequence"
      ],
      "metadata": {
        "id": "8gheHThdjtQU"
      },
      "execution_count": null,
      "outputs": []
    },
    {
      "cell_type": "code",
      "source": [
        "max_sequence_length = subset_df['reviewText'].str.len().max()\n",
        "\n",
        "X_sequences = [text_to_sequence(text, model.wv) for text in subset_df['reviewText']]\n",
        "X_padded = pad_sequences(X_sequences, maxlen=max_sequence_length, padding='post')\n",
        "\n",
        "X_sequences = np.array(X_padded)\n",
        "X_sequences"
      ],
      "metadata": {
        "colab": {
          "base_uri": "https://localhost:8080/"
        },
        "id": "geVk0GCMlonD",
        "outputId": "f0cc2858-e482-4e24-b5f5-9912fee61ab8"
      },
      "execution_count": null,
      "outputs": [
        {
          "output_type": "execute_result",
          "data": {
            "text/plain": [
              "array([[   7,  113,    8, ...,    0,    0,    0],\n",
              "       [ 921,    4,  334, ...,    0,    0,    0],\n",
              "       [   6,   36,    0, ...,    0,    0,    0],\n",
              "       ...,\n",
              "       [   4, 2241, 2408, ...,    0,    0,    0],\n",
              "       [ 694,  258,   56, ...,    0,    0,    0],\n",
              "       [  19, 2519,  489, ...,    0,    0,    0]], dtype=int32)"
            ]
          },
          "metadata": {},
          "execution_count": 51
        }
      ]
    },
    {
      "cell_type": "code",
      "source": [
        "X_sequences.shape"
      ],
      "metadata": {
        "colab": {
          "base_uri": "https://localhost:8080/"
        },
        "id": "5gt1o4O7m7Pr",
        "outputId": "00a8ce25-1bc8-446e-808b-45b6476ba465"
      },
      "execution_count": null,
      "outputs": [
        {
          "output_type": "execute_result",
          "data": {
            "text/plain": [
              "(10000, 25435)"
            ]
          },
          "metadata": {},
          "execution_count": 59
        }
      ]
    },
    {
      "cell_type": "code",
      "source": [
        "X_train1, X_test1, y_train1, y_test1 = train_test_split(X_sequences, y, test_size=0.3, random_state=42)"
      ],
      "metadata": {
        "id": "Gckw2OwHnKCn"
      },
      "execution_count": null,
      "outputs": []
    },
    {
      "cell_type": "code",
      "source": [
        "vocab_size = len(model.wv.index_to_key)\n",
        "embedding_dim = model.vector_size\n",
        "#num_classes = len(subset_df['overall'].unique())"
      ],
      "metadata": {
        "id": "31nKFM0XmrYX"
      },
      "execution_count": null,
      "outputs": []
    },
    {
      "cell_type": "code",
      "source": [
        "model_rnn = Sequential()\n",
        "model_rnn.add(Embedding(input_dim=vocab_size, output_dim=embedding_dim, input_length=max_sequence_length))\n",
        "model_rnn.add(LSTM(units=100, return_sequences=True))\n",
        "model_rnn.add(LSTM(units=100))\n",
        "model_rnn.add(Dense(vocab_size, activation='softmax'))"
      ],
      "metadata": {
        "id": "Lm5gf7Q1jtVd"
      },
      "execution_count": null,
      "outputs": []
    },
    {
      "cell_type": "code",
      "source": [
        "model_rnn.compile(optimizer='adam', loss='sparse_categorical_crossentropy', metrics=['accuracy'])"
      ],
      "metadata": {
        "id": "uOFO5aHKmhiR"
      },
      "execution_count": null,
      "outputs": []
    },
    {
      "cell_type": "code",
      "source": [
        "print(model_rnn.summary())"
      ],
      "metadata": {
        "colab": {
          "base_uri": "https://localhost:8080/"
        },
        "id": "2AUJL2V8jtX7",
        "outputId": "2a573a7f-26a6-4537-f5ba-260d6c80be44"
      },
      "execution_count": null,
      "outputs": [
        {
          "output_type": "stream",
          "name": "stdout",
          "text": [
            "Model: \"sequential_1\"\n",
            "_________________________________________________________________\n",
            " Layer (type)                Output Shape              Param #   \n",
            "=================================================================\n",
            " embedding (Embedding)       (None, 25435, 100)        994000    \n",
            "                                                                 \n",
            " lstm (LSTM)                 (None, 25435, 100)        80400     \n",
            "                                                                 \n",
            " lstm_1 (LSTM)               (None, 100)               80400     \n",
            "                                                                 \n",
            " dense (Dense)               (None, 9940)              1003940   \n",
            "                                                                 \n",
            "=================================================================\n",
            "Total params: 2158740 (8.23 MB)\n",
            "Trainable params: 2158740 (8.23 MB)\n",
            "Non-trainable params: 0 (0.00 Byte)\n",
            "_________________________________________________________________\n",
            "None\n"
          ]
        }
      ]
    },
    {
      "cell_type": "code",
      "source": [
        "#not enough RAM :(, could use a HMM instead\n",
        "#history = model_rnn.fit(X_train1, y_train1, epochs=5, batch_size=32, validation_split=0.1)"
      ],
      "metadata": {
        "colab": {
          "base_uri": "https://localhost:8080/"
        },
        "id": "5iUpUCy9jtaj",
        "outputId": "709f950c-54c4-477e-a498-81bd59b6a99f"
      },
      "execution_count": null,
      "outputs": [
        {
          "output_type": "stream",
          "name": "stdout",
          "text": [
            "Epoch 1/10\n"
          ]
        }
      ]
    }
  ]
}